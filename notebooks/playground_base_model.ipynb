{
 "cells": [
  {
   "cell_type": "code",
   "execution_count": 211,
   "metadata": {
    "pycharm": {
     "name": "#%%\n"
    }
   },
   "outputs": [
    {
     "name": "stdout",
     "output_type": "stream",
     "text": [
      "The autoreload extension is already loaded. To reload it, use:\n",
      "  %reload_ext autoreload\n"
     ]
    }
   ],
   "source": [
    "%load_ext autoreload\n",
    "%autoreload 2"
   ]
  },
  {
   "cell_type": "code",
   "execution_count": 212,
   "metadata": {
    "pycharm": {
     "name": "#%%\n"
    }
   },
   "outputs": [],
   "source": [
    "import matplotlib.pyplot as plt\n",
    "import os, shutil\n",
    "os.environ[\"CUDA_VISIBLE_DEVICES\"]=\"-1\"\n",
    "\n",
    "from KAGGLE_NLP_with_disaster_tweets.model import base_model, utils, constants\n",
    "from KAGGLE_NLP_with_disaster_tweets.data_preparation.utils import DataPipeline, BatchPipeline\n",
    "\n",
    "os.environ[\"CUDA_VISIBLE_DEVICES\"]=\"-1\"\n",
    "\n",
    "log_dir = './logs/hyperparameter_tuning_BaseModelOpt/'\n",
    "\n",
    " # clearing logging directory\n",
    "if os.path.exists(log_dir):\n",
    "    shutil.rmtree(log_dir)\n",
    "else:\n",
    "    os.makedirs(log_dir)"
   ]
  },
  {
   "cell_type": "code",
   "execution_count": 213,
   "metadata": {
    "pycharm": {
     "name": "#%%\n"
    }
   },
   "outputs": [
    {
     "name": "stdout",
     "output_type": "stream",
     "text": [
      "Getting the file: ../data/sample_submission.csv\n",
      "Getting the file: ../data/train.csv\n",
      "Dataframe size before eliminating too short texts: 7613\n",
      "Dataframe size after eliminating too short texts: 7529\n",
      "         id keyword location  \\\n",
      "0         1                    \n",
      "1         4                    \n",
      "2         5                    \n",
      "3         6                    \n",
      "4         7                    \n",
      "...     ...     ...      ...   \n",
      "7608  10869                    \n",
      "7609  10870                    \n",
      "7610  10871                    \n",
      "7611  10872                    \n",
      "7612  10873                    \n",
      "\n",
      "                                                   text  target  \n",
      "0     our deeds are the reason of this earthquake ma...       1  \n",
      "1                 forest fire near la ronge sask canada       1  \n",
      "2     all residents asked to shelter in place are be...       1  \n",
      "3     13  0 people receive wildfires evacuation orde...       1  \n",
      "4     just got sent this photo from ruby alaska as s...       1  \n",
      "...                                                 ...     ...  \n",
      "7608  two giant cranes holding a bridge collapse int...       1  \n",
      "7609  user user the out of control wild fires in cal...       1  \n",
      "7610   m 1  94 0 1  04 utc 5 km s of volcano hawaii url       1  \n",
      "7611  police investigating after an ebike collided w...       1  \n",
      "7612  the latest more homes razed by northern califo...       1  \n",
      "\n",
      "[7529 rows x 5 columns]\n",
      "Vocabulary size of the vectorizer: 17573\n",
      "-----------------------------------------------------------------------------------------\n",
      "Dataset \n",
      "Size: 7529 data points\n",
      "Dataset examples:\n",
      "Input: [ 136 6400   24    3  948    8   21  176  163 1997 6138   81   45    0\n",
      "    0    0    0    0    0    0    0    0    0    0    0    0    0    0\n",
      "    0    0]\n",
      "Target: [0. 1.]\n",
      "Input: [ 112   28  419  641 9614 9433  479    0    0    0    0    0    0    0\n",
      "    0    0    0    0    0    0    0    0    0    0    0    0    0    0\n",
      "    0    0]\n",
      "Target: [0. 1.]\n",
      "Input: [   45  1857  1789     7  2069     6   740    24   155 11038    20  1877\n",
      "    43   547   171    68  2069     6   740  1475    24  1175     0     0\n",
      "     0     0     0     0     0     0]\n",
      "Target: [0. 1.]\n",
      "-----------------------------------------------------------------------------------------\n"
     ]
    }
   ],
   "source": [
    "train_file_name = 'train.csv'\n",
    "kaggle_test_file_name = 'test.csv'\n",
    "sample_submission_file_name = 'sample_submission.csv'\n",
    "\n",
    "max_vocabulary_size = 20000\n",
    "glove_embedding_dim = 200\n",
    "\n",
    "data_pipeline = DataPipeline(train_file_name, kaggle_test_file_name, sample_submission_file_name,\n",
    "                             max_vocabulary_size=max_vocabulary_size,\n",
    "                             output_sequence_length=30,\n",
    "                             glove_embedding_dim=glove_embedding_dim,\n",
    "                             glove_url=constants.glove_url['twitter.27B'])\n",
    "dataset = data_pipeline.prepare_train_dataset(include_cols=[\"keyword\", \"location\"], extract_extras=True)"
   ]
  },
  {
   "cell_type": "code",
   "execution_count": 214,
   "metadata": {
    "pycharm": {
     "name": "#%%\n"
    }
   },
   "outputs": [
    {
     "name": "stdout",
     "output_type": "stream",
     "text": [
      "True instances: 3258 | 43.272678974631425% of data\n",
      "False instances: 4271 | 56.727321025368575% of data\n"
     ]
    }
   ],
   "source": [
    "dataframe = data_pipeline.dataframe\n",
    "isTrueCount = dataframe[\"target\"].where(dataframe[\"target\"] == 1).count()\n",
    "isFalseCount = dataframe[\"target\"].where(dataframe[\"target\"] == 0).count()\n",
    "print(f\"True instances: {isTrueCount} | {100 * isTrueCount / (isTrueCount + isFalseCount)}% of data\")\n",
    "print(f\"False instances: {isFalseCount} | {100 * isFalseCount / (isTrueCount + isFalseCount)}% of data\")"
   ]
  },
  {
   "cell_type": "code",
   "execution_count": 215,
   "metadata": {
    "pycharm": {
     "name": "#%%\n"
    }
   },
   "outputs": [],
   "source": [
    "balanced_class_weights = utils.get_balanced_class_weights(dataframe)"
   ]
  },
  {
   "cell_type": "code",
   "execution_count": 216,
   "metadata": {
    "pycharm": {
     "name": "#%%\n"
    }
   },
   "outputs": [],
   "source": [
    "from tensorboard.plugins.hparams import api as hp\n",
    "\n",
    "epochs = 15\n",
    "log_directory = \"./logs/hyperparameter_tuning_BaseModel/\"\n",
    "\n",
    "# create a dict to keep the hyperparameters\n",
    "hparams = {\n",
    "    hp.HParam(\"optimizer\", hp.Discrete([\"adamw\"])): \"adamw\",\n",
    "    hp.HParam(\"batch_size\", hp.Discrete([16, 32, 64])): 64,\n",
    "    hp.HParam(\"learning_rate\", hp.Discrete([1e-3, 1e-4])): 1e-4,\n",
    "    hp.HParam(\"class_weights\", hp.Discrete([\"none\", \"balanced\"])): \"none\",\n",
    "    hp.HParam(\"dropout\", hp.Discrete([0.1, 0.4])): 0.1\n",
    "}\n",
    "# easier to manage hyperparameters with this wrapper class\n",
    "hyperparameter_manager = utils.HyperparameterManager(hparams=hparams)"
   ]
  },
  {
   "cell_type": "code",
   "execution_count": 217,
   "metadata": {
    "pycharm": {
     "name": "#%%\n"
    }
   },
   "outputs": [
    {
     "name": "stdout",
     "output_type": "stream",
     "text": [
      "Loading the file: glove.twitter.27B.200d.txt \n",
      "\n",
      "Found 1193514 word vectors \n",
      "\n",
      "Converted 12866 words, and missed 4707 words.\n",
      "Model: \"sequential_18\"\n",
      "_________________________________________________________________\n",
      " Layer (type)                Output Shape              Param #   \n",
      "=================================================================\n",
      " embedding_18 (Embedding)    (None, None, 200)         3514600   \n",
      "                                                                 \n",
      " dropout_36 (Dropout)        (None, None, 200)         0         \n",
      "                                                                 \n",
      " bidirectional_39 (Bidirecti  (None, None, 256)        336896    \n",
      " onal)                                                           \n",
      "                                                                 \n",
      " bidirectional_40 (Bidirecti  (None, None, 128)        164352    \n",
      " onal)                                                           \n",
      "                                                                 \n",
      " dense_36 (Dense)            (None, None, 64)          8256      \n",
      "                                                                 \n",
      " global_average_pooling1d_18  (None, 64)               0         \n",
      "  (GlobalAveragePooling1D)                                       \n",
      "                                                                 \n",
      " dropout_37 (Dropout)        (None, 64)                0         \n",
      "                                                                 \n",
      " dense_37 (Dense)            (None, 2)                 130       \n",
      "                                                                 \n",
      "=================================================================\n",
      "Total params: 4,024,234\n",
      "Trainable params: 509,634\n",
      "Non-trainable params: 3,514,600\n",
      "_________________________________________________________________\n",
      "None\n"
     ]
    }
   ],
   "source": [
    "model = base_model.BaseModel(\n",
    "    vocabulary_size=data_pipeline.vocabulary_size,\n",
    "    embedding_dim=data_pipeline.glove_embedding_dim,\n",
    "    lstm_dims=[128, 64],\n",
    "    hidden_dim=64,\n",
    "    num_classes=2,\n",
    "    epochs=epochs,\n",
    "    batch_pipeline=BatchPipeline(dataset, hyperparameter_manager.batch_size),\n",
    "    hparam_manager=hyperparameter_manager,\n",
    "    embeddings_initializer=data_pipeline.build_embeddings_initializer())"
   ]
  },
  {
   "cell_type": "markdown",
   "metadata": {},
   "source": [
    "## Overfitting for sanity check"
   ]
  },
  {
   "cell_type": "code",
   "execution_count": 218,
   "metadata": {
    "pycharm": {
     "name": "#%%\n"
    }
   },
   "outputs": [
    {
     "name": "stdout",
     "output_type": "stream",
     "text": [
      "Epoch 1/20\n",
      "1/1 [==============================] - 7s 7s/step - loss: 0.7378 - accuracy: 0.0000e+00 - val_loss: 0.7412 - val_accuracy: 0.0000e+00\n",
      "Epoch 2/20\n",
      "1/1 [==============================] - 0s 184ms/step - loss: 0.7325 - accuracy: 0.0000e+00 - val_loss: 0.7411 - val_accuracy: 0.0000e+00\n",
      "Epoch 3/20\n",
      "1/1 [==============================] - 0s 182ms/step - loss: 0.7344 - accuracy: 0.0000e+00 - val_loss: 0.7409 - val_accuracy: 0.0000e+00\n",
      "Epoch 4/20\n",
      "1/1 [==============================] - 0s 185ms/step - loss: 0.7464 - accuracy: 0.0000e+00 - val_loss: 0.7405 - val_accuracy: 0.0000e+00\n",
      "Epoch 5/20\n",
      "1/1 [==============================] - 0s 174ms/step - loss: 0.7464 - accuracy: 0.0000e+00 - val_loss: 0.7401 - val_accuracy: 0.0000e+00\n",
      "Epoch 6/20\n",
      "1/1 [==============================] - 0s 195ms/step - loss: 0.7387 - accuracy: 0.0000e+00 - val_loss: 0.7396 - val_accuracy: 0.0000e+00\n",
      "Epoch 7/20\n",
      "1/1 [==============================] - 0s 179ms/step - loss: 0.7353 - accuracy: 0.0000e+00 - val_loss: 0.7389 - val_accuracy: 0.0000e+00\n",
      "Epoch 8/20\n",
      "1/1 [==============================] - 0s 161ms/step - loss: 0.7448 - accuracy: 0.0000e+00 - val_loss: 0.7381 - val_accuracy: 0.0000e+00\n",
      "Epoch 9/20\n",
      "1/1 [==============================] - 0s 155ms/step - loss: 0.7324 - accuracy: 0.0000e+00 - val_loss: 0.7373 - val_accuracy: 0.0000e+00\n",
      "Epoch 10/20\n",
      "1/1 [==============================] - 0s 173ms/step - loss: 0.7320 - accuracy: 0.0000e+00 - val_loss: 0.7363 - val_accuracy: 0.0000e+00\n",
      "Epoch 11/20\n",
      "1/1 [==============================] - 0s 169ms/step - loss: 0.7221 - accuracy: 0.0000e+00 - val_loss: 0.7352 - val_accuracy: 0.0000e+00\n",
      "Epoch 12/20\n",
      "1/1 [==============================] - 0s 161ms/step - loss: 0.7417 - accuracy: 0.0000e+00 - val_loss: 0.7340 - val_accuracy: 0.0000e+00\n",
      "Epoch 13/20\n",
      "1/1 [==============================] - 0s 155ms/step - loss: 0.7346 - accuracy: 0.0000e+00 - val_loss: 0.7328 - val_accuracy: 0.0000e+00\n",
      "Epoch 14/20\n",
      "1/1 [==============================] - 0s 170ms/step - loss: 0.7289 - accuracy: 0.0000e+00 - val_loss: 0.7314 - val_accuracy: 0.0000e+00\n",
      "Epoch 15/20\n",
      "1/1 [==============================] - 0s 172ms/step - loss: 0.7262 - accuracy: 0.0000e+00 - val_loss: 0.7299 - val_accuracy: 0.0000e+00\n",
      "Epoch 16/20\n",
      "1/1 [==============================] - 0s 158ms/step - loss: 0.7250 - accuracy: 0.0000e+00 - val_loss: 0.7283 - val_accuracy: 0.0000e+00\n",
      "Epoch 17/20\n",
      "1/1 [==============================] - 0s 157ms/step - loss: 0.7319 - accuracy: 0.0000e+00 - val_loss: 0.7266 - val_accuracy: 0.0000e+00\n",
      "Epoch 18/20\n",
      "1/1 [==============================] - 0s 176ms/step - loss: 0.7232 - accuracy: 0.0000e+00 - val_loss: 0.7248 - val_accuracy: 0.0000e+00\n",
      "Epoch 19/20\n",
      "1/1 [==============================] - 0s 177ms/step - loss: 0.7189 - accuracy: 0.0000e+00 - val_loss: 0.7229 - val_accuracy: 0.0000e+00\n",
      "Epoch 20/20\n",
      "1/1 [==============================] - 0s 175ms/step - loss: 0.7176 - accuracy: 0.0000e+00 - val_loss: 0.7209 - val_accuracy: 0.0000e+00\n"
     ]
    }
   ],
   "source": [
    "debugging_dataset = dataset.take(2).batch(2)\n",
    "model.test_model(debugging_dataset, 20)"
   ]
  },
  {
   "cell_type": "markdown",
   "metadata": {
    "pycharm": {
     "name": "#%% md\n"
    }
   },
   "source": [
    "## Train the dataset"
   ]
  },
  {
   "cell_type": "code",
   "execution_count": 219,
   "metadata": {
    "pycharm": {
     "name": "#%%\n"
    }
   },
   "outputs": [
    {
     "name": "stdout",
     "output_type": "stream",
     "text": [
      "basemodel__lr=0.0001__batch_size=64__optimizer=adamw__class_weights=none__dropout=0.1 starting...\n",
      "Epoch 1/15\n",
      "70/70 [==============================] - 11s 110ms/step - loss: 0.6801 - accuracy: 0.5743 - val_loss: 0.6577 - val_accuracy: 0.6114\n",
      "Epoch 2/15\n",
      "70/70 [==============================] - 6s 84ms/step - loss: 0.5876 - accuracy: 0.7391 - val_loss: 0.5011 - val_accuracy: 0.7711\n",
      "Epoch 3/15\n",
      "70/70 [==============================] - 6s 85ms/step - loss: 0.4821 - accuracy: 0.7871 - val_loss: 0.4626 - val_accuracy: 0.7894\n",
      "Epoch 4/15\n",
      "70/70 [==============================] - 6s 85ms/step - loss: 0.4489 - accuracy: 0.8004 - val_loss: 0.4528 - val_accuracy: 0.7969\n",
      "Epoch 5/15\n",
      "70/70 [==============================] - 6s 89ms/step - loss: 0.4346 - accuracy: 0.8098 - val_loss: 0.4499 - val_accuracy: 0.7942\n",
      "Epoch 6/15\n",
      "70/70 [==============================] - 6s 91ms/step - loss: 0.4267 - accuracy: 0.8165 - val_loss: 0.4476 - val_accuracy: 0.7948\n",
      "Epoch 7/15\n",
      "70/70 [==============================] - 6s 90ms/step - loss: 0.4208 - accuracy: 0.8172 - val_loss: 0.4462 - val_accuracy: 0.7942\n",
      "Epoch 8/15\n",
      "70/70 [==============================] - 6s 91ms/step - loss: 0.4164 - accuracy: 0.8170 - val_loss: 0.4450 - val_accuracy: 0.7962\n",
      "Epoch 9/15\n",
      "70/70 [==============================] - 6s 92ms/step - loss: 0.4100 - accuracy: 0.8185 - val_loss: 0.4447 - val_accuracy: 0.7976\n",
      "Epoch 10/15\n",
      "70/70 [==============================] - 6s 91ms/step - loss: 0.4065 - accuracy: 0.8234 - val_loss: 0.4432 - val_accuracy: 0.7969\n",
      "Epoch 11/15\n",
      "70/70 [==============================] - 6s 90ms/step - loss: 0.4024 - accuracy: 0.8301 - val_loss: 0.4441 - val_accuracy: 0.8010\n",
      "Epoch 12/15\n",
      "70/70 [==============================] - 6s 91ms/step - loss: 0.4012 - accuracy: 0.8292 - val_loss: 0.4423 - val_accuracy: 0.7996\n",
      "Epoch 13/15\n",
      "70/70 [==============================] - 7s 94ms/step - loss: 0.3953 - accuracy: 0.8317 - val_loss: 0.4432 - val_accuracy: 0.7982\n",
      "Epoch 14/15\n",
      "70/70 [==============================] - 7s 97ms/step - loss: 0.3991 - accuracy: 0.8286 - val_loss: 0.4425 - val_accuracy: 0.7982\n",
      "Epoch 15/15\n",
      "70/70 [==============================] - 7s 102ms/step - loss: 0.3957 - accuracy: 0.8263 - val_loss: 0.4454 - val_accuracy: 0.7955\n",
      "23/23 [==============================] - 2s 35ms/step - loss: 0.4208 - accuracy: 0.8125\n",
      "basemodel__lr=0.0001__batch_size=64__optimizer=adamw__class_weights=none__dropout=0.1 completed.\n",
      "Accuracy: 0.8125\n",
      "Precision: 0.8161048689138577\n",
      "Recall: 0.8051860908982464\n",
      "F1-Score: 0.8079735010691457\n"
     ]
    }
   ],
   "source": [
    "accuracy, precision, recall, f1, predictions1 = model.fit_and_evaluate(class_weights=balanced_class_weights, log_directory=log_directory)\n",
    "print(f\"Accuracy: {accuracy}\\nPrecision: {precision}\\nRecall: {recall}\\nF1-Score: {f1}\")"
   ]
  },
  {
   "cell_type": "markdown",
   "metadata": {
    "pycharm": {
     "name": "#%% md\n"
    }
   },
   "source": [
    "## Visualize accuracy and loss"
   ]
  },
  {
   "cell_type": "code",
   "execution_count": 220,
   "metadata": {
    "pycharm": {
     "name": "#%%\n"
    }
   },
   "outputs": [
    {
     "data": {
      "text/plain": "<Figure size 432x288 with 1 Axes>",
      "image/png": "[encoded data removed]"
     },
     "metadata": {
      "needs_background": "light"
     },
     "output_type": "display_data"
    }
   ],
   "source": [
    "history_dict = model.history\n",
    "\n",
    "acc = history_dict['accuracy']\n",
    "val_acc = history_dict['val_accuracy']\n",
    "loss = history_dict['loss']\n",
    "val_loss = history_dict['val_loss']\n",
    "\n",
    "epochs = range(1, len(acc) + 1)\n",
    "\n",
    "# \"bo\" is for \"blue dot\"\n",
    "plt.plot(epochs, loss, 'r', label='Training loss')\n",
    "# b is for \"solid blue line\"\n",
    "plt.plot(epochs, val_loss, 'b', label='Validation loss')\n",
    "plt.title('Training and validation loss')\n",
    "plt.xlabel('Epochs')\n",
    "plt.ylabel('Loss')\n",
    "plt.legend()\n",
    "\n",
    "plt.show()"
   ]
  },
  {
   "cell_type": "code",
   "execution_count": 221,
   "metadata": {
    "pycharm": {
     "name": "#%%\n"
    }
   },
   "outputs": [
    {
     "data": {
      "text/plain": "<Figure size 432x288 with 1 Axes>",
      "image/png": "[encoded data removed]"
     },
     "metadata": {
      "needs_background": "light"
     },
     "output_type": "display_data"
    }
   ],
   "source": [
    "plt.plot(epochs, acc, 'r', label='Training acc')\n",
    "plt.plot(epochs, val_acc, 'b', label='Validation acc')\n",
    "plt.title('Training and validation accuracy')\n",
    "plt.xlabel('Epochs')\n",
    "plt.ylabel('Accuracy')\n",
    "plt.legend(loc='lower right')\n",
    "\n",
    "plt.show()"
   ]
  },
  {
   "cell_type": "code",
   "execution_count": 221,
   "outputs": [],
   "source": [],
   "metadata": {
    "collapsed": false,
    "pycharm": {
     "name": "#%%\n"
    }
   }
  },
  {
   "cell_type": "code",
   "execution_count": 222,
   "outputs": [],
   "source": [
    "# model.save_model()\n"
   ],
   "metadata": {
    "collapsed": false,
    "pycharm": {
     "name": "#%%\n"
    }
   }
  }
 ],
 "metadata": {
  "kernelspec": {
   "display_name": "Python 3 (ipykernel)",
   "language": "python",
   "name": "python3"
  },
  "language_info": {
   "codemirror_mode": {
    "name": "ipython",
    "version": 3
   },
   "file_extension": ".py",
   "mimetype": "text/x-python",
   "name": "python",
   "nbconvert_exporter": "python",
   "pygments_lexer": "ipython3",
   "version": "3.9.7"
  }
 },
 "nbformat": 4,
 "nbformat_minor": 1
}