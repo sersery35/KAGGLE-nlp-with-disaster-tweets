{
 "cells": [
  {
   "cell_type": "code",
   "execution_count": 579,
   "metadata": {
    "pycharm": {
     "name": "#%%\n"
    }
   },
   "outputs": [
    {
     "name": "stdout",
     "output_type": "stream",
     "text": [
      "The autoreload extension is already loaded. To reload it, use:\n",
      "  %reload_ext autoreload\n"
     ]
    }
   ],
   "source": [
    "%load_ext autoreload\n",
    "%autoreload 2"
   ]
  },
  {
   "cell_type": "code",
   "execution_count": 580,
   "metadata": {
    "pycharm": {
     "name": "#%%\n"
    }
   },
   "outputs": [],
   "source": [
    "import matplotlib.pyplot as plt\n",
    "import os, shutil\n",
    "os.environ[\"CUDA_VISIBLE_DEVICES\"]=\"-1\"\n",
    "\n",
    "from KAGGLE_NLP_with_disaster_tweets.model import base_model, utils, constants\n",
    "from KAGGLE_NLP_with_disaster_tweets.data_preparation.utils import DataPipeline, BatchPipeline\n",
    "\n",
    "os.environ[\"CUDA_VISIBLE_DEVICES\"]=\"-1\"\n",
    "\n",
    "log_dir = './logs/hyperparameter_tuning_BaseModel/'\n",
    "\n",
    " # clearing logging directory\n",
    "if os.path.exists(log_dir):\n",
    "    shutil.rmtree(log_dir)\n",
    "else:\n",
    "    os.makedirs(log_dir)"
   ]
  },
  {
   "cell_type": "code",
   "execution_count": 581,
   "metadata": {
    "pycharm": {
     "name": "#%%\n"
    }
   },
   "outputs": [
    {
     "name": "stdout",
     "output_type": "stream",
     "text": [
      "Getting the file: ../data/sample_submission.csv\n",
      "Getting the file: ../data/train.csv\n",
      "Dataframe size before eliminating too short texts: 7613\n",
      "Dataframe size after eliminating too short texts: 7526\n",
      "         id keyword location  \\\n",
      "0         1                    \n",
      "1         4                    \n",
      "2         5                    \n",
      "3         6                    \n",
      "4         7                    \n",
      "...     ...     ...      ...   \n",
      "7608  10869                    \n",
      "7609  10870                    \n",
      "7610  10871                    \n",
      "7611  10872                    \n",
      "7612  10873                    \n",
      "\n",
      "                                                   text  target  \n",
      "0     our deeds are the reason of this earthquake ma...       1  \n",
      "1                 forest fire near la ronge sask canada       1  \n",
      "2     all residents asked to shelter in place are be...       1  \n",
      "3      people receive wildfires evacuation orders in...       1  \n",
      "4     just got sent this photo from ruby alaska as s...       1  \n",
      "...                                                 ...     ...  \n",
      "7608  two giant cranes holding a bridge collapse int...       1  \n",
      "7609  user user the out of control wild fires in cal...       1  \n",
      "7610               m  0  utc km s of volcano hawaii url       1  \n",
      "7611  police investigating after an ebike collided w...       1  \n",
      "7612  the latest more homes razed by northern califo...       1  \n",
      "\n",
      "[7526 rows x 5 columns]\n",
      "Vocabulary size of the vectorizer: 17246\n",
      "-----------------------------------------------------------------------------------------\n",
      "Dataset \n",
      "Size: 7526 data points\n",
      "Dataset examples:\n",
      "Input: [ 127 6299   24    3  920    8   21  166  152 1932 6036   76   42    0\n",
      "    0    0    0    0    0    0    0    0    0    0    0    0    0    0\n",
      "    0    0]\n",
      "Target: [0. 1.]\n",
      "Input: [ 106   28  401  618 9472 9291  460    0    0    0    0    0    0    0\n",
      "    0    0    0    0    0    0    0    0    0    0    0    0    0    0\n",
      "    0    0]\n",
      "Target: [0. 1.]\n",
      "Input: [   42  1791  1731     7  1996     6   713    24   146 10906    20  1811\n",
      "    44   526   165    65  1996     6   713  1429    24  1139     0     0\n",
      "     0     0     0     0     0     0]\n",
      "Target: [0. 1.]\n",
      "-----------------------------------------------------------------------------------------\n"
     ]
    }
   ],
   "source": [
    "train_file_name = 'train.csv'\n",
    "kaggle_test_file_name = 'test.csv'\n",
    "sample_submission_file_name = 'sample_submission.csv'\n",
    "\n",
    "max_vocabulary_size = 20000\n",
    "glove_embedding_dim = 200\n",
    "\n",
    "data_pipeline = DataPipeline(train_file_name, kaggle_test_file_name, sample_submission_file_name,\n",
    "                             max_vocabulary_size=max_vocabulary_size,\n",
    "                             output_sequence_length=30,\n",
    "                             glove_embedding_dim=glove_embedding_dim,\n",
    "                             glove_url=constants.glove_url['twitter.27B'])\n",
    "dataset = data_pipeline.prepare_train_dataset(include_cols=[\"keyword\", \"location\"], extract_extras=True)  # can only download with an Academic account which can be obtained by a Master's Thesis student, Phd Student, or similar. for master's student assignments, only essential account is given and it does not support fetching tweets with their ids."
   ]
  },
  {
   "cell_type": "code",
   "execution_count": 582,
   "metadata": {
    "pycharm": {
     "name": "#%%\n"
    }
   },
   "outputs": [
    {
     "name": "stdout",
     "output_type": "stream",
     "text": [
      "True instances: 3257 | 43.27664097794313% of data\n",
      "False instances: 4269 | 56.72335902205687% of data\n"
     ]
    }
   ],
   "source": [
    "dataframe = data_pipeline.dataframe\n",
    "isTrueCount = dataframe[\"target\"].where(dataframe[\"target\"] == 1).count()\n",
    "isFalseCount = dataframe[\"target\"].where(dataframe[\"target\"] == 0).count()\n",
    "print(f\"True instances: {isTrueCount} | {100 * isTrueCount / (isTrueCount + isFalseCount)}% of data\")\n",
    "print(f\"False instances: {isFalseCount} | {100 * isFalseCount / (isTrueCount + isFalseCount)}% of data\")"
   ]
  },
  {
   "cell_type": "code",
   "execution_count": 583,
   "metadata": {
    "pycharm": {
     "name": "#%%\n"
    }
   },
   "outputs": [],
   "source": [
    "balanced_class_weights = utils.get_balanced_class_weights(dataframe)"
   ]
  },
  {
   "cell_type": "code",
   "execution_count": 601,
   "metadata": {
    "pycharm": {
     "name": "#%%\n"
    }
   },
   "outputs": [],
   "source": [
    "from tensorboard.plugins.hparams import api as hp\n",
    "\n",
    "batch_size = 64\n",
    "epochs = 10\n",
    "log_directory = \"./logs/hyperparameter_tuning_BaseModel/\"\n",
    "\n",
    "# create a dict to keep the hyperparameters\n",
    "hparams = {\n",
    "    hp.HParam(\"optimizer\", hp.Discrete([\"adamw\"])): \"adamw\",\n",
    "    hp.HParam(\"batch_size\", hp.Discrete([16, 32, 64])): batch_size,\n",
    "    hp.HParam(\"learning_rate\", hp.RealInterval(1e-5, 1e-3)): 1e-4,\n",
    "    hp.HParam(\"class_weights\", hp.Discrete([\"none\", \"balanced\"])): \"balanced\",\n",
    "    hp.HParam(\"dropout\", hp.Discrete([0.1, 0.9])): 0.1\n",
    "}\n",
    "# easier to manage hyperparameters with this wrapper class\n",
    "hyperparameter_manager = utils.HyperparameterManager(hparams=hparams)"
   ]
  },
  {
   "cell_type": "code",
   "execution_count": 602,
   "metadata": {
    "pycharm": {
     "name": "#%%\n"
    }
   },
   "outputs": [
    {
     "name": "stdout",
     "output_type": "stream",
     "text": [
      "Loading the file: glove.twitter.27B.200d.txt \n",
      "\n",
      "Found 1193514 word vectors \n",
      "\n",
      "Converted 12887 words, and missed 4359 words.\n",
      "Model: \"sequential_43\"\n",
      "_________________________________________________________________\n",
      " Layer (type)                Output Shape              Param #   \n",
      "=================================================================\n",
      " embedding_45 (Embedding)    (None, None, 200)         3449200   \n",
      "                                                                 \n",
      " dropout_46 (Dropout)        (None, None, 200)         0         \n",
      "                                                                 \n",
      " bidirectional_76 (Bidirecti  (None, None, 256)        336896    \n",
      " onal)                                                           \n",
      "                                                                 \n",
      " bidirectional_77 (Bidirecti  (None, None, 128)        164352    \n",
      " onal)                                                           \n",
      "                                                                 \n",
      " bidirectional_78 (Bidirecti  (None, None, 64)         41216     \n",
      " onal)                                                           \n",
      "                                                                 \n",
      " dense_86 (Dense)            (None, None, 256)         16640     \n",
      "                                                                 \n",
      " global_average_pooling1d_43  (None, 256)              0         \n",
      "  (GlobalAveragePooling1D)                                       \n",
      "                                                                 \n",
      " dropout_47 (Dropout)        (None, 256)               0         \n",
      "                                                                 \n",
      " dense_87 (Dense)            (None, 2)                 514       \n",
      "                                                                 \n",
      "=================================================================\n",
      "Total params: 4,008,818\n",
      "Trainable params: 559,618\n",
      "Non-trainable params: 3,449,200\n",
      "_________________________________________________________________\n",
      "None\n"
     ]
    }
   ],
   "source": [
    "model = base_model.BaseModel(\n",
    "    vocabulary_size=data_pipeline.vocabulary_size,\n",
    "    embedding_dim=data_pipeline.glove_embedding_dim,\n",
    "    hidden_dim=256,\n",
    "    lstm_dims=[128, 64, 32],\n",
    "    num_classes=2,\n",
    "    epochs=epochs,\n",
    "    batch_pipeline=BatchPipeline(dataset, batch_size),\n",
    "    hparam_manager=hyperparameter_manager,\n",
    "    # embeddings_initializer=tf.keras.initializers.LecunUniform(),\n",
    "    embeddings_initializer=data_pipeline.build_embeddings_initializer(),)\n",
    "    # embeddings_regularizer=data_pipeline.build_embeddings_regularizer())\n"
   ]
  },
  {
   "cell_type": "markdown",
   "metadata": {},
   "source": [
    "## Overfitting for sanity check"
   ]
  },
  {
   "cell_type": "code",
   "execution_count": 603,
   "metadata": {
    "pycharm": {
     "name": "#%%\n"
    }
   },
   "outputs": [
    {
     "name": "stdout",
     "output_type": "stream",
     "text": [
      "Epoch 1/10\n",
      "1/1 [==============================] - 10s 10s/step - loss: 0.7088 - accuracy: 0.0000e+00 - val_loss: 0.7074 - val_accuracy: 0.0000e+00\n",
      "Epoch 2/10\n",
      "1/1 [==============================] - 0s 194ms/step - loss: 0.7091 - accuracy: 0.0000e+00 - val_loss: 0.7073 - val_accuracy: 0.0000e+00\n",
      "Epoch 3/10\n",
      "1/1 [==============================] - 0s 192ms/step - loss: 0.7121 - accuracy: 0.0000e+00 - val_loss: 0.7072 - val_accuracy: 0.0000e+00\n",
      "Epoch 4/10\n",
      "1/1 [==============================] - 0s 191ms/step - loss: 0.7023 - accuracy: 0.0000e+00 - val_loss: 0.7069 - val_accuracy: 0.0000e+00\n",
      "Epoch 5/10\n",
      "1/1 [==============================] - 0s 206ms/step - loss: 0.7045 - accuracy: 0.0000e+00 - val_loss: 0.7065 - val_accuracy: 0.0000e+00\n",
      "Epoch 6/10\n",
      "1/1 [==============================] - 0s 176ms/step - loss: 0.7090 - accuracy: 0.0000e+00 - val_loss: 0.7060 - val_accuracy: 0.0000e+00\n",
      "Epoch 7/10\n",
      "1/1 [==============================] - 0s 186ms/step - loss: 0.7101 - accuracy: 0.0000e+00 - val_loss: 0.7055 - val_accuracy: 0.0000e+00\n",
      "Epoch 8/10\n",
      "1/1 [==============================] - 0s 201ms/step - loss: 0.7076 - accuracy: 0.0000e+00 - val_loss: 0.7048 - val_accuracy: 0.0000e+00\n",
      "Epoch 9/10\n",
      "1/1 [==============================] - 0s 194ms/step - loss: 0.7084 - accuracy: 0.0000e+00 - val_loss: 0.7040 - val_accuracy: 0.0000e+00\n",
      "Epoch 10/10\n",
      "1/1 [==============================] - 0s 173ms/step - loss: 0.7066 - accuracy: 0.0000e+00 - val_loss: 0.7032 - val_accuracy: 0.0000e+00\n"
     ]
    }
   ],
   "source": [
    "debugging_dataset = dataset.take(2).batch(2)\n",
    "model.test_model(debugging_dataset, 10)"
   ]
  },
  {
   "cell_type": "markdown",
   "metadata": {
    "pycharm": {
     "name": "#%% md\n"
    }
   },
   "source": [
    "## Train the dataset"
   ]
  },
  {
   "cell_type": "code",
   "execution_count": 604,
   "metadata": {
    "pycharm": {
     "name": "#%%\n"
    }
   },
   "outputs": [
    {
     "name": "stdout",
     "output_type": "stream",
     "text": [
      "run -> __lr=0.0001__batch_size=64__optimizer=adamw__class_weights=balanced__dropout=0.1 starting...\n",
      "Epoch 1/10\n",
      "70/70 [==============================] - 16s 141ms/step - loss: 0.6944 - accuracy: 0.5748 - val_loss: 0.6455 - val_accuracy: 0.6039\n",
      "Epoch 2/10\n",
      "70/70 [==============================] - 7s 99ms/step - loss: 0.5454 - accuracy: 0.7431 - val_loss: 0.4843 - val_accuracy: 0.7921\n",
      "Epoch 3/10\n",
      "70/70 [==============================] - 7s 101ms/step - loss: 0.4593 - accuracy: 0.7978 - val_loss: 0.4446 - val_accuracy: 0.8064\n",
      "Epoch 4/10\n",
      "70/70 [==============================] - 7s 104ms/step - loss: 0.4347 - accuracy: 0.8087 - val_loss: 0.4328 - val_accuracy: 0.8111\n",
      "Epoch 5/10\n",
      "70/70 [==============================] - 8s 113ms/step - loss: 0.4211 - accuracy: 0.8143 - val_loss: 0.4317 - val_accuracy: 0.8159\n",
      "Epoch 6/10\n",
      "70/70 [==============================] - 8s 121ms/step - loss: 0.4110 - accuracy: 0.8199 - val_loss: 0.4319 - val_accuracy: 0.8179\n",
      "Epoch 7/10\n",
      "70/70 [==============================] - 8s 110ms/step - loss: 0.4050 - accuracy: 0.8243 - val_loss: 0.4316 - val_accuracy: 0.8193\n",
      "Epoch 8/10\n",
      "70/70 [==============================] - 8s 108ms/step - loss: 0.4019 - accuracy: 0.8246 - val_loss: 0.4269 - val_accuracy: 0.8220\n",
      "Epoch 9/10\n",
      "70/70 [==============================] - 8s 108ms/step - loss: 0.3988 - accuracy: 0.8261 - val_loss: 0.4223 - val_accuracy: 0.8166\n",
      "Epoch 10/10\n",
      "70/70 [==============================] - 7s 107ms/step - loss: 0.3977 - accuracy: 0.8270 - val_loss: 0.4202 - val_accuracy: 0.8159\n",
      "23/23 [==============================] - 2s 33ms/step - loss: 0.4539 - accuracy: 0.8077\n",
      "run -> __lr=0.0001__batch_size=64__optimizer=adamw__class_weights=balanced__dropout=0.1 completed.\n",
      "Accuracy: 0.807744562625885\n",
      "Precision: 0.8147941468253967\n",
      "Recall: 0.8014806443651452\n",
      "F1-Score: 0.8036329525340398\n"
     ]
    }
   ],
   "source": [
    "accuracy, precision, recall, f1, predictions1 = model.fit_and_evaluate(class_weights=balanced_class_weights, log_directory=log_directory)\n",
    "print(f\"Accuracy: {accuracy}\\nPrecision: {precision}\\nRecall: {recall}\\nF1-Score: {f1}\")"
   ]
  },
  {
   "cell_type": "markdown",
   "metadata": {
    "pycharm": {
     "name": "#%% md\n"
    }
   },
   "source": [
    "## Visualize accuracy and loss"
   ]
  },
  {
   "cell_type": "code",
   "execution_count": 605,
   "metadata": {
    "pycharm": {
     "name": "#%%\n"
    }
   },
   "outputs": [
    {
     "data": {
      "text/plain": "<Figure size 432x288 with 1 Axes>",
      "image/png": "[encoded data removed]"
     },
     "metadata": {
      "needs_background": "light"
     },
     "output_type": "display_data"
    }
   ],
   "source": [
    "history_dict = model.history\n",
    "\n",
    "acc = history_dict['accuracy']\n",
    "val_acc = history_dict['val_accuracy']\n",
    "loss = history_dict['loss']\n",
    "val_loss = history_dict['val_loss']\n",
    "\n",
    "epochs = range(1, len(acc) + 1)\n",
    "\n",
    "# \"bo\" is for \"blue dot\"\n",
    "plt.plot(epochs, loss, 'r', label='Training loss')\n",
    "# b is for \"solid blue line\"\n",
    "plt.plot(epochs, val_loss, 'b', label='Validation loss')\n",
    "plt.title('Training and validation loss')\n",
    "plt.xlabel('Epochs')\n",
    "plt.ylabel('Loss')\n",
    "plt.legend()\n",
    "\n",
    "plt.show()"
   ]
  },
  {
   "cell_type": "code",
   "execution_count": 606,
   "metadata": {
    "pycharm": {
     "name": "#%%\n"
    }
   },
   "outputs": [
    {
     "data": {
      "text/plain": "<Figure size 432x288 with 1 Axes>",
      "image/png": "[encoded data removed]"
     },
     "metadata": {
      "needs_background": "light"
     },
     "output_type": "display_data"
    }
   ],
   "source": [
    "plt.plot(epochs, acc, 'r', label='Training acc')\n",
    "plt.plot(epochs, val_acc, 'b', label='Validation acc')\n",
    "plt.title('Training and validation accuracy')\n",
    "plt.xlabel('Epochs')\n",
    "plt.ylabel('Accuracy')\n",
    "plt.legend(loc='lower right')\n",
    "\n",
    "plt.show()"
   ]
  },
  {
   "cell_type": "code",
   "execution_count": 590,
   "outputs": [],
   "source": [
    "# model.save_model()"
   ],
   "metadata": {
    "collapsed": false,
    "pycharm": {
     "name": "#%%\n"
    }
   }
  },
  {
   "cell_type": "code",
   "execution_count": 591,
   "metadata": {
    "pycharm": {
     "name": "#%%\n"
    }
   },
   "outputs": [],
   "source": [
    "# batch_pipeline = BatchPipeline(dataset, submission_test_dataset, batch_size)\n",
    "# predictions = base_model.predict_for_kaggle(batch_pipeline.submission_test_dataset)\n",
    "# print(f\"Predictions: {predictions}\")"
   ]
  },
  {
   "cell_type": "code",
   "execution_count": 592,
   "metadata": {
    "pycharm": {
     "name": "#%%\n"
    }
   },
   "outputs": [],
   "source": [
    "# submission_test_dataframe = data_pipeline.get_dataframe_from_csv(sample_submission_file_name).fillna(\" \")\n",
    "#\n",
    "# utils.create_submission_for_kaggle(\"kaggle_predictions_BaseModel.txt\", submission_test_dataframe[\"id\"].values, predictions)"
   ]
  },
  {
   "cell_type": "code",
   "execution_count": 593,
   "metadata": {
    "pycharm": {
     "name": "#%%\n"
    }
   },
   "outputs": [],
   "source": [
    "# %load_ext tensorboard"
   ]
  },
  {
   "cell_type": "code",
   "execution_count": 594,
   "metadata": {
    "pycharm": {
     "name": "#%%\n"
    }
   },
   "outputs": [],
   "source": [
    "# tensorboard --logdir logs/hyperparameter_tuning --port 5000\n"
   ]
  }
 ],
 "metadata": {
  "kernelspec": {
   "display_name": "Python 3 (ipykernel)",
   "language": "python",
   "name": "python3"
  },
  "language_info": {
   "codemirror_mode": {
    "name": "ipython",
    "version": 3
   },
   "file_extension": ".py",
   "mimetype": "text/x-python",
   "name": "python",
   "nbconvert_exporter": "python",
   "pygments_lexer": "ipython3",
   "version": "3.9.7"
  }
 },
 "nbformat": 4,
 "nbformat_minor": 1
}