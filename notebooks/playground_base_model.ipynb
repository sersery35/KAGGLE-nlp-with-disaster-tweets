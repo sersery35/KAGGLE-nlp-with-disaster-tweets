{
 "cells": [
  {
   "cell_type": "code",
   "execution_count": 176,
   "outputs": [
    {
     "name": "stdout",
     "output_type": "stream",
     "text": [
      "The autoreload extension is already loaded. To reload it, use:\n",
      "  %reload_ext autoreload\n"
     ]
    }
   ],
   "source": [
    "%load_ext autoreload\n",
    "%autoreload 2"
   ],
   "metadata": {
    "collapsed": false,
    "pycharm": {
     "name": "#%%\n"
    }
   }
  },
  {
   "cell_type": "code",
   "execution_count": 177,
   "outputs": [],
   "source": [
    "import matplotlib.pyplot as plt\n",
    "import os, shutil\n",
    "import tensorflow as tf\n",
    "os.environ[\"CUDA_VISIBLE_DEVICES\"]=\"-1\"\n",
    "\n",
    "from KAGGLE_NLP_with_disaster_tweets.model import base_model, utils\n",
    "from KAGGLE_NLP_with_disaster_tweets.data_preparation.utils import DataPipeline, BatchPipeline\n",
    "\n",
    "os.environ[\"CUDA_VISIBLE_DEVICES\"]=\"-1\"\n",
    "\n",
    "log_dir = f'./logs/hyperparameter_tuning_BaseModel/'\n",
    "\n",
    "try:\n",
    "    # clearing logging directory\n",
    "    shutil.rmtree(log_dir)\n",
    "except NotADirectoryError:\n",
    "    pass\n",
    "\n",
    "if not os.path.exists(log_dir):\n",
    "    os.makedirs(log_dir)"
   ],
   "metadata": {
    "collapsed": false,
    "pycharm": {
     "name": "#%%\n"
    }
   }
  },
  {
   "cell_type": "code",
   "execution_count": 178,
   "outputs": [
    {
     "name": "stdout",
     "output_type": "stream",
     "text": [
      "Getting the file: ../data/train.csv\n",
      "Dataframe size before eliminating too short texts: 7613\n",
      "Dataframe size after eliminating too short texts: 7526\n",
      "         id keyword location  \\\n",
      "0         1                    \n",
      "1         4                    \n",
      "2         5                    \n",
      "3         6                    \n",
      "4         7                    \n",
      "...     ...     ...      ...   \n",
      "7608  10869                    \n",
      "7609  10870                    \n",
      "7610  10871                    \n",
      "7611  10872                    \n",
      "7612  10873                    \n",
      "\n",
      "                                                   text  target  \n",
      "0     our deeds are the reason of this earthquake ma...       1  \n",
      "1                 forest fire near la ronge sask canada       1  \n",
      "2     all residents asked to shelter in place are be...       1  \n",
      "3      people receive wildfires evacuation orders in...       1  \n",
      "4     just got sent this photo from ruby alaska as s...       1  \n",
      "...                                                 ...     ...  \n",
      "7608  two giant cranes holding a bridge collapse int...       1  \n",
      "7609  user user the out of control wild fires in cal...       1  \n",
      "7610               m  0  utc km s of volcano hawaii url       1  \n",
      "7611  police investigating after an ebike collided w...       1  \n",
      "7612  the latest more homes razed by northern califo...       1  \n",
      "\n",
      "[7526 rows x 5 columns]\n",
      "Vocabulary size of the vectorizer: 17246\n",
      "-----------------------------------------------------------------------------------------\n",
      "Dataset \n",
      "Size: 7526 data points\n",
      "Dataset examples:\n",
      "Input: [ 127 6299   24    3  920    8   21  166  152 1931 6036   76   42    0\n",
      "    0    0    0    0    0    0    0    0    0    0    0    0    0    0\n",
      "    0    0]\n",
      "Target: [0. 1.]\n",
      "Input: [ 106   28  401  618 9472 9291  460    0    0    0    0    0    0    0\n",
      "    0    0    0    0    0    0    0    0    0    0    0    0    0    0\n",
      "    0    0]\n",
      "Target: [0. 1.]\n",
      "Input: [   42  1790  1730     7  1995     6   713    24   146 10906    20  1810\n",
      "    44   526   165    65  1995     6   713  1429    24  1139     0     0\n",
      "     0     0     0     0     0     0]\n",
      "Target: [0. 1.]\n",
      "-----------------------------------------------------------------------------------------\n"
     ]
    }
   ],
   "source": [
    "train_file_name = 'train.csv'\n",
    "test_file_name = 'test.csv'\n",
    "sample_submission_file_name = 'sample_submission.csv'\n",
    "\n",
    "# vocabulary_size = 16764\n",
    "max_vocabulary_size = 20000\n",
    "\n",
    "data_pipeline = DataPipeline(train_file_name, test_file_name, sample_submission_file_name, output_sequence_length=30, max_vocabulary_size=max_vocabulary_size)\n",
    "dataset = data_pipeline.prepare_dataset(include_cols=[\"location\", \"keyword\"], apply_preprocessing=True, download_mentioned_tweets=False)  # can only download with an Academic account which can be obtained by a Master's Thesis student, Phd Student, or similar. for master's student assignments, only essential account is given and it does not support fetching tweets with their ids."
   ],
   "metadata": {
    "collapsed": false,
    "pycharm": {
     "name": "#%%\n"
    }
   }
  },
  {
   "cell_type": "code",
   "execution_count": 179,
   "outputs": [
    {
     "name": "stdout",
     "output_type": "stream",
     "text": [
      "True instances: 3257 | 43.27664097794313% of data\n",
      "False instances: 4269 | 56.72335902205687% of data\n"
     ]
    }
   ],
   "source": [
    "dataframe = data_pipeline.dataframe\n",
    "isTrueCount = dataframe[\"target\"].where(dataframe[\"target\"] == 1).count()\n",
    "isFalseCount = dataframe[\"target\"].where(dataframe[\"target\"] == 0).count()\n",
    "print(f\"True instances: {isTrueCount} | {100 * isTrueCount / (isTrueCount + isFalseCount)}% of data\")\n",
    "print(f\"False instances: {isFalseCount} | {100 * isFalseCount / (isTrueCount + isFalseCount)}% of data\")"
   ],
   "metadata": {
    "collapsed": false,
    "pycharm": {
     "name": "#%%\n"
    }
   }
  },
  {
   "cell_type": "code",
   "execution_count": 180,
   "outputs": [],
   "source": [
    "balanced_class_weights = utils.get_balanced_class_weights(dataframe)"
   ],
   "metadata": {
    "collapsed": false,
    "pycharm": {
     "name": "#%%\n"
    }
   }
  },
  {
   "cell_type": "code",
   "execution_count": 181,
   "outputs": [],
   "source": [
    "from tensorboard.plugins.hparams import api as hp\n",
    "\n",
    "batch_size = 64\n",
    "epochs = 10\n",
    "log_directory = \"./logs/hyperparameter_tuning_BaseModel/\"\n",
    "\n",
    "# create a dict to keep the hyperparameters\n",
    "hparams = {\n",
    "    hp.HParam(\"optimizer\", hp.Discrete([\"adamw\"])): \"adamw\",\n",
    "    hp.HParam(\"batch_size\", hp.Discrete([16, 32, 64])): batch_size,\n",
    "    hp.HParam(\"learning_rate\", hp.RealInterval(1e-5, 1e-3)): 1e-4,\n",
    "    hp.HParam(\"class_weights\", hp.Discrete([\"none\", \"balanced\"])): \"balanced\",\n",
    "    hp.HParam(\"dropout\", hp.Discrete([0.1, 0.9])): 0.5\n",
    "}\n",
    "# easier to manage hyperparameters with this wrapper class\n",
    "hyperparameter_manager = utils.HyperparameterManager(hparams=hparams)"
   ],
   "metadata": {
    "collapsed": false,
    "pycharm": {
     "name": "#%%\n"
    }
   }
  },
  {
   "cell_type": "code",
   "execution_count": 182,
   "outputs": [
    {
     "name": "stdout",
     "output_type": "stream",
     "text": [
      "Model: \"sequential_12\"\n",
      "_________________________________________________________________\n",
      " Layer (type)                Output Shape              Param #   \n",
      "=================================================================\n",
      " embedding_14 (Embedding)    (None, None, 128)         2207488   \n",
      "                                                                 \n",
      " dropout_12 (Dropout)        (None, None, 128)         0         \n",
      "                                                                 \n",
      " bidirectional_12 (Bidirecti  (None, None, 128)        98816     \n",
      " onal)                                                           \n",
      "                                                                 \n",
      " dense_24 (Dense)            (None, None, 128)         16512     \n",
      "                                                                 \n",
      " global_average_pooling1d_12  (None, 128)              0         \n",
      "  (GlobalAveragePooling1D)                                       \n",
      "                                                                 \n",
      " dense_25 (Dense)            (None, 2)                 258       \n",
      "                                                                 \n",
      "=================================================================\n",
      "Total params: 2,323,074\n",
      "Trainable params: 2,323,074\n",
      "Non-trainable params: 0\n",
      "_________________________________________________________________\n",
      "None\n"
     ]
    }
   ],
   "source": [
    "model = base_model.BaseModel(\n",
    "    vocabulary_size=data_pipeline.vocabulary_size,\n",
    "    embedding_dim=128,\n",
    "    hidden_dim=128,\n",
    "    lstm_dim=64,\n",
    "    n_labels=2,\n",
    "    encoder=data_pipeline.input_vectorizer,\n",
    "    epochs=10,\n",
    "    batch_pipeline=BatchPipeline(dataset, batch_size),\n",
    "    hparam_manager=hyperparameter_manager,\n",
    "    class_weights=balanced_class_weights,\n",
    "    embeddings_initializer=tf.keras.initializers.VarianceScaling())\n"
   ],
   "metadata": {
    "collapsed": false,
    "pycharm": {
     "name": "#%%\n"
    }
   }
  },
  {
   "cell_type": "markdown",
   "source": [
    "## Overfitting for sanity check"
   ],
   "metadata": {
    "collapsed": false
   }
  },
  {
   "cell_type": "code",
   "execution_count": 183,
   "outputs": [
    {
     "name": "stdout",
     "output_type": "stream",
     "text": [
      "Epoch 1/10\n",
      "1/1 [==============================] - 9s 9s/step - loss: 0.6964 - accuracy: 0.0000e+00 - val_loss: 0.6965 - val_accuracy: 0.0000e+00\n",
      "Epoch 2/10\n",
      "1/1 [==============================] - 0s 191ms/step - loss: 0.6972 - accuracy: 0.0000e+00 - val_loss: 0.6965 - val_accuracy: 0.0000e+00\n",
      "Epoch 3/10\n",
      "1/1 [==============================] - 0s 205ms/step - loss: 0.6976 - accuracy: 0.0000e+00 - val_loss: 0.6964 - val_accuracy: 0.0000e+00\n",
      "Epoch 4/10\n",
      "1/1 [==============================] - 0s 188ms/step - loss: 0.6962 - accuracy: 0.0000e+00 - val_loss: 0.6964 - val_accuracy: 0.0000e+00\n",
      "Epoch 5/10\n",
      "1/1 [==============================] - 0s 185ms/step - loss: 0.6972 - accuracy: 0.0000e+00 - val_loss: 0.6963 - val_accuracy: 0.0000e+00\n",
      "Epoch 6/10\n",
      "1/1 [==============================] - 0s 192ms/step - loss: 0.6973 - accuracy: 0.0000e+00 - val_loss: 0.6962 - val_accuracy: 0.0000e+00\n",
      "Epoch 7/10\n",
      "1/1 [==============================] - 0s 183ms/step - loss: 0.6959 - accuracy: 0.0000e+00 - val_loss: 0.6961 - val_accuracy: 0.0000e+00\n",
      "Epoch 8/10\n",
      "1/1 [==============================] - 0s 191ms/step - loss: 0.6967 - accuracy: 0.0000e+00 - val_loss: 0.6960 - val_accuracy: 0.0000e+00\n",
      "Epoch 9/10\n",
      "1/1 [==============================] - 0s 189ms/step - loss: 0.6976 - accuracy: 0.0000e+00 - val_loss: 0.6958 - val_accuracy: 0.0000e+00\n",
      "Epoch 10/10\n",
      "1/1 [==============================] - 0s 188ms/step - loss: 0.6956 - accuracy: 0.0000e+00 - val_loss: 0.6956 - val_accuracy: 0.0000e+00\n"
     ]
    }
   ],
   "source": [
    "debugging_dataset = dataset.take(2).batch(2)\n",
    "model.test_model(debugging_dataset, 10)"
   ],
   "metadata": {
    "collapsed": false,
    "pycharm": {
     "name": "#%%\n"
    }
   }
  },
  {
   "cell_type": "markdown",
   "source": [
    "## Train the dataset"
   ],
   "metadata": {
    "collapsed": false,
    "pycharm": {
     "name": "#%% md\n"
    }
   }
  },
  {
   "cell_type": "code",
   "execution_count": 184,
   "outputs": [
    {
     "name": "stdout",
     "output_type": "stream",
     "text": [
      "run -> __lr=0.0001__batch_size=64__optimizer=adamw__class_weights=balanced__dropout=0.5 starting...\n",
      "Epoch 1/10\n",
      "70/70 [==============================] - 11s 96ms/step - loss: 0.7156 - accuracy: 0.5661 - val_loss: 0.6845 - val_accuracy: 0.5863\n",
      "Epoch 2/10\n",
      "70/70 [==============================] - 4s 55ms/step - loss: 0.6789 - accuracy: 0.5703 - val_loss: 0.6503 - val_accuracy: 0.5863\n",
      "Epoch 3/10\n",
      "70/70 [==============================] - 4s 55ms/step - loss: 0.5913 - accuracy: 0.6426 - val_loss: 0.5804 - val_accuracy: 0.7561\n",
      "Epoch 4/10\n",
      "70/70 [==============================] - 3s 46ms/step - loss: 0.4854 - accuracy: 0.8158 - val_loss: 0.5335 - val_accuracy: 0.8003\n",
      "Epoch 5/10\n",
      "70/70 [==============================] - 4s 63ms/step - loss: 0.3898 - accuracy: 0.8594 - val_loss: 0.5247 - val_accuracy: 0.8043\n",
      "Epoch 6/10\n",
      "70/70 [==============================] - 4s 63ms/step - loss: 0.3331 - accuracy: 0.8781 - val_loss: 0.5326 - val_accuracy: 0.8050\n",
      "Epoch 7/10\n",
      "70/70 [==============================] - 4s 63ms/step - loss: 0.2995 - accuracy: 0.8908 - val_loss: 0.5382 - val_accuracy: 0.8023\n",
      "Epoch 8/10\n",
      "70/70 [==============================] - 4s 62ms/step - loss: 0.2778 - accuracy: 0.8993 - val_loss: 0.5450 - val_accuracy: 0.8023\n",
      "Epoch 9/10\n",
      "70/70 [==============================] - 4s 62ms/step - loss: 0.2629 - accuracy: 0.9065 - val_loss: 0.5496 - val_accuracy: 0.8037\n",
      "Epoch 10/10\n",
      "70/70 [==============================] - 3s 47ms/step - loss: 0.2546 - accuracy: 0.9087 - val_loss: 0.5509 - val_accuracy: 0.8043\n",
      "23/23 [==============================] - 1s 10ms/step - loss: 0.5482 - accuracy: 0.7840\n",
      "run -> __lr=0.0001__batch_size=64__optimizer=adamw__class_weights=balanced__dropout=0.5 completed.\n",
      "Accuracy: 0.7839673757553101\n",
      "Precision: 0.7848834026971678\n",
      "Recall: 0.7800874765952788\n",
      "F1-Score: 0.7813187326562456\n"
     ]
    }
   ],
   "source": [
    "accuracy, precision, recall, f1, predictions1 = model.fit_and_evaluate(log_directory=log_directory)\n",
    "print(f\"Accuracy: {accuracy}\\nPrecision: {precision}\\nRecall: {recall}\\nF1-Score: {f1}\")"
   ],
   "metadata": {
    "collapsed": false,
    "pycharm": {
     "name": "#%%\n"
    }
   }
  },
  {
   "cell_type": "markdown",
   "source": [
    "## Visualize accuracy and loss"
   ],
   "metadata": {
    "collapsed": false,
    "pycharm": {
     "name": "#%% md\n"
    }
   }
  },
  {
   "cell_type": "code",
   "execution_count": 185,
   "outputs": [
    {
     "data": {
      "text/plain": "<Figure size 432x288 with 1 Axes>",
      "image/png": "[encoded data removed]"
     },
     "metadata": {
      "needs_background": "light"
     },
     "output_type": "display_data"
    }
   ],
   "source": [
    "history_dict = model.history\n",
    "\n",
    "acc = history_dict['accuracy']\n",
    "val_acc = history_dict['val_accuracy']\n",
    "loss = history_dict['loss']\n",
    "val_loss = history_dict['val_loss']\n",
    "\n",
    "epochs = range(1, len(acc) + 1)\n",
    "\n",
    "# \"bo\" is for \"blue dot\"\n",
    "plt.plot(epochs, loss, 'r', label='Training loss')\n",
    "# b is for \"solid blue line\"\n",
    "plt.plot(epochs, val_loss, 'b', label='Validation loss')\n",
    "plt.title('Training and validation loss')\n",
    "plt.xlabel('Epochs')\n",
    "plt.ylabel('Loss')\n",
    "plt.legend()\n",
    "\n",
    "plt.show()"
   ],
   "metadata": {
    "collapsed": false,
    "pycharm": {
     "name": "#%%\n"
    }
   }
  },
  {
   "cell_type": "code",
   "execution_count": 186,
   "outputs": [
    {
     "data": {
      "text/plain": "<Figure size 432x288 with 1 Axes>",
      "image/png": "[encoded data removed]"
     },
     "metadata": {
      "needs_background": "light"
     },
     "output_type": "display_data"
    }
   ],
   "source": [
    "plt.plot(epochs, acc, 'r', label='Training acc')\n",
    "plt.plot(epochs, val_acc, 'b', label='Validation acc')\n",
    "plt.title('Training and validation accuracy')\n",
    "plt.xlabel('Epochs')\n",
    "plt.ylabel('Accuracy')\n",
    "plt.legend(loc='lower right')\n",
    "\n",
    "plt.show()"
   ],
   "metadata": {
    "collapsed": false,
    "pycharm": {
     "name": "#%%\n"
    }
   }
  },
  {
   "cell_type": "code",
   "execution_count": 187,
   "outputs": [],
   "source": [
    "# batch_pipeline = BatchPipeline(dataset, submission_test_dataset, batch_size)\n",
    "# predictions = base_model.predict_for_kaggle(batch_pipeline.submission_test_dataset)\n",
    "# print(f\"Predictions: {predictions}\")"
   ],
   "metadata": {
    "collapsed": false,
    "pycharm": {
     "name": "#%%\n"
    }
   }
  },
  {
   "cell_type": "code",
   "execution_count": 188,
   "outputs": [],
   "source": [
    "# submission_test_dataframe = data_pipeline.get_dataframe_from_csv(sample_submission_file_name).fillna(\" \")\n",
    "#\n",
    "# utils.create_submission_for_kaggle(\"kaggle_predictions_BaseModel.txt\", submission_test_dataframe[\"id\"].values, predictions)"
   ],
   "metadata": {
    "collapsed": false,
    "pycharm": {
     "name": "#%%\n"
    }
   }
  },
  {
   "cell_type": "code",
   "execution_count": 189,
   "outputs": [],
   "source": [
    "# %load_ext tensorboard"
   ],
   "metadata": {
    "collapsed": false,
    "pycharm": {
     "name": "#%%\n"
    }
   }
  },
  {
   "cell_type": "code",
   "execution_count": 190,
   "outputs": [],
   "source": [
    "# tensorboard --logdir logs/hyperparameter_tuning --port 5000\n"
   ],
   "metadata": {
    "collapsed": false,
    "pycharm": {
     "name": "#%%\n"
    }
   }
  }
 ],
 "metadata": {
  "kernelspec": {
   "display_name": "Python 3",
   "language": "python",
   "name": "python3"
  },
  "language_info": {
   "codemirror_mode": {
    "name": "ipython",
    "version": 2
   },
   "file_extension": ".py",
   "mimetype": "text/x-python",
   "name": "python",
   "nbconvert_exporter": "python",
   "pygments_lexer": "ipython2",
   "version": "2.7.6"
  }
 },
 "nbformat": 4,
 "nbformat_minor": 0
}