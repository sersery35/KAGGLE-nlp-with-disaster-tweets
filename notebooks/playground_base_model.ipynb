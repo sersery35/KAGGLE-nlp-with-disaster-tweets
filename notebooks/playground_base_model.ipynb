{
 "cells": [
  {
   "cell_type": "code",
   "execution_count": 14,
   "metadata": {
    "pycharm": {
     "name": "#%%\n"
    }
   },
   "outputs": [
    {
     "name": "stdout",
     "output_type": "stream",
     "text": [
      "The autoreload extension is already loaded. To reload it, use:\n",
      "  %reload_ext autoreload\n"
     ]
    }
   ],
   "source": [
    "import pandas as pd\n",
    "%load_ext autoreload\n",
    "%autoreload 2"
   ]
  },
  {
   "cell_type": "code",
   "execution_count": 15,
   "metadata": {
    "pycharm": {
     "name": "#%%\n"
    }
   },
   "outputs": [],
   "source": [
    "import matplotlib.pyplot as plt\n",
    "import os, shutil\n",
    "os.environ[\"CUDA_VISIBLE_DEVICES\"]=\"-1\"\n",
    "\n",
    "from KAGGLE_NLP_with_disaster_tweets.model import base_model, utils, constants\n",
    "from KAGGLE_NLP_with_disaster_tweets.data_preparation.utils import DataPipeline, BatchPipeline\n",
    "\n",
    "os.environ[\"CUDA_VISIBLE_DEVICES\"]=\"-1\"\n",
    "\n",
    "log_dir = './logs/hyperparameter_tuning_BaseModelOpt/'\n",
    "\n",
    " # clearing logging directory\n",
    "if os.path.exists(log_dir):\n",
    "    shutil.rmtree(log_dir)\n",
    "else:\n",
    "    os.makedirs(log_dir)"
   ]
  },
  {
   "cell_type": "code",
   "execution_count": 16,
   "metadata": {
    "pycharm": {
     "name": "#%%\n"
    }
   },
   "outputs": [
    {
     "name": "stdout",
     "output_type": "stream",
     "text": [
      "Getting the file: ../data/sample_submission.csv\n",
      "Getting the file: ../data/train.csv\n",
      "Dataframe size before eliminating too short texts: 7613\n",
      "Dataframe size after eliminating too short texts: 7529\n",
      "         id keyword location  \\\n",
      "0         1                    \n",
      "1         4                    \n",
      "2         5                    \n",
      "3         6                    \n",
      "4         7                    \n",
      "...     ...     ...      ...   \n",
      "7608  10869                    \n",
      "7609  10870                    \n",
      "7610  10871                    \n",
      "7611  10872                    \n",
      "7612  10873                    \n",
      "\n",
      "                                                   text  target  \n",
      "0     our deeds are the reason of this earthquake ma...       1  \n",
      "1                 forest fire near la ronge sask canada       1  \n",
      "2     all residents asked to shelter in place are be...       1  \n",
      "3     13  0 people receive wildfires evacuation orde...       1  \n",
      "4     just got sent this photo from ruby alaska as s...       1  \n",
      "...                                                 ...     ...  \n",
      "7608  two giant cranes holding a bridge collapse int...       1  \n",
      "7609  user user the out of control wild fires in cal...       1  \n",
      "7610   m 1  94 0 1  04 utc 5 km s of volcano hawaii url       1  \n",
      "7611  police investigating after an ebike collided w...       1  \n",
      "7612  the latest more homes razed by northern califo...       1  \n",
      "\n",
      "[7529 rows x 5 columns]\n",
      "Vocabulary size of the vectorizer: 17573\n",
      "-----------------------------------------------------------------------------------------\n",
      "Dataset \n",
      "Size: 7529 data points\n",
      "Dataset examples:\n",
      "Input: [ 136 6400   24    3  948    8   21  176  163 1997 6138   81   45    0\n",
      "    0    0    0    0    0    0    0    0    0    0    0    0    0    0\n",
      "    0    0]\n",
      "Target: [0. 1.]\n",
      "Input: [ 112   28  419  641 9614 9433  479    0    0    0    0    0    0    0\n",
      "    0    0    0    0    0    0    0    0    0    0    0    0    0    0\n",
      "    0    0]\n",
      "Target: [0. 1.]\n",
      "Input: [   45  1857  1789     7  2069     6   740    24   155 11038    20  1877\n",
      "    43   547   171    68  2069     6   740  1475    24  1175     0     0\n",
      "     0     0     0     0     0     0]\n",
      "Target: [0. 1.]\n",
      "-----------------------------------------------------------------------------------------\n"
     ]
    }
   ],
   "source": [
    "train_file_name = 'train.csv'\n",
    "kaggle_test_file_name = 'test.csv'\n",
    "sample_submission_file_name = 'sample_submission.csv'\n",
    "\n",
    "max_vocabulary_size = 20000\n",
    "glove_embedding_dim = 200\n",
    "\n",
    "data_pipeline = DataPipeline(train_file_name, kaggle_test_file_name, sample_submission_file_name,\n",
    "                             max_vocabulary_size=max_vocabulary_size,\n",
    "                             output_sequence_length=30,\n",
    "                             glove_embedding_dim=glove_embedding_dim,\n",
    "                             glove_url=constants.glove_url['twitter.27B'])\n",
    "dataset = data_pipeline.prepare_train_dataset(include_cols=[\"keyword\", \"location\"], extract_extras=True)"
   ]
  },
  {
   "cell_type": "code",
   "execution_count": 17,
   "metadata": {
    "pycharm": {
     "name": "#%%\n"
    }
   },
   "outputs": [
    {
     "name": "stdout",
     "output_type": "stream",
     "text": [
      "True instances: 3258 | 43.272678974631425% of data\n",
      "False instances: 4271 | 56.727321025368575% of data\n"
     ]
    }
   ],
   "source": [
    "dataframe = data_pipeline.dataframe\n",
    "isTrueCount = dataframe[\"target\"].where(dataframe[\"target\"] == 1).count()\n",
    "isFalseCount = dataframe[\"target\"].where(dataframe[\"target\"] == 0).count()\n",
    "print(f\"True instances: {isTrueCount} | {100 * isTrueCount / (isTrueCount + isFalseCount)}% of data\")\n",
    "print(f\"False instances: {isFalseCount} | {100 * isFalseCount / (isTrueCount + isFalseCount)}% of data\")"
   ]
  },
  {
   "cell_type": "code",
   "execution_count": 18,
   "metadata": {
    "pycharm": {
     "name": "#%%\n"
    }
   },
   "outputs": [],
   "source": [
    "balanced_class_weights = utils.get_balanced_class_weights(dataframe)"
   ]
  },
  {
   "cell_type": "code",
   "execution_count": 19,
   "metadata": {
    "pycharm": {
     "name": "#%%\n"
    }
   },
   "outputs": [],
   "source": [
    "from tensorboard.plugins.hparams import api as hp\n",
    "\n",
    "epochs = 15\n",
    "log_directory = \"./logs/hyperparameter_tuning_BaseModel/\"\n",
    "\n",
    "# create a dict to keep the hyperparameters\n",
    "hparams = {\n",
    "    hp.HParam(\"optimizer\", hp.Discrete([\"adamw\"])): \"adamw\",\n",
    "    hp.HParam(\"batch_size\", hp.Discrete([16, 32, 64])): 64,\n",
    "    hp.HParam(\"learning_rate\", hp.Discrete([1e-3, 1e-4])): 1e-4,\n",
    "    hp.HParam(\"class_weights\", hp.Discrete([\"none\", \"balanced\"])): \"none\",\n",
    "    hp.HParam(\"dropout\", hp.Discrete([0.1, 0.4])): 0.1\n",
    "}\n",
    "# easier to manage hyperparameters with this wrapper class\n",
    "hyperparameter_manager = utils.HyperparameterManager(hparams=hparams)"
   ]
  },
  {
   "cell_type": "code",
   "execution_count": 20,
   "metadata": {
    "pycharm": {
     "name": "#%%\n"
    }
   },
   "outputs": [
    {
     "name": "stdout",
     "output_type": "stream",
     "text": [
      "Loading the file: glove.twitter.27B.200d.txt \n",
      "\n",
      "Found 1193514 word vectors \n",
      "\n",
      "Converted 12866 words, and missed 4707 words.\n",
      "Model: \"sequential_1\"\n",
      "_________________________________________________________________\n",
      " Layer (type)                Output Shape              Param #   \n",
      "=================================================================\n",
      " embedding_1 (Embedding)     (None, None, 200)         3514600   \n",
      "                                                                 \n",
      " dropout_2 (Dropout)         (None, None, 200)         0         \n",
      "                                                                 \n",
      " bidirectional_2 (Bidirectio  (None, None, 256)        336896    \n",
      " nal)                                                            \n",
      "                                                                 \n",
      " bidirectional_3 (Bidirectio  (None, None, 128)        164352    \n",
      " nal)                                                            \n",
      "                                                                 \n",
      " dense_2 (Dense)             (None, None, 64)          8256      \n",
      "                                                                 \n",
      " global_average_pooling1d_1   (None, 64)               0         \n",
      " (GlobalAveragePooling1D)                                        \n",
      "                                                                 \n",
      " dropout_3 (Dropout)         (None, 64)                0         \n",
      "                                                                 \n",
      " dense_3 (Dense)             (None, 2)                 130       \n",
      "                                                                 \n",
      "=================================================================\n",
      "Total params: 4,024,234\n",
      "Trainable params: 509,634\n",
      "Non-trainable params: 3,514,600\n",
      "_________________________________________________________________\n",
      "None\n"
     ]
    }
   ],
   "source": [
    "model = base_model.BaseModel(\n",
    "    vocabulary_size=data_pipeline.vocabulary_size,\n",
    "    embedding_dim=data_pipeline.glove_embedding_dim,\n",
    "    lstm_dims=[128, 64],\n",
    "    hidden_dim=64,\n",
    "    num_classes=2,\n",
    "    epochs=epochs,\n",
    "    batch_pipeline=BatchPipeline(dataset, hyperparameter_manager.batch_size),\n",
    "    hparam_manager=hyperparameter_manager,\n",
    "    embeddings_initializer=data_pipeline.build_embeddings_initializer())"
   ]
  },
  {
   "cell_type": "markdown",
   "metadata": {
    "pycharm": {
     "name": "#%% md\n"
    }
   },
   "source": [
    "## Train the dataset"
   ]
  },
  {
   "cell_type": "code",
   "execution_count": 21,
   "metadata": {
    "pycharm": {
     "name": "#%%\n"
    }
   },
   "outputs": [
    {
     "name": "stdout",
     "output_type": "stream",
     "text": [
      "basemodel__lr=0.0001__batch_size=64__optimizer=adamw__class_weights=none__dropout=0.1 starting...\n",
      "Epoch 1/15\n",
      "70/70 [==============================] - 14s 115ms/step - loss: 0.6893 - accuracy: 0.5292 - val_loss: 0.6642 - val_accuracy: 0.6685\n",
      "Epoch 2/15\n",
      "70/70 [==============================] - 6s 80ms/step - loss: 0.5908 - accuracy: 0.7373 - val_loss: 0.5041 - val_accuracy: 0.7588\n",
      "Epoch 3/15\n",
      "70/70 [==============================] - 6s 80ms/step - loss: 0.4831 - accuracy: 0.7877 - val_loss: 0.4599 - val_accuracy: 0.7792\n",
      "Epoch 4/15\n",
      "70/70 [==============================] - 6s 82ms/step - loss: 0.4492 - accuracy: 0.8036 - val_loss: 0.4477 - val_accuracy: 0.7853\n",
      "Epoch 5/15\n",
      "70/70 [==============================] - 6s 83ms/step - loss: 0.4368 - accuracy: 0.8100 - val_loss: 0.4430 - val_accuracy: 0.7880\n",
      "Epoch 6/15\n",
      "70/70 [==============================] - 6s 84ms/step - loss: 0.4264 - accuracy: 0.8174 - val_loss: 0.4407 - val_accuracy: 0.7928\n",
      "Epoch 7/15\n",
      "70/70 [==============================] - 6s 84ms/step - loss: 0.4178 - accuracy: 0.8228 - val_loss: 0.4395 - val_accuracy: 0.7894\n",
      "Epoch 8/15\n",
      "70/70 [==============================] - 6s 84ms/step - loss: 0.4111 - accuracy: 0.8225 - val_loss: 0.4393 - val_accuracy: 0.7914\n",
      "Epoch 9/15\n",
      "70/70 [==============================] - 6s 85ms/step - loss: 0.4131 - accuracy: 0.8246 - val_loss: 0.4369 - val_accuracy: 0.7976\n",
      "Epoch 10/15\n",
      "70/70 [==============================] - 6s 82ms/step - loss: 0.4054 - accuracy: 0.8308 - val_loss: 0.4386 - val_accuracy: 0.7955\n",
      "Epoch 11/15\n",
      "70/70 [==============================] - 6s 81ms/step - loss: 0.4010 - accuracy: 0.8297 - val_loss: 0.4389 - val_accuracy: 0.7955\n",
      "Epoch 12/15\n",
      "70/70 [==============================] - 6s 80ms/step - loss: 0.3990 - accuracy: 0.8335 - val_loss: 0.4385 - val_accuracy: 0.7942\n",
      "Epoch 13/15\n",
      "70/70 [==============================] - 6s 82ms/step - loss: 0.3960 - accuracy: 0.8344 - val_loss: 0.4393 - val_accuracy: 0.7928\n",
      "Epoch 14/15\n",
      "70/70 [==============================] - 6s 79ms/step - loss: 0.3933 - accuracy: 0.8375 - val_loss: 0.4388 - val_accuracy: 0.7942\n",
      "Epoch 14: early stopping\n",
      "23/23 [==============================] - 2s 25ms/step - loss: 0.4200 - accuracy: 0.8132\n",
      "basemodel__lr=0.0001__batch_size=64__optimizer=adamw__class_weights=none__dropout=0.1 completed.\n",
      "Accuracy: 0.8131793737411499\n",
      "Precision: 0.819036793474549\n",
      "Recall: 0.8047313014433974\n",
      "F1-Score: 0.8079454959945156\n"
     ]
    }
   ],
   "source": [
    "accuracy, precision, recall, f1, predictions1 = model.fit_and_evaluate(class_weights=balanced_class_weights, log_directory=log_directory)\n",
    "print(f\"Accuracy: {accuracy}\\nPrecision: {precision}\\nRecall: {recall}\\nF1-Score: {f1}\")"
   ]
  },
  {
   "cell_type": "markdown",
   "metadata": {
    "pycharm": {
     "name": "#%% md\n"
    }
   },
   "source": [
    "## Visualize accuracy and loss"
   ]
  },
  {
   "cell_type": "code",
   "execution_count": 22,
   "metadata": {
    "pycharm": {
     "name": "#%%\n"
    }
   },
   "outputs": [
    {
     "data": {
      "text/plain": "<Figure size 432x288 with 1 Axes>",
      "image/png": "[encoded data removed]"
     },
     "metadata": {
      "needs_background": "light"
     },
     "output_type": "display_data"
    }
   ],
   "source": [
    "history_dict = model.history\n",
    "\n",
    "acc = history_dict['accuracy']\n",
    "val_acc = history_dict['val_accuracy']\n",
    "loss = history_dict['loss']\n",
    "val_loss = history_dict['val_loss']\n",
    "\n",
    "epochs = range(1, len(acc) + 1)\n",
    "\n",
    "# \"bo\" is for \"blue dot\"\n",
    "plt.plot(epochs, loss, 'r', label='Training loss')\n",
    "# b is for \"solid blue line\"\n",
    "plt.plot(epochs, val_loss, 'b', label='Validation loss')\n",
    "plt.title('Training and validation loss')\n",
    "plt.xlabel('Epochs')\n",
    "plt.ylabel('Loss')\n",
    "plt.legend()\n",
    "\n",
    "plt.show()"
   ]
  },
  {
   "cell_type": "code",
   "execution_count": 23,
   "metadata": {
    "pycharm": {
     "name": "#%%\n"
    }
   },
   "outputs": [
    {
     "data": {
      "text/plain": "<Figure size 432x288 with 1 Axes>",
      "image/png": "[encoded data removed]"
     },
     "metadata": {
      "needs_background": "light"
     },
     "output_type": "display_data"
    }
   ],
   "source": [
    "plt.plot(epochs, acc, 'r', label='Training acc')\n",
    "plt.plot(epochs, val_acc, 'b', label='Validation acc')\n",
    "plt.title('Training and validation accuracy')\n",
    "plt.xlabel('Epochs')\n",
    "plt.ylabel('Accuracy')\n",
    "plt.legend(loc='lower right')\n",
    "\n",
    "plt.show()"
   ]
  },
  {
   "cell_type": "code",
   "execution_count": 29,
   "outputs": [
    {
     "name": "stdout",
     "output_type": "stream",
     "text": [
      "Getting the file: ../data/test.csv\n",
      "Dataframe size before eliminating too short texts: 3263\n",
      "Dataframe size after eliminating too short texts: 3263\n",
      "         id keyword location  \\\n",
      "0         0                    \n",
      "1         2                    \n",
      "2         3                    \n",
      "3         9                    \n",
      "4        11                    \n",
      "...     ...     ...      ...   \n",
      "3258  10861                    \n",
      "3259  10865                    \n",
      "3260  10868                    \n",
      "3261  10874                    \n",
      "3262  10875                    \n",
      "\n",
      "                                                   text  \n",
      "0                    just happened a terrible car crash  \n",
      "1     heard about earthquake is different cities sta...  \n",
      "2     there is a forest fire at spot pond geese are ...  \n",
      "3                 apocalypse lighting spokane wildfires  \n",
      "4         typhoon soudelor kills 28 in china and taiwan  \n",
      "...                                                 ...  \n",
      "3258  earthquake safety los angeles safety fasteners...  \n",
      "3259  storm in ri worse than last hurricane my citya...  \n",
      "3260               green line derailment in chicago url  \n",
      "3261       meg issues hazardous weather outlook hwo url  \n",
      "3262  cityof calgary has activated its municipal eme...  \n",
      "\n",
      "[3263 rows x 4 columns]\n",
      "Vocabulary size of the vectorizer: 17573\n"
     ]
    }
   ],
   "source": [
    "import tensorflow as tf\n",
    "\n",
    "submission_dataset, submission_df = data_pipeline.prepare_submission_dataset(include_cols=[\"keyword\", \"location\"], extract_extras=True, drop_limit=0)\n",
    "submission_dataset = submission_dataset.batch(batch_size=64).cache().prefetch(buffer_size=tf.data.AUTOTUNE)\n",
    "submission_predictions = model.predict_for_kaggle(submission_dataset)"
   ],
   "metadata": {
    "collapsed": false,
    "pycharm": {
     "name": "#%%\n"
    }
   }
  },
  {
   "cell_type": "code",
   "execution_count": 35,
   "outputs": [],
   "source": [
    "submission_predictions_df = pd.DataFrame(submission_predictions)\n",
    "submission_predictions_df = pd.DataFrame({\"id\" : submission_df[\"id\"], \"target\" : submission_predictions_df[0]})"
   ],
   "metadata": {
    "collapsed": false,
    "pycharm": {
     "name": "#%%\n"
    }
   }
  },
  {
   "cell_type": "code",
   "execution_count": 36,
   "outputs": [
    {
     "data": {
      "text/plain": "         id  target\n0         0       1\n1         2       0\n2         3       1\n3         9       1\n4        11       1\n...     ...     ...\n3258  10861       0\n3259  10865       1\n3260  10868       1\n3261  10874       0\n3262  10875       0\n\n[3263 rows x 2 columns]",
      "text/html": "<div>\n<style scoped>\n    .dataframe tbody tr th:only-of-type {\n        vertical-align: middle;\n    }\n\n    .dataframe tbody tr th {\n        vertical-align: top;\n    }\n\n    .dataframe thead th {\n        text-align: right;\n    }\n</style>\n<table border=\"1\" class=\"dataframe\">\n  <thead>\n    <tr style=\"text-align: right;\">\n      <th></th>\n      <th>id</th>\n      <th>target</th>\n    </tr>\n  </thead>\n  <tbody>\n    <tr>\n      <th>0</th>\n      <td>0</td>\n      <td>1</td>\n    </tr>\n    <tr>\n      <th>1</th>\n      <td>2</td>\n      <td>0</td>\n    </tr>\n    <tr>\n      <th>2</th>\n      <td>3</td>\n      <td>1</td>\n    </tr>\n    <tr>\n      <th>3</th>\n      <td>9</td>\n      <td>1</td>\n    </tr>\n    <tr>\n      <th>4</th>\n      <td>11</td>\n      <td>1</td>\n    </tr>\n    <tr>\n      <th>...</th>\n      <td>...</td>\n      <td>...</td>\n    </tr>\n    <tr>\n      <th>3258</th>\n      <td>10861</td>\n      <td>0</td>\n    </tr>\n    <tr>\n      <th>3259</th>\n      <td>10865</td>\n      <td>1</td>\n    </tr>\n    <tr>\n      <th>3260</th>\n      <td>10868</td>\n      <td>1</td>\n    </tr>\n    <tr>\n      <th>3261</th>\n      <td>10874</td>\n      <td>0</td>\n    </tr>\n    <tr>\n      <th>3262</th>\n      <td>10875</td>\n      <td>0</td>\n    </tr>\n  </tbody>\n</table>\n<p>3263 rows × 2 columns</p>\n</div>"
     },
     "execution_count": 36,
     "metadata": {},
     "output_type": "execute_result"
    }
   ],
   "source": [
    "submission_predictions_df"
   ],
   "metadata": {
    "collapsed": false,
    "pycharm": {
     "name": "#%%\n"
    }
   }
  },
  {
   "cell_type": "code",
   "execution_count": 38,
   "outputs": [],
   "source": [
    "submission_predictions_df.to_csv('kaggle_predictions.csv', index=False)"
   ],
   "metadata": {
    "collapsed": false,
    "pycharm": {
     "name": "#%%\n"
    }
   }
  },
  {
   "cell_type": "code",
   "execution_count": null,
   "outputs": [],
   "source": [
    "model.save_model()\n"
   ],
   "metadata": {
    "collapsed": false,
    "pycharm": {
     "name": "#%%\n"
    }
   }
  },
  {
   "cell_type": "code",
   "execution_count": null,
   "outputs": [],
   "source": [],
   "metadata": {
    "collapsed": false,
    "pycharm": {
     "name": "#%%\n"
    }
   }
  }
 ],
 "metadata": {
  "kernelspec": {
   "display_name": "Python 3 (ipykernel)",
   "language": "python",
   "name": "python3"
  },
  "language_info": {
   "codemirror_mode": {
    "name": "ipython",
    "version": 3
   },
   "file_extension": ".py",
   "mimetype": "text/x-python",
   "name": "python",
   "nbconvert_exporter": "python",
   "pygments_lexer": "ipython3",
   "version": "3.9.7"
  }
 },
 "nbformat": 4,
 "nbformat_minor": 1
}