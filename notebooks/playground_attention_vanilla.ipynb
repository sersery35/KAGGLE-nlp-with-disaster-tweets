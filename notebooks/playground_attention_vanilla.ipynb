{
 "cells": [
  {
   "cell_type": "code",
   "execution_count": 120,
   "outputs": [
    {
     "name": "stdout",
     "output_type": "stream",
     "text": [
      "The autoreload extension is already loaded. To reload it, use:\n",
      "  %reload_ext autoreload\n"
     ]
    }
   ],
   "source": [
    "%load_ext autoreload\n",
    "%autoreload 2"
   ],
   "metadata": {
    "collapsed": false,
    "pycharm": {
     "name": "#%%\n"
    }
   }
  },
  {
   "cell_type": "code",
   "execution_count": 121,
   "outputs": [],
   "source": [
    "import os\n",
    "os.environ[\"CUDA_VISIBLE_DEVICES\"]=\"-1\"\n",
    "import matplotlib.pyplot as plt\n",
    "\n",
    "from KAGGLE_NLP_with_disaster_tweets.model import attention_model\n",
    "from KAGGLE_NLP_with_disaster_tweets.data_preparation.utils import DataPipeline, BatchPipeline"
   ],
   "metadata": {
    "collapsed": false,
    "pycharm": {
     "name": "#%%\n"
    }
   }
  },
  {
   "cell_type": "code",
   "execution_count": 187,
   "outputs": [
    {
     "name": "stdout",
     "output_type": "stream",
     "text": [
      "Getting the file: ../data/train.csv\n",
      "         id keyword location  \\\n",
      "0         1                    \n",
      "1         4                    \n",
      "2         5                    \n",
      "3         6                    \n",
      "4         7                    \n",
      "...     ...     ...      ...   \n",
      "7608  10869                    \n",
      "7609  10870                    \n",
      "7610  10871                    \n",
      "7611  10872                    \n",
      "7612  10873                    \n",
      "\n",
      "                                                   text  target  \n",
      "0     our deeds are the reason of this hashtag earth...       1  \n",
      "1                 forest fire near la ronge sask canada       1  \n",
      "2     all residents asked to shelter in place are be...       1  \n",
      "3     number people receive hashtag wildfires evacua...       1  \n",
      "4     just got sent this photo from ruby hashtag ala...       1  \n",
      "...                                                 ...     ...  \n",
      "7608  two giant cranes holding a bridge collapse int...       1  \n",
      "7609  user user the out of control wild fires in cal...       1  \n",
      "7610  m number  number utc number km s of volcano ha...       1  \n",
      "7611  police investigating after an ebike collided w...       1  \n",
      "7612  the latest more homes razed by northern califo...       1  \n",
      "\n",
      "[7503 rows x 5 columns]\n",
      "-----------------------------------------------------------------------------------------\n",
      "Dataset \n",
      "Size: 7503\n",
      "Dataset examples:\n",
      "Input: [766 227 296 134  28  66 780 698  82 795   2   0   0   0   0   0   0   0\n",
      "   0   0   0   0   0   0   0   0   0   0   0   0]\n",
      "Target: [0. 1.]\n",
      "Input: [ 2155  2190 14046  6574   267    12  8317  2346     2     0     0     0\n",
      "     0     0     0     0     0     0     0     0     0     0     0     0\n",
      "     0     0     0     0     0     0]\n",
      "Target: [1. 0.]\n",
      "Input: [   11    11   770  1035    17 11792   322    14 13690     0     0     0\n",
      "     0     0     0     0     0     0     0     0     0     0     0     0\n",
      "     0     0     0     0     0     0]\n",
      "Target: [1. 0.]\n",
      "-----------------------------------------------------------------------------------------\n",
      "Getting the file: ../data/test.csv\n",
      "Getting the file: ../data/sample_submission.csv\n"
     ]
    }
   ],
   "source": [
    "train_file_name = 'train.csv'\n",
    "test_file_name = 'test.csv'\n",
    "sample_submission_file_name = 'sample_submission.csv'\n",
    "\n",
    "data_pipeline = DataPipeline(train_file_name, test_file_name, sample_submission_file_name, output_sequence_length=30, vocabulary_size=20000, embedding_dim=100)\n",
    "dataset, submission_test_dataset = data_pipeline.prepare_datasets(include_cols=[])"
   ],
   "metadata": {
    "collapsed": false,
    "pycharm": {
     "name": "#%%\n"
    }
   }
  },
  {
   "cell_type": "code",
   "execution_count": 188,
   "outputs": [
    {
     "name": "stdout",
     "output_type": "stream",
     "text": [
      "20000\n"
     ]
    }
   ],
   "source": [
    "print(data_pipeline.vocabulary_size)"
   ],
   "metadata": {
    "collapsed": false,
    "pycharm": {
     "name": "#%%\n"
    }
   }
  },
  {
   "cell_type": "code",
   "execution_count": 189,
   "outputs": [
    {
     "name": "stdout",
     "output_type": "stream",
     "text": [
      "['', '[UNK]', 'number', 'url', 'the', 'user', 'hashtag', 'a', 'to', 'in']\n"
     ]
    }
   ],
   "source": [
    "print(data_pipeline.input_vectorizer.get_vocabulary()[:10])"
   ],
   "metadata": {
    "collapsed": false,
    "pycharm": {
     "name": "#%%\n"
    }
   }
  },
  {
   "cell_type": "code",
   "execution_count": 201,
   "outputs": [],
   "source": [
    "model = attention_model.Classifier(\n",
    "    # model_dim=data_pipeline.embedding_dim,\n",
    "    model_dim=128,\n",
    "    feed_forward_dim=256,\n",
    "    num_heads=8,\n",
    "    vocab_size=data_pipeline.vocabulary_size,\n",
    "    n_labels=2,\n",
    "    maximum_position_encoding=data_pipeline.input_vectorizer.get_config()[\"output_sequence_length\"],\n",
    "    # embeddings_initializer=data_pipeline.build_embeddings_initializer(),\n",
    "    dropout_rate=0.3)"
   ],
   "metadata": {
    "collapsed": false,
    "pycharm": {
     "name": "#%%\n"
    }
   }
  },
  {
   "cell_type": "code",
   "execution_count": 202,
   "outputs": [],
   "source": [
    "batch_pipeline = BatchPipeline(dataset=dataset, submission_test_dataset=submission_test_dataset, batch_size=32)"
   ],
   "metadata": {
    "collapsed": false,
    "pycharm": {
     "name": "#%%\n"
    }
   }
  },
  {
   "cell_type": "code",
   "execution_count": 203,
   "outputs": [],
   "source": [
    "import tensorflow as tf\n",
    "from official.nlp import optimization\n",
    "\n",
    "lr = 5e-5\n",
    "epochs = 10\n",
    "warmup_ratio = 0.1\n",
    "\n",
    "num_train_steps = epochs*len(list(batch_pipeline.train_dataset.as_numpy_iterator()))\n",
    "num_warmup_steps = round(warmup_ratio* num_train_steps)\n",
    "\n",
    "optimizer = optimization.create_optimizer(init_lr=lr,\n",
    "                                          num_train_steps=num_train_steps,\n",
    "                                          num_warmup_steps=num_warmup_steps,\n",
    "                                          optimizer_type='adamw')"
   ],
   "metadata": {
    "collapsed": false,
    "pycharm": {
     "name": "#%%\n"
    }
   }
  },
  {
   "cell_type": "code",
   "execution_count": 204,
   "outputs": [],
   "source": [
    "model.compile(\n",
    "        optimizer=optimizer,\n",
    "        loss=tf.keras.losses.BinaryCrossentropy(),\n",
    "        metrics=['accuracy']\n",
    "    )"
   ],
   "metadata": {
    "collapsed": false,
    "pycharm": {
     "name": "#%%\n"
    }
   }
  },
  {
   "cell_type": "markdown",
   "source": [
    "## Sanity Check: Overfit the model"
   ],
   "metadata": {
    "collapsed": false,
    "pycharm": {
     "name": "#%% md\n"
    }
   }
  },
  {
   "cell_type": "code",
   "execution_count": 205,
   "outputs": [],
   "source": [
    "debugging_dataset = dataset.take(2).batch(2)"
   ],
   "metadata": {
    "collapsed": false,
    "pycharm": {
     "name": "#%%\n"
    }
   }
  },
  {
   "cell_type": "code",
   "execution_count": 206,
   "outputs": [
    {
     "name": "stdout",
     "output_type": "stream",
     "text": [
      "Epoch 1/10\n",
      "1/1 [==============================] - 4s 4s/step - loss: 1.0263 - accuracy: 0.5000 - val_loss: 1.0838 - val_accuracy: 0.5000\n",
      "Epoch 2/10\n",
      "1/1 [==============================] - 2s 2s/step - loss: 1.0806 - accuracy: 0.5000 - val_loss: 1.0513 - val_accuracy: 0.5000\n",
      "Epoch 3/10\n",
      "1/1 [==============================] - 2s 2s/step - loss: 1.0118 - accuracy: 0.5000 - val_loss: 0.9393 - val_accuracy: 0.5000\n",
      "Epoch 4/10\n",
      "1/1 [==============================] - 2s 2s/step - loss: 1.0176 - accuracy: 0.5000 - val_loss: 1.0527 - val_accuracy: 0.5000\n",
      "Epoch 5/10\n",
      "1/1 [==============================] - 2s 2s/step - loss: 0.9422 - accuracy: 0.5000 - val_loss: 1.0457 - val_accuracy: 0.5000\n",
      "Epoch 6/10\n",
      "1/1 [==============================] - 2s 2s/step - loss: 1.0423 - accuracy: 0.5000 - val_loss: 1.0292 - val_accuracy: 0.5000\n",
      "Epoch 7/10\n",
      "1/1 [==============================] - 2s 2s/step - loss: 1.0432 - accuracy: 0.5000 - val_loss: 1.0296 - val_accuracy: 0.5000\n",
      "Epoch 8/10\n",
      "1/1 [==============================] - 2s 2s/step - loss: 0.9579 - accuracy: 0.5000 - val_loss: 1.0080 - val_accuracy: 0.5000\n",
      "Epoch 9/10\n",
      "1/1 [==============================] - 2s 2s/step - loss: 0.9644 - accuracy: 0.5000 - val_loss: 1.0303 - val_accuracy: 0.5000\n",
      "Epoch 10/10\n",
      "1/1 [==============================] - 2s 2s/step - loss: 1.0493 - accuracy: 0.5000 - val_loss: 0.9856 - val_accuracy: 0.5000\n"
     ]
    },
    {
     "data": {
      "text/plain": "<keras.callbacks.History at 0x7f9711929b80>"
     },
     "execution_count": 206,
     "metadata": {},
     "output_type": "execute_result"
    }
   ],
   "source": [
    "model.fit(debugging_dataset, validation_data=debugging_dataset, epochs=10)"
   ],
   "metadata": {
    "collapsed": false,
    "pycharm": {
     "name": "#%%\n"
    }
   }
  },
  {
   "cell_type": "markdown",
   "source": [
    "## Train the model"
   ],
   "metadata": {
    "collapsed": false,
    "pycharm": {
     "name": "#%% md\n"
    }
   }
  },
  {
   "cell_type": "code",
   "execution_count": 207,
   "outputs": [
    {
     "name": "stdout",
     "output_type": "stream",
     "text": [
      "Epoch 1/10\n",
      "164/164 [==============================] - 8s 42ms/step - loss: 0.7244 - accuracy: 0.5737 - val_loss: 0.6812 - val_accuracy: 0.5696\n",
      "Epoch 2/10\n",
      "164/164 [==============================] - 5s 33ms/step - loss: 0.6688 - accuracy: 0.5941 - val_loss: 0.6595 - val_accuracy: 0.6438\n",
      "Epoch 3/10\n",
      "164/164 [==============================] - 6s 35ms/step - loss: 0.6411 - accuracy: 0.6540 - val_loss: 0.6248 - val_accuracy: 0.7188\n",
      "Epoch 4/10\n",
      "164/164 [==============================] - 5s 33ms/step - loss: 0.5993 - accuracy: 0.7222 - val_loss: 0.5770 - val_accuracy: 0.7455\n",
      "Epoch 5/10\n",
      "164/164 [==============================] - 6s 34ms/step - loss: 0.5454 - accuracy: 0.7675 - val_loss: 0.5338 - val_accuracy: 0.7625\n",
      "Epoch 6/10\n",
      "164/164 [==============================] - 5s 33ms/step - loss: 0.4986 - accuracy: 0.7873 - val_loss: 0.5103 - val_accuracy: 0.7652\n",
      "Epoch 7/10\n",
      "164/164 [==============================] - 5s 33ms/step - loss: 0.4656 - accuracy: 0.8056 - val_loss: 0.5000 - val_accuracy: 0.7688\n",
      "Epoch 8/10\n",
      "164/164 [==============================] - 6s 34ms/step - loss: 0.4457 - accuracy: 0.8140 - val_loss: 0.4945 - val_accuracy: 0.7848\n",
      "Epoch 9/10\n",
      "164/164 [==============================] - 6s 34ms/step - loss: 0.4345 - accuracy: 0.8159 - val_loss: 0.4932 - val_accuracy: 0.7821\n",
      "Epoch 10/10\n",
      "164/164 [==============================] - 6s 34ms/step - loss: 0.4275 - accuracy: 0.8169 - val_loss: 0.4975 - val_accuracy: 0.7723\n"
     ]
    }
   ],
   "source": [
    "history = model.fit(batch_pipeline.train_dataset, validation_data=batch_pipeline.validation_dataset, epochs=epochs)"
   ],
   "metadata": {
    "collapsed": false,
    "pycharm": {
     "name": "#%%\n"
    }
   }
  },
  {
   "cell_type": "code",
   "execution_count": 197,
   "outputs": [],
   "source": [
    "history = history.history"
   ],
   "metadata": {
    "collapsed": false,
    "pycharm": {
     "name": "#%%\n"
    }
   }
  },
  {
   "cell_type": "code",
   "execution_count": 198,
   "outputs": [
    {
     "data": {
      "text/plain": "<Figure size 432x288 with 1 Axes>",
      "image/png": "[encoded data removed]"
     },
     "metadata": {
      "needs_background": "light"
     },
     "output_type": "display_data"
    }
   ],
   "source": [
    "acc = history['accuracy']\n",
    "val_acc = history['val_accuracy']\n",
    "loss = history['loss']\n",
    "val_loss = history['val_loss']\n",
    "\n",
    "epochs = range(1, len(acc) + 1)\n",
    "\n",
    "# \"bo\" is for \"blue dot\"\n",
    "plt.plot(epochs, loss, 'r', label='Training loss')\n",
    "# b is for \"solid blue line\"\n",
    "plt.plot(epochs, val_loss, 'b', label='Validation loss')\n",
    "plt.title('Training and validation loss')\n",
    "plt.xlabel('Epochs')\n",
    "plt.ylabel('Loss')\n",
    "plt.legend()\n",
    "\n",
    "plt.show()"
   ],
   "metadata": {
    "collapsed": false,
    "pycharm": {
     "name": "#%%\n"
    }
   }
  },
  {
   "cell_type": "code",
   "execution_count": 199,
   "outputs": [
    {
     "data": {
      "text/plain": "<Figure size 432x288 with 1 Axes>",
      "image/png": "[encoded data removed]"
     },
     "metadata": {
      "needs_background": "light"
     },
     "output_type": "display_data"
    }
   ],
   "source": [
    "plt.plot(epochs, acc, 'r', label='Training acc')\n",
    "plt.plot(epochs, val_acc, 'b', label='Validation acc')\n",
    "plt.title('Training and validation accuracy')\n",
    "plt.xlabel('Epochs')\n",
    "plt.ylabel('Accuracy')\n",
    "plt.legend(loc='lower right')\n",
    "\n",
    "plt.show()"
   ],
   "metadata": {
    "collapsed": false,
    "pycharm": {
     "name": "#%%\n"
    }
   }
  },
  {
   "cell_type": "code",
   "execution_count": 199,
   "outputs": [],
   "source": [],
   "metadata": {
    "collapsed": false,
    "pycharm": {
     "name": "#%%\n"
    }
   }
  },
  {
   "cell_type": "code",
   "execution_count": null,
   "outputs": [],
   "source": [],
   "metadata": {
    "collapsed": false,
    "pycharm": {
     "name": "#%%\n"
    }
   }
  }
 ],
 "metadata": {
  "kernelspec": {
   "display_name": "Python 3",
   "language": "python",
   "name": "python3"
  },
  "language_info": {
   "codemirror_mode": {
    "name": "ipython",
    "version": 2
   },
   "file_extension": ".py",
   "mimetype": "text/x-python",
   "name": "python",
   "nbconvert_exporter": "python",
   "pygments_lexer": "ipython2",
   "version": "2.7.6"
  }
 },
 "nbformat": 4,
 "nbformat_minor": 0
}