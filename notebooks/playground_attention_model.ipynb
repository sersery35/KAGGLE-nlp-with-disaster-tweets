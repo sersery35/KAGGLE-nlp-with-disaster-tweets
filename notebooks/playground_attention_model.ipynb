{
 "cells": [
  {
   "cell_type": "code",
   "execution_count": 31,
   "outputs": [
    {
     "name": "stdout",
     "output_type": "stream",
     "text": [
      "The autoreload extension is already loaded. To reload it, use:\n",
      "  %reload_ext autoreload\n"
     ]
    }
   ],
   "source": [
    "%load_ext autoreload\n",
    "%autoreload 2"
   ],
   "metadata": {
    "collapsed": false,
    "pycharm": {
     "name": "#%%\n"
    }
   }
  },
  {
   "cell_type": "code",
   "execution_count": 32,
   "outputs": [],
   "source": [
    "import os\n",
    "os.environ[\"CUDA_VISIBLE_DEVICES\"]=\"-1\"\n",
    "import matplotlib.pyplot as plt\n",
    "\n",
    "from KAGGLE_NLP_with_disaster_tweets.model import constants, utils\n",
    "from KAGGLE_NLP_with_disaster_tweets.model.attention_model import AttentionModel\n",
    "from KAGGLE_NLP_with_disaster_tweets.data_preparation.utils import DataPipeline, BatchPipeline"
   ],
   "metadata": {
    "collapsed": false,
    "pycharm": {
     "name": "#%%\n"
    }
   }
  },
  {
   "cell_type": "code",
   "execution_count": 33,
   "outputs": [
    {
     "name": "stdout",
     "output_type": "stream",
     "text": [
      "Getting the file: ../data/sample_submission.csv\n",
      "Getting the file: ../data/train.csv\n",
      "Dataframe size before eliminating too short texts: 7613\n",
      "Dataframe size after eliminating too short texts: 7529\n",
      "         id keyword location  \\\n",
      "0         1                    \n",
      "1         4                    \n",
      "2         5                    \n",
      "3         6                    \n",
      "4         7                    \n",
      "...     ...     ...      ...   \n",
      "7608  10869                    \n",
      "7609  10870                    \n",
      "7610  10871                    \n",
      "7611  10872                    \n",
      "7612  10873                    \n",
      "\n",
      "                                                   text  target  \n",
      "0     our deeds are the reason of this earthquake ma...       1  \n",
      "1                 forest fire near la ronge sask canada       1  \n",
      "2     all residents asked to shelter in place are be...       1  \n",
      "3     13  000 people receive wildfires evacuation or...       1  \n",
      "4     just got sent this photo from ruby alaska as s...       1  \n",
      "...                                                 ...     ...  \n",
      "7608  two giant cranes holding a bridge collapse int...       1  \n",
      "7609  user user the out of control wild fires in cal...       1  \n",
      "7610   m 1  94 0 1  04 utc 5 km s of volcano hawaii url       1  \n",
      "7611  police investigating after an ebike collided w...       1  \n",
      "7612  the latest more homes razed by northern califo...       1  \n",
      "\n",
      "[7529 rows x 5 columns]\n",
      "Vocabulary size of the vectorizer: 17674\n",
      "-----------------------------------------------------------------------------------------\n",
      "Dataset \n",
      "Size: 7529 data points\n",
      "Dataset examples:\n",
      "Input: [ 136 6414   24    3  950    8   21  175  161 1987 6150   81   44    0\n",
      "    0    0    0    0    0    0    0    0    0    0    0    0    0    0\n",
      "    0    0]\n",
      "Target: [0. 1.]\n",
      "Input: [ 113   28  417  642 9650 9469  477    0    0    0    0    0    0    0\n",
      "    0    0    0    0    0    0    0    0    0    0    0    0    0    0\n",
      "    0    0]\n",
      "Target: [0. 1.]\n",
      "Input: [   44  1846  1779     7  2059     6   739    24   155 11084    20  1866\n",
      "    46   545   174    70  2059     6   739  1471    24  1172     0     0\n",
      "     0     0     0     0     0     0]\n",
      "Target: [0. 1.]\n",
      "-----------------------------------------------------------------------------------------\n"
     ]
    }
   ],
   "source": [
    "train_file_name = 'train.csv'\n",
    "test_file_name = 'test.csv'\n",
    "sample_submission_file_name = 'sample_submission.csv'\n",
    "max_vocabulary_size = 20000\n",
    "\n",
    "data_pipeline = DataPipeline(train_file_name, test_file_name, sample_submission_file_name,\n",
    "                             output_sequence_length=30,\n",
    "                             max_vocabulary_size=max_vocabulary_size,\n",
    "                             glove_embedding_dim=200,\n",
    "                             glove_url=constants.glove_url['twitter.27B'])\n",
    "dataset = data_pipeline.prepare_train_dataset(include_cols=[\"location\", \"keyword\"], extract_extras=True)"
   ],
   "metadata": {
    "collapsed": false,
    "pycharm": {
     "name": "#%%\n"
    }
   }
  },
  {
   "cell_type": "code",
   "execution_count": 34,
   "outputs": [],
   "source": [
    "from tensorboard.plugins.hparams import api as hp\n",
    "\n",
    "epochs = 10\n",
    "log_directory = \"./logs/hyperparameter_tuning_BaseModel/\"\n",
    "\n",
    "# create a dict to keep the hyperparameters\n",
    "hparams = {\n",
    "    hp.HParam(\"optimizer\", hp.Discrete([\"adamw\"])): \"adamw\",\n",
    "    hp.HParam(\"batch_size\", hp.Discrete([16, 32, 64])): 32,\n",
    "    hp.HParam(\"learning_rate\", hp.RealInterval(1e-5, 1e-3)): 1e-4,\n",
    "    hp.HParam(\"class_weights\", hp.Discrete([\"none\", \"balanced\"])): \"balanced\",\n",
    "    hp.HParam(\"dropout\", hp.Discrete([0.1, 0.9])): 0.4\n",
    "}\n",
    "# easier to manage hyperparameters with this wrapper class\n",
    "hyperparameter_manager = utils.HyperparameterManager(hparams=hparams)"
   ],
   "metadata": {
    "collapsed": false,
    "pycharm": {
     "name": "#%%\n"
    }
   }
  },
  {
   "cell_type": "code",
   "execution_count": 35,
   "outputs": [
    {
     "name": "stdout",
     "output_type": "stream",
     "text": [
      "Loading the file: glove.twitter.27B.200d.txt \n",
      "\n",
      "Found 1193514 word vectors \n",
      "\n",
      "Converted 12888 words, and missed 4786 words.\n"
     ]
    }
   ],
   "source": [
    "model = None\n",
    "use_glove_embeddings = True\n",
    "\n",
    "if use_glove_embeddings:\n",
    "    model = AttentionModel(\n",
    "        embedding_dim=data_pipeline.glove_embedding_dim,\n",
    "        hidden_dim=256,\n",
    "        num_heads=4,\n",
    "        vocabulary_size=data_pipeline.vocabulary_size,\n",
    "        num_classes=2,\n",
    "        epochs=10,\n",
    "        maximum_position_encoding=data_pipeline.input_vectorizer.get_config()[\"output_sequence_length\"],\n",
    "        embeddings_initializer=data_pipeline.build_embeddings_initializer(),\n",
    "        hparam_manager=hyperparameter_manager,\n",
    "        batch_pipeline=BatchPipeline(dataset, hyperparameter_manager.batch_size))\n",
    "else:\n",
    "    model = AttentionModel(\n",
    "        embedding_dim=128,\n",
    "        hidden_dim=256,\n",
    "        num_heads=4,\n",
    "        vocabulary_size=data_pipeline.vocabulary_size,\n",
    "        num_classes=2,\n",
    "        epochs=10,\n",
    "        maximum_position_encoding=data_pipeline.input_vectorizer.get_config()[\"output_sequence_length\"],\n",
    "        hparam_manager=hyperparameter_manager,\n",
    "        batch_pipeline=BatchPipeline(dataset, hyperparameter_manager.batch_size))"
   ],
   "metadata": {
    "collapsed": false,
    "pycharm": {
     "name": "#%%\n"
    }
   }
  },
  {
   "cell_type": "code",
   "execution_count": 36,
   "outputs": [],
   "source": [
    "balanced_class_weights = utils.get_balanced_class_weights(data_pipeline.dataframe)"
   ],
   "metadata": {
    "collapsed": false,
    "pycharm": {
     "name": "#%%\n"
    }
   }
  },
  {
   "cell_type": "markdown",
   "source": [
    "## Sanity Check: Overfit the model"
   ],
   "metadata": {
    "collapsed": false,
    "pycharm": {
     "name": "#%% md\n"
    }
   }
  },
  {
   "cell_type": "code",
   "execution_count": 37,
   "outputs": [
    {
     "name": "stdout",
     "output_type": "stream",
     "text": [
      "Epoch 1/10\n",
      "1/1 [==============================] - 2s 2s/step - loss: 0.6761 - accuracy: 0.5000 - val_loss: 0.5948 - val_accuracy: 0.5000\n",
      "Epoch 2/10\n",
      "1/1 [==============================] - 0s 154ms/step - loss: 0.6521 - accuracy: 0.5000 - val_loss: 0.5919 - val_accuracy: 0.5000\n",
      "Epoch 3/10\n",
      "1/1 [==============================] - 0s 152ms/step - loss: 0.6669 - accuracy: 0.5000 - val_loss: 0.5861 - val_accuracy: 0.5000\n",
      "Epoch 4/10\n",
      "1/1 [==============================] - 0s 136ms/step - loss: 0.5554 - accuracy: 0.5000 - val_loss: 0.5774 - val_accuracy: 0.5000\n",
      "Epoch 5/10\n",
      "1/1 [==============================] - 0s 150ms/step - loss: 0.4934 - accuracy: 1.0000 - val_loss: 0.5661 - val_accuracy: 0.5000\n",
      "Epoch 6/10\n",
      "1/1 [==============================] - 0s 136ms/step - loss: 0.6221 - accuracy: 0.5000 - val_loss: 0.5520 - val_accuracy: 0.5000\n",
      "Epoch 7/10\n",
      "1/1 [==============================] - 0s 167ms/step - loss: 0.5019 - accuracy: 0.5000 - val_loss: 0.5355 - val_accuracy: 0.5000\n",
      "Epoch 8/10\n",
      "1/1 [==============================] - 0s 168ms/step - loss: 0.5898 - accuracy: 0.5000 - val_loss: 0.5167 - val_accuracy: 0.5000\n",
      "Epoch 9/10\n",
      "1/1 [==============================] - 0s 142ms/step - loss: 0.5242 - accuracy: 0.5000 - val_loss: 0.4958 - val_accuracy: 0.5000\n",
      "Epoch 10/10\n",
      "1/1 [==============================] - 0s 147ms/step - loss: 0.4891 - accuracy: 0.5000 - val_loss: 0.4730 - val_accuracy: 0.5000\n"
     ]
    }
   ],
   "source": [
    "debugging_dataset = dataset.take(2).batch(2)\n",
    "model.test_model(debugging_dataset, 10)"
   ],
   "metadata": {
    "collapsed": false,
    "pycharm": {
     "name": "#%%\n"
    }
   }
  },
  {
   "cell_type": "markdown",
   "source": [],
   "metadata": {
    "collapsed": false,
    "pycharm": {
     "name": "#%% md\n"
    }
   }
  },
  {
   "cell_type": "code",
   "execution_count": 38,
   "outputs": [
    {
     "name": "stdout",
     "output_type": "stream",
     "text": [
      "None starting...\n",
      "Epoch 1/10\n",
      "141/141 [==============================] - 7s 38ms/step - loss: 0.5467 - accuracy: 0.7117 - val_loss: 0.5229 - val_accuracy: 0.7673\n",
      "Epoch 2/10\n",
      "141/141 [==============================] - 4s 29ms/step - loss: 0.4474 - accuracy: 0.8003 - val_loss: 0.5100 - val_accuracy: 0.7726\n",
      "Epoch 3/10\n",
      "141/141 [==============================] - 5s 34ms/step - loss: 0.4161 - accuracy: 0.8169 - val_loss: 0.4898 - val_accuracy: 0.7899\n",
      "Epoch 4/10\n",
      "141/141 [==============================] - 5s 33ms/step - loss: 0.3919 - accuracy: 0.8291 - val_loss: 0.4829 - val_accuracy: 0.8005\n",
      "Epoch 5/10\n",
      "141/141 [==============================] - 5s 34ms/step - loss: 0.3730 - accuracy: 0.8404 - val_loss: 0.4963 - val_accuracy: 0.7992\n",
      "Epoch 6/10\n",
      "141/141 [==============================] - 5s 35ms/step - loss: 0.3557 - accuracy: 0.8502 - val_loss: 0.5089 - val_accuracy: 0.7999\n",
      "Epoch 7/10\n",
      "141/141 [==============================] - 5s 36ms/step - loss: 0.3433 - accuracy: 0.8559 - val_loss: 0.5246 - val_accuracy: 0.8065\n",
      "Epoch 7: early stopping\n",
      "47/47 [==============================] - 2s 12ms/step - loss: 0.5272 - accuracy: 0.8085\n",
      "None completed.\n",
      "Accuracy: 0.8085106611251831\n",
      "Precision: 0.8219952332311883\n",
      "Recall: 0.7959207027820543\n",
      "F1-Score: 0.8002416550604599\n"
     ]
    }
   ],
   "source": [
    "accuracy, precision, recall, f1, predictions1 = model.fit_and_evaluate(class_weights=balanced_class_weights, log_directory=log_directory)\n",
    "print(f\"Accuracy: {accuracy}\\nPrecision: {precision}\\nRecall: {recall}\\nF1-Score: {f1}\")"
   ],
   "metadata": {
    "collapsed": false,
    "pycharm": {
     "name": "#%%\n"
    }
   }
  },
  {
   "cell_type": "markdown",
   "source": [
    "## Visualize accuracy and loss"
   ],
   "metadata": {
    "collapsed": false,
    "pycharm": {
     "name": "#%% md\n"
    }
   }
  },
  {
   "cell_type": "code",
   "execution_count": 39,
   "outputs": [],
   "source": [
    "history = model.history"
   ],
   "metadata": {
    "collapsed": false,
    "pycharm": {
     "name": "#%%\n"
    }
   }
  },
  {
   "cell_type": "code",
   "execution_count": 40,
   "outputs": [
    {
     "data": {
      "text/plain": "<Figure size 432x288 with 1 Axes>",
      "image/png": "[encoded data removed]"
     },
     "metadata": {
      "needs_background": "light"
     },
     "output_type": "display_data"
    }
   ],
   "source": [
    "acc = history['accuracy']\n",
    "val_acc = history['val_accuracy']\n",
    "loss = history['loss']\n",
    "val_loss = history['val_loss']\n",
    "\n",
    "epochs = range(1, len(acc) + 1)\n",
    "\n",
    "# \"bo\" is for \"blue dot\"\n",
    "plt.plot(epochs, loss, 'r', label='Training loss')\n",
    "# b is for \"solid blue line\"\n",
    "plt.plot(epochs, val_loss, 'b', label='Validation loss')\n",
    "plt.title('Training and validation loss')\n",
    "plt.xlabel('Epochs')\n",
    "plt.ylabel('Loss')\n",
    "plt.legend()\n",
    "\n",
    "plt.show()"
   ],
   "metadata": {
    "collapsed": false,
    "pycharm": {
     "name": "#%%\n"
    }
   }
  },
  {
   "cell_type": "code",
   "execution_count": 41,
   "outputs": [
    {
     "data": {
      "text/plain": "<Figure size 432x288 with 1 Axes>",
      "image/png": "[encoded data removed]"
     },
     "metadata": {
      "needs_background": "light"
     },
     "output_type": "display_data"
    }
   ],
   "source": [
    "plt.plot(epochs, acc, 'r', label='Training acc')\n",
    "plt.plot(epochs, val_acc, 'b', label='Validation acc')\n",
    "plt.title('Training and validation accuracy')\n",
    "plt.xlabel('Epochs')\n",
    "plt.ylabel('Accuracy')\n",
    "plt.legend(loc='lower right')\n",
    "\n",
    "plt.show()"
   ],
   "metadata": {
    "collapsed": false,
    "pycharm": {
     "name": "#%%\n"
    }
   }
  },
  {
   "cell_type": "code",
   "execution_count": 41,
   "outputs": [],
   "source": [],
   "metadata": {
    "collapsed": false,
    "pycharm": {
     "name": "#%%\n"
    }
   }
  },
  {
   "cell_type": "code",
   "execution_count": 41,
   "outputs": [],
   "source": [],
   "metadata": {
    "collapsed": false,
    "pycharm": {
     "name": "#%%\n"
    }
   }
  }
 ],
 "metadata": {
  "kernelspec": {
   "display_name": "Python 3",
   "language": "python",
   "name": "python3"
  },
  "language_info": {
   "codemirror_mode": {
    "name": "ipython",
    "version": 2
   },
   "file_extension": ".py",
   "mimetype": "text/x-python",
   "name": "python",
   "nbconvert_exporter": "python",
   "pygments_lexer": "ipython2",
   "version": "2.7.6"
  }
 },
 "nbformat": 4,
 "nbformat_minor": 0
}