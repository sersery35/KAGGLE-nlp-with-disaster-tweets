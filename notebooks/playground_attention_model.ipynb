{
 "cells": [
  {
   "cell_type": "code",
   "execution_count": 327,
   "outputs": [
    {
     "name": "stdout",
     "output_type": "stream",
     "text": [
      "The autoreload extension is already loaded. To reload it, use:\n",
      "  %reload_ext autoreload\n"
     ]
    }
   ],
   "source": [
    "%load_ext autoreload\n",
    "%autoreload 2"
   ],
   "metadata": {
    "collapsed": false,
    "pycharm": {
     "name": "#%%\n"
    }
   }
  },
  {
   "cell_type": "code",
   "execution_count": 328,
   "outputs": [],
   "source": [
    "import os\n",
    "os.environ[\"CUDA_VISIBLE_DEVICES\"]=\"-1\"\n",
    "import matplotlib.pyplot as plt\n",
    "\n",
    "from KAGGLE_NLP_with_disaster_tweets.model import attention_model\n",
    "from KAGGLE_NLP_with_disaster_tweets.data_preparation.utils import DataPipeline, BatchPipeline"
   ],
   "metadata": {
    "collapsed": false,
    "pycharm": {
     "name": "#%%\n"
    }
   }
  },
  {
   "cell_type": "code",
   "execution_count": 329,
   "outputs": [
    {
     "name": "stdout",
     "output_type": "stream",
     "text": [
      "Getting the file: ../data/train.csv\n",
      "Dataframe size before eliminating too short texts: 7613\n",
      "Dataframe size after eliminating too short texts: 7462\n",
      "         id keyword location  \\\n",
      "0         1                    \n",
      "1         4                    \n",
      "2         5                    \n",
      "3         6                    \n",
      "4         7                    \n",
      "...     ...     ...      ...   \n",
      "7608  10869                    \n",
      "7609  10870                    \n",
      "7610  10871                    \n",
      "7611  10872                    \n",
      "7612  10873                    \n",
      "\n",
      "                                                   text  target  \n",
      "0     our deeds are the reason of this earthquake ma...       1  \n",
      "1                 forest fire near la ronge sask canada       1  \n",
      "2     all residents asked to shelter in place are be...       1  \n",
      "3      people receive wildfires evacuation orders in...       1  \n",
      "4     just got sent this photo from ruby alaska as s...       1  \n",
      "...                                                 ...     ...  \n",
      "7608  two giant cranes holding a bridge collapse int...       1  \n",
      "7609  user user the out of control wild fires in cal...       1  \n",
      "7610               m  0  utc km s of volcano hawaii url       1  \n",
      "7611  police investigating after an ebike collided w...       1  \n",
      "7612  the latest more homes razed by northern califo...       1  \n",
      "\n",
      "[7462 rows x 5 columns]\n",
      "Vocabulary size of the vectorizer: 15000\n",
      "-----------------------------------------------------------------------------------------\n",
      "Dataset \n",
      "Size: 7462 data points\n",
      "Dataset examples:\n",
      "Input: [ 125 6105   24    3  894    8   21  189  149 1874 5842   78   44    0\n",
      "    0    0    0    0    0    0    0    0    0    0    0    0    0    0\n",
      "    0    0]\n",
      "Target: [0. 1.]\n",
      "Input: [ 108   28  389  622 9188 9014  476    0    0    0    0    0    0    0\n",
      "    0    0    0    0    0    0    0    0    0    0    0    0    0    0\n",
      "    0    0]\n",
      "Target: [0. 1.]\n",
      "Input: [   44  1738  1677     7  1930     6   741    24   143 10583    20  1757\n",
      "    46   512   164    62  1930     6   741  1384    24  1162     0     0\n",
      "     0     0     0     0     0     0]\n",
      "Target: [0. 1.]\n",
      "-----------------------------------------------------------------------------------------\n"
     ]
    }
   ],
   "source": [
    "train_file_name = 'train.csv'\n",
    "test_file_name = 'test.csv'\n",
    "sample_submission_file_name = 'sample_submission.csv'\n",
    "vocabulary_size = 15000\n",
    "\n",
    "data_pipeline = DataPipeline(train_file_name, test_file_name, sample_submission_file_name, output_sequence_length=30, vocabulary_size=vocabulary_size, glove_embedding_dim=100)\n",
    "dataset = data_pipeline.prepare_dataset(include_cols=[\"location\", \"keyword\"], apply_preprocessing=True)"
   ],
   "metadata": {
    "collapsed": false,
    "pycharm": {
     "name": "#%%\n"
    }
   }
  },
  {
   "cell_type": "code",
   "execution_count": 330,
   "outputs": [
    {
     "name": "stdout",
     "output_type": "stream",
     "text": [
      "['', '[UNK]', 'url', 'the', 'user', 'a', 'in', 'to', 'of', 'i']\n"
     ]
    }
   ],
   "source": [
    "print(data_pipeline.input_vectorizer.get_vocabulary()[:10])"
   ],
   "metadata": {
    "collapsed": false,
    "pycharm": {
     "name": "#%%\n"
    }
   }
  },
  {
   "cell_type": "code",
   "execution_count": 331,
   "outputs": [
    {
     "name": "stdout",
     "output_type": "stream",
     "text": [
      "Found 1193514 word vectors \n",
      "\n",
      "Converted 11456 words, and missed 3544 words.\n"
     ]
    }
   ],
   "source": [
    "model = None\n",
    "use_glove_embeddings = True\n",
    "\n",
    "if use_glove_embeddings:\n",
    "    model = attention_model.Classifier(\n",
    "        model_dim=data_pipeline.glove_embedding_dim,\n",
    "        feed_forward_dim=256,\n",
    "        num_heads=2,\n",
    "        vocab_size=data_pipeline.vocabulary_size,\n",
    "        n_labels=2,\n",
    "        maximum_position_encoding=data_pipeline.input_vectorizer.get_config()[\"output_sequence_length\"],\n",
    "        embeddings_initializer=data_pipeline.build_embeddings_initializer(),\n",
    "        dropout_rate=0.5)\n",
    "else:\n",
    "    model = attention_model.Classifier(\n",
    "        model_dim=128,\n",
    "        feed_forward_dim=256,\n",
    "        num_heads=2,\n",
    "        vocab_size=data_pipeline.vocabulary_size,\n",
    "        n_labels=2,\n",
    "        maximum_position_encoding=data_pipeline.input_vectorizer.get_config()[\"output_sequence_length\"],\n",
    "        dropout_rate=0.5)"
   ],
   "metadata": {
    "collapsed": false,
    "pycharm": {
     "name": "#%%\n"
    }
   }
  },
  {
   "cell_type": "code",
   "execution_count": 332,
   "outputs": [],
   "source": [
    "batch_pipeline = BatchPipeline(dataset=dataset, batch_size=16)"
   ],
   "metadata": {
    "collapsed": false,
    "pycharm": {
     "name": "#%%\n"
    }
   }
  },
  {
   "cell_type": "code",
   "execution_count": 333,
   "outputs": [],
   "source": [
    "import tensorflow as tf\n",
    "from official.nlp import optimization\n",
    "\n",
    "lr = 1e-4\n",
    "epochs = 10\n",
    "warmup_ratio = 0.1\n",
    "\n",
    "num_train_steps = epochs*len(list(batch_pipeline.train_dataset.as_numpy_iterator()))\n",
    "num_warmup_steps = round(warmup_ratio* num_train_steps)\n",
    "\n",
    "optimizer = optimization.create_optimizer(init_lr=lr,\n",
    "                                          num_train_steps=num_train_steps,\n",
    "                                          num_warmup_steps=num_warmup_steps,\n",
    "                                          optimizer_type='adamw')"
   ],
   "metadata": {
    "collapsed": false,
    "pycharm": {
     "name": "#%%\n"
    }
   }
  },
  {
   "cell_type": "code",
   "execution_count": 334,
   "outputs": [],
   "source": [
    "model.compile(\n",
    "        optimizer=optimizer,\n",
    "        loss=tf.keras.losses.BinaryCrossentropy(),\n",
    "        metrics=['accuracy']\n",
    "    )"
   ],
   "metadata": {
    "collapsed": false,
    "pycharm": {
     "name": "#%%\n"
    }
   }
  },
  {
   "cell_type": "markdown",
   "source": [
    "## Sanity Check: Overfit the model"
   ],
   "metadata": {
    "collapsed": false,
    "pycharm": {
     "name": "#%% md\n"
    }
   }
  },
  {
   "cell_type": "code",
   "execution_count": 335,
   "outputs": [],
   "source": [
    "debugging_dataset = dataset.take(2).batch(2)"
   ],
   "metadata": {
    "collapsed": false,
    "pycharm": {
     "name": "#%%\n"
    }
   }
  },
  {
   "cell_type": "code",
   "execution_count": 336,
   "outputs": [
    {
     "name": "stdout",
     "output_type": "stream",
     "text": [
      "Epoch 1/10\n",
      "1/1 [==============================] - 2s 2s/step - loss: 0.6751 - accuracy: 0.5000 - val_loss: 0.6915 - val_accuracy: 0.5000\n",
      "Epoch 2/10\n",
      "1/1 [==============================] - 0s 187ms/step - loss: 0.7489 - accuracy: 0.5000 - val_loss: 0.6910 - val_accuracy: 0.5000\n",
      "Epoch 3/10\n",
      "1/1 [==============================] - 0s 164ms/step - loss: 0.6672 - accuracy: 0.5000 - val_loss: 0.6902 - val_accuracy: 0.5000\n",
      "Epoch 4/10\n",
      "1/1 [==============================] - 0s 183ms/step - loss: 0.6954 - accuracy: 0.5000 - val_loss: 0.6889 - val_accuracy: 0.5000\n",
      "Epoch 5/10\n",
      "1/1 [==============================] - 0s 163ms/step - loss: 0.6879 - accuracy: 0.5000 - val_loss: 0.6872 - val_accuracy: 0.5000\n",
      "Epoch 6/10\n",
      "1/1 [==============================] - 0s 161ms/step - loss: 0.6793 - accuracy: 1.0000 - val_loss: 0.6851 - val_accuracy: 0.5000\n",
      "Epoch 7/10\n",
      "1/1 [==============================] - 0s 178ms/step - loss: 0.6329 - accuracy: 1.0000 - val_loss: 0.6826 - val_accuracy: 0.5000\n",
      "Epoch 8/10\n",
      "1/1 [==============================] - 0s 173ms/step - loss: 0.6512 - accuracy: 1.0000 - val_loss: 0.6797 - val_accuracy: 0.5000\n",
      "Epoch 9/10\n",
      "1/1 [==============================] - 0s 185ms/step - loss: 0.7255 - accuracy: 0.5000 - val_loss: 0.6763 - val_accuracy: 0.5000\n",
      "Epoch 10/10\n",
      "1/1 [==============================] - 0s 155ms/step - loss: 0.6841 - accuracy: 0.5000 - val_loss: 0.6726 - val_accuracy: 0.5000\n"
     ]
    },
    {
     "data": {
      "text/plain": "<keras.callbacks.History at 0x7f763c9a1e20>"
     },
     "execution_count": 336,
     "metadata": {},
     "output_type": "execute_result"
    }
   ],
   "source": [
    "model.fit(debugging_dataset, validation_data=debugging_dataset, epochs=10)"
   ],
   "metadata": {
    "collapsed": false,
    "pycharm": {
     "name": "#%%\n"
    }
   }
  },
  {
   "cell_type": "markdown",
   "source": [
    "## Train the model"
   ],
   "metadata": {
    "collapsed": false,
    "pycharm": {
     "name": "#%% md\n"
    }
   }
  },
  {
   "cell_type": "code",
   "execution_count": 337,
   "outputs": [
    {
     "name": "stdout",
     "output_type": "stream",
     "text": [
      "Epoch 1/20\n",
      "279/279 [==============================] - 5s 16ms/step - loss: 0.5971 - accuracy: 0.6808 - val_loss: 0.4902 - val_accuracy: 0.7762\n",
      "Epoch 2/20\n",
      "279/279 [==============================] - 4s 15ms/step - loss: 0.4757 - accuracy: 0.7888 - val_loss: 0.4676 - val_accuracy: 0.7890\n",
      "Epoch 3/20\n",
      "279/279 [==============================] - 4s 14ms/step - loss: 0.4463 - accuracy: 0.8098 - val_loss: 0.4690 - val_accuracy: 0.7997\n",
      "Epoch 4/20\n",
      "279/279 [==============================] - 4s 14ms/step - loss: 0.4358 - accuracy: 0.8129 - val_loss: 0.4693 - val_accuracy: 0.8044\n",
      "Epoch 5/20\n",
      "279/279 [==============================] - 4s 13ms/step - loss: 0.4256 - accuracy: 0.8136 - val_loss: 0.4721 - val_accuracy: 0.8044\n",
      "Epoch 6/20\n",
      "279/279 [==============================] - 5s 16ms/step - loss: 0.4214 - accuracy: 0.8156 - val_loss: 0.4740 - val_accuracy: 0.8071\n",
      "Epoch 7/20\n",
      "279/279 [==============================] - 4s 14ms/step - loss: 0.4131 - accuracy: 0.8257 - val_loss: 0.4704 - val_accuracy: 0.8071\n",
      "Epoch 8/20\n",
      "279/279 [==============================] - 4s 13ms/step - loss: 0.4085 - accuracy: 0.8241 - val_loss: 0.4695 - val_accuracy: 0.8065\n",
      "Epoch 9/20\n",
      "279/279 [==============================] - 4s 13ms/step - loss: 0.4047 - accuracy: 0.8293 - val_loss: 0.4663 - val_accuracy: 0.8085\n",
      "Epoch 10/20\n",
      "279/279 [==============================] - 4s 13ms/step - loss: 0.3997 - accuracy: 0.8324 - val_loss: 0.4658 - val_accuracy: 0.8105\n",
      "Epoch 11/20\n",
      "279/279 [==============================] - 4s 13ms/step - loss: 0.3981 - accuracy: 0.8320 - val_loss: 0.4658 - val_accuracy: 0.8105\n",
      "Epoch 12/20\n",
      "279/279 [==============================] - 5s 20ms/step - loss: 0.3972 - accuracy: 0.8315 - val_loss: 0.4658 - val_accuracy: 0.8105\n",
      "Epoch 13/20\n",
      "279/279 [==============================] - 4s 14ms/step - loss: 0.4007 - accuracy: 0.8291 - val_loss: 0.4658 - val_accuracy: 0.8105\n",
      "Epoch 14/20\n",
      "279/279 [==============================] - 6s 20ms/step - loss: 0.4015 - accuracy: 0.8291 - val_loss: 0.4658 - val_accuracy: 0.8105\n",
      "Epoch 15/20\n",
      "279/279 [==============================] - 6s 22ms/step - loss: 0.4021 - accuracy: 0.8318 - val_loss: 0.4658 - val_accuracy: 0.8105\n",
      "Epoch 16/20\n",
      "279/279 [==============================] - 6s 22ms/step - loss: 0.3989 - accuracy: 0.8322 - val_loss: 0.4658 - val_accuracy: 0.8105\n",
      "Epoch 17/20\n",
      "279/279 [==============================] - 7s 24ms/step - loss: 0.4001 - accuracy: 0.8353 - val_loss: 0.4658 - val_accuracy: 0.8105\n",
      "Epoch 18/20\n",
      "279/279 [==============================] - 7s 24ms/step - loss: 0.3989 - accuracy: 0.8324 - val_loss: 0.4658 - val_accuracy: 0.8105\n",
      "Epoch 19/20\n",
      "279/279 [==============================] - 6s 23ms/step - loss: 0.3996 - accuracy: 0.8322 - val_loss: 0.4658 - val_accuracy: 0.8105\n",
      "Epoch 20/20\n",
      "279/279 [==============================] - 7s 25ms/step - loss: 0.3995 - accuracy: 0.8304 - val_loss: 0.4658 - val_accuracy: 0.8105\n"
     ]
    }
   ],
   "source": [
    "res = model.fit(batch_pipeline.train_dataset, validation_data=batch_pipeline.validation_dataset, epochs=20)"
   ],
   "metadata": {
    "collapsed": false,
    "pycharm": {
     "name": "#%%\n"
    }
   }
  },
  {
   "cell_type": "markdown",
   "source": [
    "## Visualize accuracy and loss"
   ],
   "metadata": {
    "collapsed": false,
    "pycharm": {
     "name": "#%% md\n"
    }
   }
  },
  {
   "cell_type": "code",
   "execution_count": 338,
   "outputs": [],
   "source": [
    "history = res.history"
   ],
   "metadata": {
    "collapsed": false,
    "pycharm": {
     "name": "#%%\n"
    }
   }
  },
  {
   "cell_type": "code",
   "execution_count": 339,
   "outputs": [
    {
     "data": {
      "text/plain": "<Figure size 432x288 with 1 Axes>",
      "image/png": "[encoded data removed]"
     },
     "metadata": {
      "needs_background": "light"
     },
     "output_type": "display_data"
    }
   ],
   "source": [
    "acc = history['accuracy']\n",
    "val_acc = history['val_accuracy']\n",
    "loss = history['loss']\n",
    "val_loss = history['val_loss']\n",
    "\n",
    "epochs = range(1, len(acc) + 1)\n",
    "\n",
    "# \"bo\" is for \"blue dot\"\n",
    "plt.plot(epochs, loss, 'r', label='Training loss')\n",
    "# b is for \"solid blue line\"\n",
    "plt.plot(epochs, val_loss, 'b', label='Validation loss')\n",
    "plt.title('Training and validation loss')\n",
    "plt.xlabel('Epochs')\n",
    "plt.ylabel('Loss')\n",
    "plt.legend()\n",
    "\n",
    "plt.show()"
   ],
   "metadata": {
    "collapsed": false,
    "pycharm": {
     "name": "#%%\n"
    }
   }
  },
  {
   "cell_type": "code",
   "execution_count": 340,
   "outputs": [
    {
     "data": {
      "text/plain": "<Figure size 432x288 with 1 Axes>",
      "image/png": "[encoded data removed]"
     },
     "metadata": {
      "needs_background": "light"
     },
     "output_type": "display_data"
    }
   ],
   "source": [
    "plt.plot(epochs, acc, 'r', label='Training acc')\n",
    "plt.plot(epochs, val_acc, 'b', label='Validation acc')\n",
    "plt.title('Training and validation accuracy')\n",
    "plt.xlabel('Epochs')\n",
    "plt.ylabel('Accuracy')\n",
    "plt.legend(loc='lower right')\n",
    "\n",
    "plt.show()"
   ],
   "metadata": {
    "collapsed": false,
    "pycharm": {
     "name": "#%%\n"
    }
   }
  },
  {
   "cell_type": "code",
   "execution_count": 340,
   "outputs": [],
   "source": [],
   "metadata": {
    "collapsed": false,
    "pycharm": {
     "name": "#%%\n"
    }
   }
  }
 ],
 "metadata": {
  "kernelspec": {
   "display_name": "Python 3",
   "language": "python",
   "name": "python3"
  },
  "language_info": {
   "codemirror_mode": {
    "name": "ipython",
    "version": 2
   },
   "file_extension": ".py",
   "mimetype": "text/x-python",
   "name": "python",
   "nbconvert_exporter": "python",
   "pygments_lexer": "ipython2",
   "version": "2.7.6"
  }
 },
 "nbformat": 4,
 "nbformat_minor": 0
}