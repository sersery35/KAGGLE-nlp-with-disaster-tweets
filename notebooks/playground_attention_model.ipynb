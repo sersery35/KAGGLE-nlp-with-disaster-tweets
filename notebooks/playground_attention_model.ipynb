{
 "cells": [
  {
   "cell_type": "code",
   "execution_count": 530,
   "outputs": [
    {
     "name": "stdout",
     "output_type": "stream",
     "text": [
      "The autoreload extension is already loaded. To reload it, use:\n",
      "  %reload_ext autoreload\n"
     ]
    }
   ],
   "source": [
    "%load_ext autoreload\n",
    "%autoreload 2"
   ],
   "metadata": {
    "collapsed": false,
    "pycharm": {
     "name": "#%%\n"
    }
   }
  },
  {
   "cell_type": "code",
   "execution_count": 531,
   "outputs": [],
   "source": [
    "import os\n",
    "os.environ[\"CUDA_VISIBLE_DEVICES\"]=\"-1\"\n",
    "import matplotlib.pyplot as plt\n",
    "\n",
    "from KAGGLE_NLP_with_disaster_tweets.model import constants, utils\n",
    "from KAGGLE_NLP_with_disaster_tweets.model.attention_model import AttentionModel\n",
    "from KAGGLE_NLP_with_disaster_tweets.data_preparation.utils import DataPipeline, BatchPipeline"
   ],
   "metadata": {
    "collapsed": false,
    "pycharm": {
     "name": "#%%\n"
    }
   }
  },
  {
   "cell_type": "code",
   "execution_count": 532,
   "outputs": [
    {
     "name": "stdout",
     "output_type": "stream",
     "text": [
      "Getting the file: ../data/sample_submission.csv\n",
      "Getting the file: ../data/train.csv\n",
      "Dataframe size before eliminating too short texts: 7613\n",
      "Dataframe size after eliminating too short texts: 7526\n",
      "         id keyword location  \\\n",
      "0         1                    \n",
      "1         4                    \n",
      "2         5                    \n",
      "3         6                    \n",
      "4         7                    \n",
      "...     ...     ...      ...   \n",
      "7608  10869                    \n",
      "7609  10870                    \n",
      "7610  10871                    \n",
      "7611  10872                    \n",
      "7612  10873                    \n",
      "\n",
      "                                                   text  target  \n",
      "0     our deeds are the reason of this earthquake ma...       1  \n",
      "1                 forest fire near la ronge sask canada       1  \n",
      "2     all residents asked to shelter in place are be...       1  \n",
      "3      people receive wildfires evacuation orders in...       1  \n",
      "4     just got sent this photo from ruby alaska as s...       1  \n",
      "...                                                 ...     ...  \n",
      "7608  two giant cranes holding a bridge collapse int...       1  \n",
      "7609  user user the out of control wild fires in cal...       1  \n",
      "7610               m  0  utc km s of volcano hawaii url       1  \n",
      "7611  police investigating after an ebike collided w...       1  \n",
      "7612  the latest more homes razed by northern califo...       1  \n",
      "\n",
      "[7526 rows x 5 columns]\n",
      "Vocabulary size of the vectorizer: 17246\n",
      "-----------------------------------------------------------------------------------------\n",
      "Dataset \n",
      "Size: 7526 data points\n",
      "Dataset examples:\n",
      "Input: [ 127 6299   24    3  920    8   21  166  152 1932 6036   76   42    0\n",
      "    0    0    0    0    0    0    0    0    0    0    0    0    0    0\n",
      "    0    0]\n",
      "Target: [0. 1.]\n",
      "Input: [ 106   28  401  618 9472 9291  460    0    0    0    0    0    0    0\n",
      "    0    0    0    0    0    0    0    0    0    0    0    0    0    0\n",
      "    0    0]\n",
      "Target: [0. 1.]\n",
      "Input: [   42  1791  1731     7  1996     6   713    24   146 10906    20  1811\n",
      "    44   526   165    65  1996     6   713  1429    24  1139     0     0\n",
      "     0     0     0     0     0     0]\n",
      "Target: [0. 1.]\n",
      "-----------------------------------------------------------------------------------------\n"
     ]
    }
   ],
   "source": [
    "train_file_name = 'train.csv'\n",
    "test_file_name = 'test.csv'\n",
    "sample_submission_file_name = 'sample_submission.csv'\n",
    "max_vocabulary_size = 20000\n",
    "\n",
    "data_pipeline = DataPipeline(train_file_name, test_file_name, sample_submission_file_name,\n",
    "                             output_sequence_length=30,\n",
    "                             max_vocabulary_size=max_vocabulary_size,\n",
    "                             glove_embedding_dim=300,\n",
    "                             glove_url=constants.glove_url['6B'])\n",
    "dataset = data_pipeline.prepare_train_dataset(include_cols=[\"location\", \"keyword\"], extract_extras=True, download_mentioned_tweets=False)"
   ],
   "metadata": {
    "collapsed": false,
    "pycharm": {
     "name": "#%%\n"
    }
   }
  },
  {
   "cell_type": "code",
   "execution_count": 533,
   "outputs": [
    {
     "name": "stdout",
     "output_type": "stream",
     "text": [
      "['', '[UNK]', 'url', 'the', 'user', 'a', 'in', 'to', 'of', 'i']\n"
     ]
    }
   ],
   "source": [
    "print(data_pipeline.input_vectorizer.get_vocabulary()[:10])"
   ],
   "metadata": {
    "collapsed": false,
    "pycharm": {
     "name": "#%%\n"
    }
   }
  },
  {
   "cell_type": "code",
   "execution_count": 534,
   "outputs": [],
   "source": [
    "from tensorboard.plugins.hparams import api as hp\n",
    "\n",
    "batch_size = 64\n",
    "epochs = 10\n",
    "log_directory = \"./logs/hyperparameter_tuning_BaseModel/\"\n",
    "\n",
    "# create a dict to keep the hyperparameters\n",
    "hparams = {\n",
    "    hp.HParam(\"optimizer\", hp.Discrete([\"adamw\"])): \"adamw\",\n",
    "    hp.HParam(\"batch_size\", hp.Discrete([16, 32, 64])): batch_size,\n",
    "    hp.HParam(\"learning_rate\", hp.RealInterval(1e-5, 1e-3)): 1e-4,\n",
    "    hp.HParam(\"class_weights\", hp.Discrete([\"none\", \"balanced\"])): \"balanced\",\n",
    "    hp.HParam(\"dropout\", hp.Discrete([0.1, 0.9])): 0.5\n",
    "}\n",
    "# easier to manage hyperparameters with this wrapper class\n",
    "hyperparameter_manager = utils.HyperparameterManager(hparams=hparams)"
   ],
   "metadata": {
    "collapsed": false,
    "pycharm": {
     "name": "#%%\n"
    }
   }
  },
  {
   "cell_type": "code",
   "execution_count": 537,
   "outputs": [
    {
     "name": "stdout",
     "output_type": "stream",
     "text": [
      "Loading the file: glove.6B.300d.txt \n",
      "\n",
      "Found 400000 word vectors \n",
      "\n",
      "Converted 12380 words, and missed 4866 words.\n",
      "Train dataset length: 70\n"
     ]
    }
   ],
   "source": [
    "model = None\n",
    "use_glove_embeddings = True\n",
    "\n",
    "if use_glove_embeddings:\n",
    "    model = AttentionModel(\n",
    "        embedding_dim=data_pipeline.glove_embedding_dim,\n",
    "        hidden_dim=256,\n",
    "        num_heads=4,\n",
    "        vocabulary_size=data_pipeline.vocabulary_size,\n",
    "        num_classes=2,\n",
    "        epochs=10,\n",
    "        maximum_position_encoding=data_pipeline.input_vectorizer.get_config()[\"output_sequence_length\"],\n",
    "        embeddings_initializer=data_pipeline.build_embeddings_initializer(),\n",
    "        hparam_manager=hyperparameter_manager,\n",
    "        batch_pipeline=BatchPipeline(dataset, batch_size))\n",
    "else:\n",
    "    model = AttentionModel(\n",
    "        embedding_dim=128,\n",
    "        hidden_dim=256,\n",
    "        num_heads=4,\n",
    "        vocabulary_size=data_pipeline.vocabulary_size,\n",
    "        num_classes=2,\n",
    "        epochs=10,\n",
    "        maximum_position_encoding=data_pipeline.input_vectorizer.get_config()[\"output_sequence_length\"],\n",
    "        hparam_manager=hyperparameter_manager,\n",
    "        batch_pipeline=BatchPipeline(dataset, batch_size))"
   ],
   "metadata": {
    "collapsed": false,
    "pycharm": {
     "name": "#%%\n"
    }
   }
  },
  {
   "cell_type": "code",
   "execution_count": 538,
   "outputs": [],
   "source": [
    "balanced_class_weights = utils.get_balanced_class_weights(data_pipeline.dataframe)"
   ],
   "metadata": {
    "collapsed": false,
    "pycharm": {
     "name": "#%%\n"
    }
   }
  },
  {
   "cell_type": "markdown",
   "source": [
    "## Sanity Check: Overfit the model"
   ],
   "metadata": {
    "collapsed": false,
    "pycharm": {
     "name": "#%% md\n"
    }
   }
  },
  {
   "cell_type": "code",
   "execution_count": 539,
   "outputs": [
    {
     "name": "stdout",
     "output_type": "stream",
     "text": [
      "Epoch 1/10\n",
      "1/1 [==============================] - 2s 2s/step - loss: 1.0995 - accuracy: 0.0000e+00 - val_loss: 1.3723 - val_accuracy: 0.0000e+00\n",
      "Epoch 2/10\n",
      "1/1 [==============================] - 0s 142ms/step - loss: 1.0729 - accuracy: 0.0000e+00 - val_loss: 1.3537 - val_accuracy: 0.0000e+00\n",
      "Epoch 3/10\n",
      "1/1 [==============================] - 0s 132ms/step - loss: 1.1974 - accuracy: 0.0000e+00 - val_loss: 1.3166 - val_accuracy: 0.0000e+00\n",
      "Epoch 4/10\n",
      "1/1 [==============================] - 0s 143ms/step - loss: 1.2107 - accuracy: 0.0000e+00 - val_loss: 1.2617 - val_accuracy: 0.0000e+00\n",
      "Epoch 5/10\n",
      "1/1 [==============================] - 0s 138ms/step - loss: 1.2969 - accuracy: 0.0000e+00 - val_loss: 1.1903 - val_accuracy: 0.0000e+00\n",
      "Epoch 6/10\n",
      "1/1 [==============================] - 0s 155ms/step - loss: 1.0237 - accuracy: 0.0000e+00 - val_loss: 1.1042 - val_accuracy: 0.0000e+00\n",
      "Epoch 7/10\n",
      "1/1 [==============================] - 0s 151ms/step - loss: 0.9414 - accuracy: 0.0000e+00 - val_loss: 1.0054 - val_accuracy: 0.0000e+00\n",
      "Epoch 8/10\n",
      "1/1 [==============================] - 0s 154ms/step - loss: 0.9455 - accuracy: 0.0000e+00 - val_loss: 0.8972 - val_accuracy: 0.0000e+00\n",
      "Epoch 9/10\n",
      "1/1 [==============================] - 0s 146ms/step - loss: 0.8218 - accuracy: 0.0000e+00 - val_loss: 0.7829 - val_accuracy: 0.0000e+00\n",
      "Epoch 10/10\n",
      "1/1 [==============================] - 0s 151ms/step - loss: 0.9398 - accuracy: 0.0000e+00 - val_loss: 0.6668 - val_accuracy: 1.0000\n"
     ]
    }
   ],
   "source": [
    "debugging_dataset = dataset.take(2).batch(2)\n",
    "model.test_model(debugging_dataset, 10)"
   ],
   "metadata": {
    "collapsed": false,
    "pycharm": {
     "name": "#%%\n"
    }
   }
  },
  {
   "cell_type": "markdown",
   "source": [],
   "metadata": {
    "collapsed": false,
    "pycharm": {
     "name": "#%% md\n"
    }
   }
  },
  {
   "cell_type": "code",
   "execution_count": 540,
   "outputs": [
    {
     "name": "stdout",
     "output_type": "stream",
     "text": [
      "run -> __lr=0.0001__batch_size=64__optimizer=adamw__class_weights=balanced__dropout=0.5 starting...\n",
      "Epoch 1/10\n",
      "70/70 [==============================] - ETA: 0s - loss: 0.5741 - accuracy: 0.6850"
     ]
    },
    {
     "name": "stderr",
     "output_type": "stream",
     "text": [
      "2022-03-08 22:12:50.900213: W tensorflow/core/framework/cpu_allocator_impl.cc:82] Allocation of 1241712000 exceeds 10% of free system memory.\n"
     ]
    },
    {
     "name": "stdout",
     "output_type": "stream",
     "text": [
      "70/70 [==============================] - 9s 104ms/step - loss: 0.5741 - accuracy: 0.6850 - val_loss: 0.4710 - val_accuracy: 0.7969\n",
      "Epoch 2/10\n",
      "70/70 [==============================] - ETA: 0s - loss: 0.4473 - accuracy: 0.8056"
     ]
    },
    {
     "name": "stderr",
     "output_type": "stream",
     "text": [
      "2022-03-08 22:12:57.078403: W tensorflow/core/framework/cpu_allocator_impl.cc:82] Allocation of 1241712000 exceeds 10% of free system memory.\n"
     ]
    },
    {
     "name": "stdout",
     "output_type": "stream",
     "text": [
      "70/70 [==============================] - 6s 83ms/step - loss: 0.4473 - accuracy: 0.8056 - val_loss: 0.4419 - val_accuracy: 0.8166\n",
      "Epoch 3/10\n",
      "70/70 [==============================] - ETA: 0s - loss: 0.4136 - accuracy: 0.8266"
     ]
    },
    {
     "name": "stderr",
     "output_type": "stream",
     "text": [
      "2022-03-08 22:13:02.530344: W tensorflow/core/framework/cpu_allocator_impl.cc:82] Allocation of 1241712000 exceeds 10% of free system memory.\n"
     ]
    },
    {
     "name": "stdout",
     "output_type": "stream",
     "text": [
      "70/70 [==============================] - 5s 77ms/step - loss: 0.4136 - accuracy: 0.8266 - val_loss: 0.4392 - val_accuracy: 0.8227\n",
      "Epoch 4/10\n",
      "70/70 [==============================] - ETA: 0s - loss: 0.3918 - accuracy: 0.8386"
     ]
    },
    {
     "name": "stderr",
     "output_type": "stream",
     "text": [
      "2022-03-08 22:13:07.964060: W tensorflow/core/framework/cpu_allocator_impl.cc:82] Allocation of 1241712000 exceeds 10% of free system memory.\n"
     ]
    },
    {
     "name": "stdout",
     "output_type": "stream",
     "text": [
      "70/70 [==============================] - 5s 77ms/step - loss: 0.3918 - accuracy: 0.8386 - val_loss: 0.4397 - val_accuracy: 0.8200\n",
      "Epoch 5/10\n",
      "70/70 [==============================] - ETA: 0s - loss: 0.3693 - accuracy: 0.8442"
     ]
    },
    {
     "name": "stderr",
     "output_type": "stream",
     "text": [
      "2022-03-08 22:13:13.703463: W tensorflow/core/framework/cpu_allocator_impl.cc:82] Allocation of 1241712000 exceeds 10% of free system memory.\n"
     ]
    },
    {
     "name": "stdout",
     "output_type": "stream",
     "text": [
      "70/70 [==============================] - 6s 83ms/step - loss: 0.3693 - accuracy: 0.8442 - val_loss: 0.4446 - val_accuracy: 0.8159\n",
      "Epoch 6/10\n",
      "70/70 [==============================] - 6s 91ms/step - loss: 0.3494 - accuracy: 0.8542 - val_loss: 0.4578 - val_accuracy: 0.8186\n",
      "Epoch 7/10\n",
      "70/70 [==============================] - 6s 80ms/step - loss: 0.3337 - accuracy: 0.8614 - val_loss: 0.4708 - val_accuracy: 0.8166\n",
      "Epoch 8/10\n",
      "70/70 [==============================] - 6s 81ms/step - loss: 0.3184 - accuracy: 0.8681 - val_loss: 0.4815 - val_accuracy: 0.8220\n",
      "Epoch 9/10\n",
      "70/70 [==============================] - 6s 83ms/step - loss: 0.3073 - accuracy: 0.8752 - val_loss: 0.4827 - val_accuracy: 0.8220\n",
      "Epoch 10/10\n",
      "70/70 [==============================] - 6s 83ms/step - loss: 0.2978 - accuracy: 0.8757 - val_loss: 0.4811 - val_accuracy: 0.8166\n",
      "23/23 [==============================] - 2s 27ms/step - loss: 0.5557 - accuracy: 0.7948\n",
      "run -> __lr=0.0001__batch_size=64__optimizer=adamw__class_weights=balanced__dropout=0.5 completed.\n",
      "Accuracy: 0.7948369383811951\n",
      "Precision: 0.7967736737846778\n",
      "Recall: 0.7905219461593989\n",
      "F1-Score: 0.7919970054276624\n"
     ]
    }
   ],
   "source": [
    "accuracy, precision, recall, f1, predictions1 = model.fit_and_evaluate(class_weights=balanced_class_weights, log_directory=log_directory)\n",
    "print(f\"Accuracy: {accuracy}\\nPrecision: {precision}\\nRecall: {recall}\\nF1-Score: {f1}\")"
   ],
   "metadata": {
    "collapsed": false,
    "pycharm": {
     "name": "#%%\n"
    }
   }
  },
  {
   "cell_type": "markdown",
   "source": [
    "## Visualize accuracy and loss"
   ],
   "metadata": {
    "collapsed": false,
    "pycharm": {
     "name": "#%% md\n"
    }
   }
  },
  {
   "cell_type": "code",
   "execution_count": 541,
   "outputs": [],
   "source": [
    "history = model.history"
   ],
   "metadata": {
    "collapsed": false,
    "pycharm": {
     "name": "#%%\n"
    }
   }
  },
  {
   "cell_type": "code",
   "execution_count": 542,
   "outputs": [
    {
     "data": {
      "text/plain": "<Figure size 432x288 with 1 Axes>",
      "image/png": "[encoded data removed]"
     },
     "metadata": {
      "needs_background": "light"
     },
     "output_type": "display_data"
    }
   ],
   "source": [
    "acc = history['accuracy']\n",
    "val_acc = history['val_accuracy']\n",
    "loss = history['loss']\n",
    "val_loss = history['val_loss']\n",
    "\n",
    "epochs = range(1, len(acc) + 1)\n",
    "\n",
    "# \"bo\" is for \"blue dot\"\n",
    "plt.plot(epochs, loss, 'r', label='Training loss')\n",
    "# b is for \"solid blue line\"\n",
    "plt.plot(epochs, val_loss, 'b', label='Validation loss')\n",
    "plt.title('Training and validation loss')\n",
    "plt.xlabel('Epochs')\n",
    "plt.ylabel('Loss')\n",
    "plt.legend()\n",
    "\n",
    "plt.show()"
   ],
   "metadata": {
    "collapsed": false,
    "pycharm": {
     "name": "#%%\n"
    }
   }
  },
  {
   "cell_type": "code",
   "execution_count": 543,
   "outputs": [
    {
     "data": {
      "text/plain": "<Figure size 432x288 with 1 Axes>",
      "image/png": "[encoded data removed]"
     },
     "metadata": {
      "needs_background": "light"
     },
     "output_type": "display_data"
    }
   ],
   "source": [
    "plt.plot(epochs, acc, 'r', label='Training acc')\n",
    "plt.plot(epochs, val_acc, 'b', label='Validation acc')\n",
    "plt.title('Training and validation accuracy')\n",
    "plt.xlabel('Epochs')\n",
    "plt.ylabel('Accuracy')\n",
    "plt.legend(loc='lower right')\n",
    "\n",
    "plt.show()"
   ],
   "metadata": {
    "collapsed": false,
    "pycharm": {
     "name": "#%%\n"
    }
   }
  },
  {
   "cell_type": "code",
   "execution_count": null,
   "outputs": [],
   "source": [],
   "metadata": {
    "collapsed": false,
    "pycharm": {
     "name": "#%%\n"
    }
   }
  },
  {
   "cell_type": "code",
   "execution_count": null,
   "outputs": [],
   "source": [],
   "metadata": {
    "collapsed": false,
    "pycharm": {
     "name": "#%%\n"
    }
   }
  }
 ],
 "metadata": {
  "kernelspec": {
   "display_name": "Python 3",
   "language": "python",
   "name": "python3"
  },
  "language_info": {
   "codemirror_mode": {
    "name": "ipython",
    "version": 2
   },
   "file_extension": ".py",
   "mimetype": "text/x-python",
   "name": "python",
   "nbconvert_exporter": "python",
   "pygments_lexer": "ipython2",
   "version": "2.7.6"
  }
 },
 "nbformat": 4,
 "nbformat_minor": 0
}