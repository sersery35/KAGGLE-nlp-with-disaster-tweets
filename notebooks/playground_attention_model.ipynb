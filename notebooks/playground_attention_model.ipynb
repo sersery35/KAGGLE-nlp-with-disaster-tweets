{
 "cells": [
  {
   "cell_type": "code",
   "execution_count": 511,
   "outputs": [
    {
     "name": "stdout",
     "output_type": "stream",
     "text": [
      "The autoreload extension is already loaded. To reload it, use:\n",
      "  %reload_ext autoreload\n"
     ]
    }
   ],
   "source": [
    "%load_ext autoreload\n",
    "%autoreload 2"
   ],
   "metadata": {
    "collapsed": false,
    "pycharm": {
     "name": "#%%\n"
    }
   }
  },
  {
   "cell_type": "code",
   "execution_count": 512,
   "outputs": [],
   "source": [
    "import os\n",
    "os.environ[\"CUDA_VISIBLE_DEVICES\"]=\"-1\"\n",
    "import matplotlib.pyplot as plt\n",
    "\n",
    "from KAGGLE_NLP_with_disaster_tweets.model import attention_model, constants\n",
    "from KAGGLE_NLP_with_disaster_tweets.data_preparation.utils import DataPipeline, BatchPipeline"
   ],
   "metadata": {
    "collapsed": false,
    "pycharm": {
     "name": "#%%\n"
    }
   }
  },
  {
   "cell_type": "code",
   "execution_count": 513,
   "outputs": [
    {
     "name": "stdout",
     "output_type": "stream",
     "text": [
      "Getting the file: ../data/train.csv\n",
      "Dataframe size before eliminating too short texts: 7613\n",
      "Dataframe size after eliminating too short texts: 7526\n",
      "         id keyword location  \\\n",
      "0         1                    \n",
      "1         4                    \n",
      "2         5                    \n",
      "3         6                    \n",
      "4         7                    \n",
      "...     ...     ...      ...   \n",
      "7608  10869                    \n",
      "7609  10870                    \n",
      "7610  10871                    \n",
      "7611  10872                    \n",
      "7612  10873                    \n",
      "\n",
      "                                                   text  target  \n",
      "0     our deeds are the reason of this earthquake ma...       1  \n",
      "1                 forest fire near la ronge sask canada       1  \n",
      "2     all residents asked to shelter in place are be...       1  \n",
      "3      people receive wildfires evacuation orders in...       1  \n",
      "4     just got sent this photo from ruby alaska as s...       1  \n",
      "...                                                 ...     ...  \n",
      "7608  two giant cranes holding a bridge collapse int...       1  \n",
      "7609  user user the out of control wild fires in cal...       1  \n",
      "7610               m  0  utc km s of volcano hawaii url       1  \n",
      "7611  police investigating after an ebike collided w...       1  \n",
      "7612  the latest more homes razed by northern califo...       1  \n",
      "\n",
      "[7526 rows x 5 columns]\n",
      "Vocabulary size of the vectorizer: 17246\n",
      "-----------------------------------------------------------------------------------------\n",
      "Dataset \n",
      "Size: 7526 data points\n",
      "Dataset examples:\n",
      "Input: [ 127 6299   24    3  920    8   21  166  152 1931 6036   76   42    0\n",
      "    0    0    0    0    0    0    0    0    0    0    0    0    0    0\n",
      "    0    0]\n",
      "Target: [0. 1.]\n",
      "Input: [ 106   28  401  618 9472 9291  460    0    0    0    0    0    0    0\n",
      "    0    0    0    0    0    0    0    0    0    0    0    0    0    0\n",
      "    0    0]\n",
      "Target: [0. 1.]\n",
      "Input: [   42  1790  1730     7  1995     6   713    24   146 10906    20  1810\n",
      "    44   526   165    65  1995     6   713  1429    24  1139     0     0\n",
      "     0     0     0     0     0     0]\n",
      "Target: [0. 1.]\n",
      "-----------------------------------------------------------------------------------------\n"
     ]
    }
   ],
   "source": [
    "train_file_name = 'train.csv'\n",
    "test_file_name = 'test.csv'\n",
    "sample_submission_file_name = 'sample_submission.csv'\n",
    "max_vocabulary_size = 20000\n",
    "\n",
    "data_pipeline = DataPipeline(train_file_name, test_file_name, sample_submission_file_name,\n",
    "                             output_sequence_length=30,\n",
    "                             max_vocabulary_size=max_vocabulary_size,\n",
    "                             glove_embedding_dim=300,\n",
    "                             glove_url=constants.glove_url['6B'])\n",
    "dataset = data_pipeline.prepare_dataset(include_cols=[\"location\", \"keyword\"], apply_preprocessing=True, download_mentioned_tweets=False)"
   ],
   "metadata": {
    "collapsed": false,
    "pycharm": {
     "name": "#%%\n"
    }
   }
  },
  {
   "cell_type": "code",
   "execution_count": 514,
   "outputs": [
    {
     "name": "stdout",
     "output_type": "stream",
     "text": [
      "['', '[UNK]', 'url', 'the', 'user', 'a', 'in', 'to', 'of', 'i']\n"
     ]
    }
   ],
   "source": [
    "print(data_pipeline.input_vectorizer.get_vocabulary()[:10])"
   ],
   "metadata": {
    "collapsed": false,
    "pycharm": {
     "name": "#%%\n"
    }
   }
  },
  {
   "cell_type": "code",
   "execution_count": 515,
   "outputs": [
    {
     "name": "stdout",
     "output_type": "stream",
     "text": [
      "Loading the file: glove.6B.300d.txt \n",
      "\n",
      "Found 400000 word vectors \n",
      "\n",
      "Converted 12380 words, and missed 4866 words.\n"
     ]
    }
   ],
   "source": [
    "model = None\n",
    "use_glove_embeddings = True\n",
    "\n",
    "if use_glove_embeddings:\n",
    "    model = attention_model.Classifier(\n",
    "        model_dim=data_pipeline.glove_embedding_dim,\n",
    "        feed_forward_dim=256,\n",
    "        num_heads=4,\n",
    "        vocab_size=data_pipeline.vocabulary_size,\n",
    "        n_labels=2,\n",
    "        maximum_position_encoding=data_pipeline.input_vectorizer.get_config()[\"output_sequence_length\"],\n",
    "        embeddings_initializer=data_pipeline.build_embeddings_initializer(),\n",
    "        dropout_rate=0.5)\n",
    "else:\n",
    "    model = attention_model.Classifier(\n",
    "        model_dim=128,\n",
    "        feed_forward_dim=256,\n",
    "        num_heads=4,\n",
    "        vocab_size=data_pipeline.vocabulary_size,\n",
    "        n_labels=2,\n",
    "        maximum_position_encoding=data_pipeline.input_vectorizer.get_config()[\"output_sequence_length\"],\n",
    "        dropout_rate=0.5)"
   ],
   "metadata": {
    "collapsed": false,
    "pycharm": {
     "name": "#%%\n"
    }
   }
  },
  {
   "cell_type": "code",
   "execution_count": 516,
   "outputs": [],
   "source": [
    "batch_pipeline = BatchPipeline(dataset=dataset, batch_size=32)"
   ],
   "metadata": {
    "collapsed": false,
    "pycharm": {
     "name": "#%%\n"
    }
   }
  },
  {
   "cell_type": "code",
   "execution_count": 517,
   "outputs": [],
   "source": [
    "import tensorflow as tf\n",
    "from official.nlp import optimization\n",
    "\n",
    "lr = 1e-4\n",
    "epochs = 10\n",
    "warmup_ratio = 0.1\n",
    "\n",
    "num_train_steps = epochs*len(list(batch_pipeline.train_dataset.as_numpy_iterator()))\n",
    "num_warmup_steps = round(warmup_ratio* num_train_steps)\n",
    "\n",
    "optimizer = optimization.create_optimizer(init_lr=lr,\n",
    "                                          num_train_steps=num_train_steps,\n",
    "                                          num_warmup_steps=num_warmup_steps,\n",
    "                                          optimizer_type='adamw')"
   ],
   "metadata": {
    "collapsed": false,
    "pycharm": {
     "name": "#%%\n"
    }
   }
  },
  {
   "cell_type": "code",
   "execution_count": 518,
   "outputs": [],
   "source": [
    "model.compile(\n",
    "        optimizer=optimizer,\n",
    "        loss=tf.keras.losses.BinaryCrossentropy(),\n",
    "        metrics=['accuracy']\n",
    "    )"
   ],
   "metadata": {
    "collapsed": false,
    "pycharm": {
     "name": "#%%\n"
    }
   }
  },
  {
   "cell_type": "markdown",
   "source": [
    "## Sanity Check: Overfit the model"
   ],
   "metadata": {
    "collapsed": false,
    "pycharm": {
     "name": "#%% md\n"
    }
   }
  },
  {
   "cell_type": "code",
   "execution_count": 519,
   "outputs": [],
   "source": [
    "debugging_dataset = dataset.take(2).batch(2)"
   ],
   "metadata": {
    "collapsed": false,
    "pycharm": {
     "name": "#%%\n"
    }
   }
  },
  {
   "cell_type": "code",
   "execution_count": 520,
   "outputs": [
    {
     "name": "stdout",
     "output_type": "stream",
     "text": [
      "Epoch 1/10\n",
      "1/1 [==============================] - 2s 2s/step - loss: 1.0145 - accuracy: 0.0000e+00 - val_loss: 1.1029 - val_accuracy: 0.0000e+00\n",
      "Epoch 2/10\n",
      "1/1 [==============================] - 0s 149ms/step - loss: 1.0185 - accuracy: 0.0000e+00 - val_loss: 1.0990 - val_accuracy: 0.0000e+00\n",
      "Epoch 3/10\n",
      "1/1 [==============================] - 0s 140ms/step - loss: 1.0870 - accuracy: 0.0000e+00 - val_loss: 1.0913 - val_accuracy: 0.0000e+00\n",
      "Epoch 4/10\n",
      "1/1 [==============================] - 0s 148ms/step - loss: 0.9685 - accuracy: 0.0000e+00 - val_loss: 1.0796 - val_accuracy: 0.0000e+00\n",
      "Epoch 5/10\n",
      "1/1 [==============================] - 0s 138ms/step - loss: 0.9894 - accuracy: 0.0000e+00 - val_loss: 1.0643 - val_accuracy: 0.0000e+00\n",
      "Epoch 6/10\n",
      "1/1 [==============================] - 0s 144ms/step - loss: 0.9978 - accuracy: 0.0000e+00 - val_loss: 1.0452 - val_accuracy: 0.0000e+00\n",
      "Epoch 7/10\n",
      "1/1 [==============================] - 0s 140ms/step - loss: 0.9982 - accuracy: 0.0000e+00 - val_loss: 1.0227 - val_accuracy: 0.0000e+00\n",
      "Epoch 8/10\n",
      "1/1 [==============================] - 0s 149ms/step - loss: 1.0043 - accuracy: 0.0000e+00 - val_loss: 0.9968 - val_accuracy: 0.0000e+00\n",
      "Epoch 9/10\n",
      "1/1 [==============================] - 0s 138ms/step - loss: 0.8904 - accuracy: 0.0000e+00 - val_loss: 0.9677 - val_accuracy: 0.0000e+00\n",
      "Epoch 10/10\n",
      "1/1 [==============================] - 0s 143ms/step - loss: 0.7931 - accuracy: 0.0000e+00 - val_loss: 0.9355 - val_accuracy: 0.0000e+00\n"
     ]
    },
    {
     "data": {
      "text/plain": "<keras.callbacks.History at 0x7f7625d5a850>"
     },
     "execution_count": 520,
     "metadata": {},
     "output_type": "execute_result"
    }
   ],
   "source": [
    "model.fit(debugging_dataset, validation_data=debugging_dataset, epochs=10)"
   ],
   "metadata": {
    "collapsed": false,
    "pycharm": {
     "name": "#%%\n"
    }
   }
  },
  {
   "cell_type": "markdown",
   "source": [
    "## Train the model"
   ],
   "metadata": {
    "collapsed": false,
    "pycharm": {
     "name": "#%% md\n"
    }
   }
  },
  {
   "cell_type": "code",
   "execution_count": 521,
   "outputs": [
    {
     "name": "stdout",
     "output_type": "stream",
     "text": [
      "Epoch 1/10\n",
      "141/141 [==============================] - 7s 45ms/step - loss: 0.5506 - accuracy: 0.7278 - val_loss: 0.4439 - val_accuracy: 0.8125\n",
      "Epoch 2/10\n",
      "141/141 [==============================] - 5s 36ms/step - loss: 0.4450 - accuracy: 0.8019 - val_loss: 0.4303 - val_accuracy: 0.8118\n",
      "Epoch 3/10\n",
      "141/141 [==============================] - 6s 40ms/step - loss: 0.4038 - accuracy: 0.8262 - val_loss: 0.4422 - val_accuracy: 0.8158\n",
      "Epoch 4/10\n",
      "141/141 [==============================] - 6s 43ms/step - loss: 0.3742 - accuracy: 0.8422 - val_loss: 0.4688 - val_accuracy: 0.8178\n",
      "Epoch 5/10\n",
      "141/141 [==============================] - 6s 40ms/step - loss: 0.3533 - accuracy: 0.8495 - val_loss: 0.4844 - val_accuracy: 0.8165\n",
      "Epoch 6/10\n",
      "141/141 [==============================] - 6s 40ms/step - loss: 0.3309 - accuracy: 0.8648 - val_loss: 0.5092 - val_accuracy: 0.8138\n",
      "Epoch 7/10\n",
      "141/141 [==============================] - 6s 40ms/step - loss: 0.3126 - accuracy: 0.8732 - val_loss: 0.5367 - val_accuracy: 0.8092\n",
      "Epoch 8/10\n",
      "141/141 [==============================] - 9s 64ms/step - loss: 0.2963 - accuracy: 0.8834 - val_loss: 0.5547 - val_accuracy: 0.8045\n",
      "Epoch 9/10\n",
      "141/141 [==============================] - 9s 65ms/step - loss: 0.2841 - accuracy: 0.8890 - val_loss: 0.5665 - val_accuracy: 0.8032\n",
      "Epoch 10/10\n",
      "141/141 [==============================] - 10s 70ms/step - loss: 0.2724 - accuracy: 0.8934 - val_loss: 0.5732 - val_accuracy: 0.8012\n"
     ]
    }
   ],
   "source": [
    "res = model.fit(batch_pipeline.train_dataset, validation_data=batch_pipeline.validation_dataset, epochs=10)"
   ],
   "metadata": {
    "collapsed": false,
    "pycharm": {
     "name": "#%%\n"
    }
   }
  },
  {
   "cell_type": "markdown",
   "source": [
    "## Visualize accuracy and loss"
   ],
   "metadata": {
    "collapsed": false,
    "pycharm": {
     "name": "#%% md\n"
    }
   }
  },
  {
   "cell_type": "code",
   "execution_count": 522,
   "outputs": [],
   "source": [
    "history = res.history"
   ],
   "metadata": {
    "collapsed": false,
    "pycharm": {
     "name": "#%%\n"
    }
   }
  },
  {
   "cell_type": "code",
   "execution_count": 523,
   "outputs": [
    {
     "data": {
      "text/plain": "<Figure size 432x288 with 1 Axes>",
      "image/png": "[encoded data removed]"
     },
     "metadata": {
      "needs_background": "light"
     },
     "output_type": "display_data"
    }
   ],
   "source": [
    "acc = history['accuracy']\n",
    "val_acc = history['val_accuracy']\n",
    "loss = history['loss']\n",
    "val_loss = history['val_loss']\n",
    "\n",
    "epochs = range(1, len(acc) + 1)\n",
    "\n",
    "# \"bo\" is for \"blue dot\"\n",
    "plt.plot(epochs, loss, 'r', label='Training loss')\n",
    "# b is for \"solid blue line\"\n",
    "plt.plot(epochs, val_loss, 'b', label='Validation loss')\n",
    "plt.title('Training and validation loss')\n",
    "plt.xlabel('Epochs')\n",
    "plt.ylabel('Loss')\n",
    "plt.legend()\n",
    "\n",
    "plt.show()"
   ],
   "metadata": {
    "collapsed": false,
    "pycharm": {
     "name": "#%%\n"
    }
   }
  },
  {
   "cell_type": "code",
   "execution_count": 524,
   "outputs": [
    {
     "data": {
      "text/plain": "<Figure size 432x288 with 1 Axes>",
      "image/png": "[encoded data removed]"
     },
     "metadata": {
      "needs_background": "light"
     },
     "output_type": "display_data"
    }
   ],
   "source": [
    "plt.plot(epochs, acc, 'r', label='Training acc')\n",
    "plt.plot(epochs, val_acc, 'b', label='Validation acc')\n",
    "plt.title('Training and validation accuracy')\n",
    "plt.xlabel('Epochs')\n",
    "plt.ylabel('Accuracy')\n",
    "plt.legend(loc='lower right')\n",
    "\n",
    "plt.show()"
   ],
   "metadata": {
    "collapsed": false,
    "pycharm": {
     "name": "#%%\n"
    }
   }
  },
  {
   "cell_type": "code",
   "execution_count": 524,
   "outputs": [],
   "source": [],
   "metadata": {
    "collapsed": false,
    "pycharm": {
     "name": "#%%\n"
    }
   }
  },
  {
   "cell_type": "code",
   "execution_count": 524,
   "outputs": [],
   "source": [],
   "metadata": {
    "collapsed": false,
    "pycharm": {
     "name": "#%%\n"
    }
   }
  }
 ],
 "metadata": {
  "kernelspec": {
   "display_name": "Python 3",
   "language": "python",
   "name": "python3"
  },
  "language_info": {
   "codemirror_mode": {
    "name": "ipython",
    "version": 2
   },
   "file_extension": ".py",
   "mimetype": "text/x-python",
   "name": "python",
   "nbconvert_exporter": "python",
   "pygments_lexer": "ipython2",
   "version": "2.7.6"
  }
 },
 "nbformat": 4,
 "nbformat_minor": 0
}