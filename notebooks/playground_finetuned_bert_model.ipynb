{
 "cells": [
  {
   "cell_type": "code",
   "execution_count": 20,
   "outputs": [
    {
     "name": "stdout",
     "output_type": "stream",
     "text": [
      "The autoreload extension is already loaded. To reload it, use:\n",
      "  %reload_ext autoreload\n"
     ]
    }
   ],
   "source": [
    "%load_ext autoreload\n",
    "%autoreload 2"
   ],
   "metadata": {
    "collapsed": false,
    "pycharm": {
     "name": "#%%\n"
    }
   }
  },
  {
   "cell_type": "code",
   "execution_count": 21,
   "outputs": [],
   "source": [
    "import os\n",
    "os.environ[\"CUDA_VISIBLE_DEVICES\"] = \"-1\" # not enough memory in GPU\n",
    "\n",
    "import shutil\n",
    "import matplotlib.pyplot as plt\n",
    "from tensorboard.plugins.hparams import api as hp\n",
    "\n",
    "from KAGGLE_NLP_with_disaster_tweets.model.simple_bert_model import SimpleBertModel\n",
    "from KAGGLE_NLP_with_disaster_tweets.model import constants, utils\n",
    "from KAGGLE_NLP_with_disaster_tweets.data_preparation.utils import DataPipeline, BatchPipeline\n",
    "\n",
    "log_dir = './logs/hyperparameter_tuning_BertModel/'\n",
    " # clearing logging directory\n",
    "if os.path.exists(log_dir):\n",
    "    shutil.rmtree(log_dir)\n",
    "else:\n",
    "    os.makedirs(log_dir)"
   ],
   "metadata": {
    "collapsed": false,
    "pycharm": {
     "name": "#%%\n"
    }
   }
  },
  {
   "cell_type": "code",
   "execution_count": 22,
   "outputs": [
    {
     "name": "stdout",
     "output_type": "stream",
     "text": [
      "Getting the file: ../data/sample_submission.csv\n",
      "Getting the file: ../data/train.csv\n",
      "Dataframe size before eliminating too short texts: 7613\n",
      "Dataframe size after eliminating too short texts: 7526\n",
      "         id keyword location  \\\n",
      "0         1                    \n",
      "1         4                    \n",
      "2         5                    \n",
      "3         6                    \n",
      "4         7                    \n",
      "...     ...     ...      ...   \n",
      "7608  10869                    \n",
      "7609  10870                    \n",
      "7610  10871                    \n",
      "7611  10872                    \n",
      "7612  10873                    \n",
      "\n",
      "                                                   text  target  \n",
      "0     our deeds are the reason of this earthquake ma...       1  \n",
      "1                 forest fire near la ronge sask canada       1  \n",
      "2     all residents asked to shelter in place are be...       1  \n",
      "3      people receive wildfires evacuation orders in...       1  \n",
      "4     just got sent this photo from ruby alaska as s...       1  \n",
      "...                                                 ...     ...  \n",
      "7608  two giant cranes holding a bridge collapse int...       1  \n",
      "7609  user user the out of control wild fires in cal...       1  \n",
      "7610               m  0  utc km s of volcano hawaii url       1  \n",
      "7611  police investigating after an ebike collided w...       1  \n",
      "7612  the latest more homes razed by northern califo...       1  \n",
      "\n",
      "[7526 rows x 5 columns]\n",
      "-----------------------------------------------------------------------------------------\n",
      "Dataset \n",
      "Size: 7526 data points\n",
      "Dataset examples:\n",
      "Input: b'our deeds are the reason of this earthquake may allah forgive us all'\n",
      "Target: [0. 1.]\n",
      "Input: b'forest fire near la ronge sask canada'\n",
      "Target: [0. 1.]\n",
      "Input: b'all residents asked to shelter in place are being notified by officers no other evacuation or shelter in place orders are expected'\n",
      "Target: [0. 1.]\n",
      "-----------------------------------------------------------------------------------------\n"
     ]
    }
   ],
   "source": [
    "train_file_name = 'train.csv'\n",
    "test_file_name = 'test.csv'\n",
    "sample_submission_file_name = 'sample_submission.csv'\n",
    "max_vocabulary_size = 20000\n",
    "\n",
    "data_pipeline = DataPipeline(train_file_name, test_file_name, sample_submission_file_name,\n",
    "                             output_sequence_length=30,\n",
    "                             max_vocabulary_size=max_vocabulary_size,\n",
    "                             glove_embedding_dim=300,\n",
    "                             glove_url=constants.glove_url['6B'])\n",
    "dataset = data_pipeline.prepare_train_dataset(include_cols=[\"location\", \"keyword\"], extract_extras=True, download_mentioned_tweets=False, vectorize=False)"
   ],
   "metadata": {
    "collapsed": false,
    "pycharm": {
     "name": "#%%\n"
    }
   }
  },
  {
   "cell_type": "code",
   "execution_count": 23,
   "outputs": [],
   "source": [
    "balanced_class_weights = utils.get_balanced_class_weights(data_pipeline.dataframe)"
   ],
   "metadata": {
    "collapsed": false,
    "pycharm": {
     "name": "#%%\n"
    }
   }
  },
  {
   "cell_type": "code",
   "execution_count": 24,
   "outputs": [],
   "source": [
    "\n",
    "batch_size = 64\n",
    "epochs = 10\n",
    "log_directory = \"./logs/hyperparameter_tuning_BaseModel/\"\n",
    "\n",
    "# create a dict to keep the hyperparameters\n",
    "hparams = {\n",
    "    hp.HParam(\"optimizer\", hp.Discrete([\"adamw\"])): \"adamw\",\n",
    "    hp.HParam(\"batch_size\", hp.Discrete([16, 32, 64])): batch_size,\n",
    "    hp.HParam(\"learning_rate\", hp.RealInterval(1e-5, 1e-3)): 1e-4,\n",
    "    hp.HParam(\"class_weights\", hp.Discrete([\"none\", \"balanced\"])): \"balanced\",\n",
    "    hp.HParam(\"dropout\", hp.Discrete([0.1, 0.9])): 0.5\n",
    "}\n",
    "# easier to manage hyperparameters with this wrapper class\n",
    "hyperparameter_manager = utils.HyperparameterManager(hparams=hparams)"
   ],
   "metadata": {
    "collapsed": false,
    "pycharm": {
     "name": "#%%\n"
    }
   }
  },
  {
   "cell_type": "code",
   "execution_count": 25,
   "outputs": [],
   "source": [
    "# with tf.summary.create_file_writer(log_directory).as_default():\n",
    "#     hp.hparams_config(\n",
    "#         hparams=hparams.keys(),\n",
    "#         metrics=[hp.Metric(\"accuracy\", display_name=\"Accuracy\"),\n",
    "#                  hp.Metric(\"precision\", display_name=\"Precision\"),\n",
    "#                  hp.Metric(\"recall\", display_name=\"Recall\"),\n",
    "#                  hp.Metric(\"f1\", display_name=\"F1 Score\")])"
   ],
   "metadata": {
    "collapsed": false,
    "pycharm": {
     "name": "#%%\n"
    }
   }
  },
  {
   "cell_type": "code",
   "execution_count": 26,
   "outputs": [
    {
     "name": "stdout",
     "output_type": "stream",
     "text": [
      "tf.Tensor(b'our deeds are the reason of this earthquake may allah forgive us all', shape=(), dtype=string)\n",
      "tf.Tensor(b'forest fire near la ronge sask canada', shape=(), dtype=string)\n",
      "tf.Tensor(b'all residents asked to shelter in place are being notified by officers no other evacuation or shelter in place orders are expected', shape=(), dtype=string)\n"
     ]
    }
   ],
   "source": [
    "for input_, target_ in dataset.take(3):\n",
    "    print(input_)"
   ],
   "metadata": {
    "collapsed": false,
    "pycharm": {
     "name": "#%%\n"
    }
   }
  },
  {
   "cell_type": "code",
   "execution_count": 27,
   "outputs": [
    {
     "name": "stdout",
     "output_type": "stream",
     "text": [
      "Model: \"model_2\"\n",
      "__________________________________________________________________________________________________\n",
      " Layer (type)                   Output Shape         Param #     Connected to                     \n",
      "==================================================================================================\n",
      " text (InputLayer)              [(None,)]            0           []                               \n",
      "                                                                                                  \n",
      " preprocess (KerasLayer)        {'input_type_ids':   0           ['text[0][0]']                   \n",
      "                                (None, 128),                                                      \n",
      "                                 'input_word_ids':                                                \n",
      "                                (None, 128),                                                      \n",
      "                                 'input_mask': (Non                                               \n",
      "                                e, 128)}                                                          \n",
      "                                                                                                  \n",
      " BERT_encoder (KerasLayer)      {'encoder_outputs':  4385921     ['preprocess[0][0]',             \n",
      "                                 [(None, 128, 128),               'preprocess[0][1]',             \n",
      "                                 (None, 128, 128)],               'preprocess[0][2]']             \n",
      "                                 'pooled_output': (                                               \n",
      "                                None, 128),                                                       \n",
      "                                 'default': (None,                                                \n",
      "                                128),                                                             \n",
      "                                 'sequence_output':                                               \n",
      "                                 (None, 128, 128)}                                                \n",
      "                                                                                                  \n",
      " dropout_2 (Dropout)            (None, 128)          0           ['BERT_encoder[0][3]']           \n",
      "                                                                                                  \n",
      " classifier (Dense)             (None, 2)            258         ['dropout_2[0][0]']              \n",
      "                                                                                                  \n",
      "==================================================================================================\n",
      "Total params: 4,386,179\n",
      "Trainable params: 4,386,178\n",
      "Non-trainable params: 1\n",
      "__________________________________________________________________________________________________\n",
      "None\n"
     ]
    }
   ],
   "source": [
    "# import tensorflow_text # required for Bert Model\n",
    "bert_model = SimpleBertModel(batch_pipeline=BatchPipeline(dataset, batch_size),\n",
    "                             hparam_manager=hyperparameter_manager,\n",
    "                             num_classes=2,\n",
    "                             epochs=epochs)"
   ],
   "metadata": {
    "collapsed": false,
    "pycharm": {
     "name": "#%%\n"
    }
   }
  },
  {
   "cell_type": "code",
   "execution_count": 28,
   "outputs": [
    {
     "name": "stdout",
     "output_type": "stream",
     "text": [
      "Epoch 1/10\n",
      "1/1 [==============================] - 4s 4s/step - loss: 0.5727 - accuracy: 1.0000 - val_loss: 0.4339 - val_accuracy: 1.0000\n",
      "Epoch 2/10\n",
      "1/1 [==============================] - 0s 103ms/step - loss: 0.7138 - accuracy: 0.5000 - val_loss: 0.4328 - val_accuracy: 1.0000\n",
      "Epoch 3/10\n",
      "1/1 [==============================] - 0s 111ms/step - loss: 0.8736 - accuracy: 0.0000e+00 - val_loss: 0.4304 - val_accuracy: 1.0000\n",
      "Epoch 4/10\n",
      "1/1 [==============================] - 0s 109ms/step - loss: 0.7066 - accuracy: 0.5000 - val_loss: 0.4270 - val_accuracy: 1.0000\n",
      "Epoch 5/10\n",
      "1/1 [==============================] - 0s 113ms/step - loss: 0.7805 - accuracy: 0.5000 - val_loss: 0.4224 - val_accuracy: 1.0000\n",
      "Epoch 6/10\n",
      "1/1 [==============================] - 0s 93ms/step - loss: 0.7573 - accuracy: 0.5000 - val_loss: 0.4171 - val_accuracy: 1.0000\n",
      "Epoch 7/10\n",
      "1/1 [==============================] - 0s 98ms/step - loss: 0.3509 - accuracy: 1.0000 - val_loss: 0.4111 - val_accuracy: 1.0000\n",
      "Epoch 8/10\n",
      "1/1 [==============================] - 0s 92ms/step - loss: 0.7201 - accuracy: 0.5000 - val_loss: 0.4042 - val_accuracy: 1.0000\n",
      "Epoch 9/10\n",
      "1/1 [==============================] - 0s 103ms/step - loss: 0.6764 - accuracy: 0.5000 - val_loss: 0.3969 - val_accuracy: 1.0000\n",
      "Epoch 10/10\n",
      "1/1 [==============================] - 0s 93ms/step - loss: 0.7598 - accuracy: 0.0000e+00 - val_loss: 0.3891 - val_accuracy: 1.0000\n"
     ]
    }
   ],
   "source": [
    "debugging_dataset = dataset.take(2).batch(2)\n",
    "bert_model.test_model(debugging_dataset, 10)"
   ],
   "metadata": {
    "collapsed": false,
    "pycharm": {
     "name": "#%%\n"
    }
   }
  },
  {
   "cell_type": "code",
   "execution_count": 29,
   "outputs": [
    {
     "name": "stdout",
     "output_type": "stream",
     "text": [
      "run -> __lr=0.0001__batch_size=64__optimizer=adamw__class_weights=balanced__dropout=0.5 starting...\n",
      "Epoch 1/10\n",
      "70/70 [==============================] - ETA: 0s - loss: 0.8116 - accuracy: 0.5529"
     ]
    },
    {
     "name": "stderr",
     "output_type": "stream",
     "text": [
      "2022-03-08 15:40:30.194681: W tensorflow/core/framework/cpu_allocator_impl.cc:82] Allocation of 937635840 exceeds 10% of free system memory.\n"
     ]
    },
    {
     "name": "stdout",
     "output_type": "stream",
     "text": [
      "70/70 [==============================] - 36s 490ms/step - loss: 0.8116 - accuracy: 0.5529 - val_loss: 0.5585 - val_accuracy: 0.7561\n",
      "Epoch 2/10\n",
      "70/70 [==============================] - ETA: 0s - loss: 0.5699 - accuracy: 0.7388"
     ]
    },
    {
     "name": "stderr",
     "output_type": "stream",
     "text": [
      "2022-03-08 15:41:03.225427: W tensorflow/core/framework/cpu_allocator_impl.cc:82] Allocation of 937635840 exceeds 10% of free system memory.\n"
     ]
    },
    {
     "name": "stdout",
     "output_type": "stream",
     "text": [
      "70/70 [==============================] - 33s 471ms/step - loss: 0.5699 - accuracy: 0.7388 - val_loss: 0.4642 - val_accuracy: 0.7908\n",
      "Epoch 3/10\n",
      "70/70 [==============================] - ETA: 0s - loss: 0.4751 - accuracy: 0.8011"
     ]
    },
    {
     "name": "stderr",
     "output_type": "stream",
     "text": [
      "2022-03-08 15:41:38.008635: W tensorflow/core/framework/cpu_allocator_impl.cc:82] Allocation of 937635840 exceeds 10% of free system memory.\n"
     ]
    },
    {
     "name": "stdout",
     "output_type": "stream",
     "text": [
      "70/70 [==============================] - 35s 500ms/step - loss: 0.4751 - accuracy: 0.8011 - val_loss: 0.4506 - val_accuracy: 0.8091\n",
      "Epoch 4/10\n",
      "70/70 [==============================] - ETA: 0s - loss: 0.4262 - accuracy: 0.8257"
     ]
    },
    {
     "name": "stderr",
     "output_type": "stream",
     "text": [
      "2022-03-08 15:42:14.484254: W tensorflow/core/framework/cpu_allocator_impl.cc:82] Allocation of 937635840 exceeds 10% of free system memory.\n"
     ]
    },
    {
     "name": "stdout",
     "output_type": "stream",
     "text": [
      "70/70 [==============================] - 36s 521ms/step - loss: 0.4262 - accuracy: 0.8257 - val_loss: 0.4396 - val_accuracy: 0.8159\n",
      "Epoch 5/10\n",
      "70/70 [==============================] - ETA: 0s - loss: 0.3919 - accuracy: 0.8467"
     ]
    },
    {
     "name": "stderr",
     "output_type": "stream",
     "text": [
      "2022-03-08 15:42:52.144332: W tensorflow/core/framework/cpu_allocator_impl.cc:82] Allocation of 937635840 exceeds 10% of free system memory.\n"
     ]
    },
    {
     "name": "stdout",
     "output_type": "stream",
     "text": [
      "70/70 [==============================] - 38s 538ms/step - loss: 0.3919 - accuracy: 0.8467 - val_loss: 0.4465 - val_accuracy: 0.8227\n",
      "Epoch 6/10\n",
      "70/70 [==============================] - 35s 499ms/step - loss: 0.3608 - accuracy: 0.8574 - val_loss: 0.4615 - val_accuracy: 0.8274\n",
      "Epoch 7/10\n",
      "70/70 [==============================] - 35s 504ms/step - loss: 0.3406 - accuracy: 0.8710 - val_loss: 0.4636 - val_accuracy: 0.8281\n",
      "Epoch 8/10\n",
      "70/70 [==============================] - 35s 506ms/step - loss: 0.3183 - accuracy: 0.8790 - val_loss: 0.4618 - val_accuracy: 0.8308\n",
      "Epoch 9/10\n",
      "70/70 [==============================] - 36s 515ms/step - loss: 0.3098 - accuracy: 0.8871 - val_loss: 0.4627 - val_accuracy: 0.8295\n",
      "Epoch 10/10\n",
      "70/70 [==============================] - 37s 524ms/step - loss: 0.3004 - accuracy: 0.8886 - val_loss: 0.4638 - val_accuracy: 0.8315\n",
      "23/23 [==============================] - 3s 137ms/step - loss: 0.5213 - accuracy: 0.7887\n",
      "run -> __lr=0.0001__batch_size=64__optimizer=adamw__class_weights=balanced__dropout=0.5 completed.\n",
      "Accuracy: 0.788722813129425\n",
      "Precision: 0.7877678571428571\n",
      "Recall: 0.7870805938907415\n",
      "F1-Score: 0.7873795629082785\n"
     ]
    }
   ],
   "source": [
    "accuracy, precision, recall, f1, predictions = bert_model.fit_and_evaluate(log_directory=log_directory, class_weights=balanced_class_weights)\n",
    "print(f\"Accuracy: {accuracy}\\nPrecision: {precision}\\nRecall: {recall}\\nF1-Score: {f1}\")"
   ],
   "metadata": {
    "collapsed": false,
    "pycharm": {
     "name": "#%%\n"
    }
   }
  },
  {
   "cell_type": "code",
   "execution_count": 30,
   "outputs": [
    {
     "data": {
      "text/plain": "<Figure size 432x288 with 1 Axes>",
      "image/png": "[encoded data removed]"
     },
     "metadata": {
      "needs_background": "light"
     },
     "output_type": "display_data"
    }
   ],
   "source": [
    "history_dict = bert_model.history\n",
    "\n",
    "acc = history_dict['accuracy']\n",
    "val_acc = history_dict['val_accuracy']\n",
    "loss = history_dict['loss']\n",
    "val_loss = history_dict['val_loss']\n",
    "\n",
    "epochs = range(1, len(acc) + 1)\n",
    "\n",
    "# \"bo\" is for \"blue dot\"\n",
    "plt.plot(epochs, loss, 'r', label='Training loss')\n",
    "# b is for \"solid blue line\"\n",
    "plt.plot(epochs, val_loss, 'b', label='Validation loss')\n",
    "plt.title('Training and validation loss')\n",
    "plt.xlabel('Epochs')\n",
    "plt.ylabel('Loss')\n",
    "plt.legend()\n",
    "\n",
    "plt.show()"
   ],
   "metadata": {
    "collapsed": false,
    "pycharm": {
     "name": "#%%\n"
    }
   }
  },
  {
   "cell_type": "code",
   "execution_count": 31,
   "outputs": [
    {
     "data": {
      "text/plain": "<Figure size 432x288 with 1 Axes>",
      "image/png": "[encoded data removed]"
     },
     "metadata": {
      "needs_background": "light"
     },
     "output_type": "display_data"
    }
   ],
   "source": [
    "plt.plot(epochs, acc, 'r', label='Training acc')\n",
    "plt.plot(epochs, val_acc, 'b', label='Validation acc')\n",
    "plt.title('Training and validation accuracy')\n",
    "plt.xlabel('Epochs')\n",
    "plt.ylabel('Accuracy')\n",
    "plt.legend(loc='lower right')\n",
    "\n",
    "plt.show()"
   ],
   "metadata": {
    "collapsed": false,
    "pycharm": {
     "name": "#%%\n"
    }
   }
  },
  {
   "cell_type": "code",
   "execution_count": 32,
   "outputs": [],
   "source": [
    "# %load_ext tensorboard"
   ],
   "metadata": {
    "collapsed": false,
    "pycharm": {
     "name": "#%%\n"
    }
   }
  },
  {
   "cell_type": "code",
   "execution_count": 33,
   "outputs": [
    {
     "data": {
      "text/plain": "Launching TensorBoard..."
     },
     "metadata": {},
     "output_type": "display_data"
    }
   ],
   "source": [
    "# tensorboard --logdir logs/hyperparameter_tuning_bertmodel --port 5001"
   ],
   "metadata": {
    "collapsed": false,
    "pycharm": {
     "name": "#%%\n"
    }
   }
  },
  {
   "cell_type": "code",
   "execution_count": 33,
   "outputs": [],
   "source": [],
   "metadata": {
    "collapsed": false,
    "pycharm": {
     "name": "#%%\n"
    }
   }
  }
 ],
 "metadata": {
  "kernelspec": {
   "display_name": "Python 3",
   "language": "python",
   "name": "python3"
  },
  "language_info": {
   "codemirror_mode": {
    "name": "ipython",
    "version": 2
   },
   "file_extension": ".py",
   "mimetype": "text/x-python",
   "name": "python",
   "nbconvert_exporter": "python",
   "pygments_lexer": "ipython2",
   "version": "2.7.6"
  }
 },
 "nbformat": 4,
 "nbformat_minor": 0
}