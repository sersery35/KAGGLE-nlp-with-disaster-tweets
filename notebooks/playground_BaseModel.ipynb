{
 "cells": [
  {
   "cell_type": "code",
   "execution_count": 1,
   "outputs": [],
   "source": [
    "import os\n",
    "os.environ[\"CUDA_VISIBLE_DEVICES\"]=\"-1\"\n",
    "import matplotlib.pyplot as plt\n",
    "\n",
    "from KAGGLE_NLP_with_disaster_tweets.model import base_model, constants, utils\n",
    "from KAGGLE_NLP_with_disaster_tweets.data_preparation.utils import DataPipeline, BatchPipeline"
   ],
   "metadata": {
    "collapsed": false,
    "pycharm": {
     "name": "#%%\n"
    }
   }
  },
  {
   "cell_type": "code",
   "execution_count": 2,
   "outputs": [],
   "source": [
    "train_file_name = 'train.csv'\n",
    "test_file_name = 'test.csv'\n",
    "sample_submission_file_name = 'sample_submission.csv'"
   ],
   "metadata": {
    "collapsed": false,
    "pycharm": {
     "name": "#%%\n"
    }
   }
  },
  {
   "cell_type": "code",
   "execution_count": 3,
   "outputs": [
    {
     "name": "stderr",
     "output_type": "stream",
     "text": [
      "2022-01-27 00:51:31.878427: E tensorflow/stream_executor/cuda/cuda_driver.cc:271] failed call to cuInit: CUDA_ERROR_NO_DEVICE: no CUDA-capable device is detected\n",
      "2022-01-27 00:51:31.878461: I tensorflow/stream_executor/cuda/cuda_diagnostics.cc:169] retrieving CUDA diagnostic information for host: sersery-asusVivo\n",
      "2022-01-27 00:51:31.878468: I tensorflow/stream_executor/cuda/cuda_diagnostics.cc:176] hostname: sersery-asusVivo\n",
      "2022-01-27 00:51:31.878547: I tensorflow/stream_executor/cuda/cuda_diagnostics.cc:200] libcuda reported version is: 495.29.5\n",
      "2022-01-27 00:51:31.878571: I tensorflow/stream_executor/cuda/cuda_diagnostics.cc:204] kernel reported version is: 495.29.5\n",
      "2022-01-27 00:51:31.878577: I tensorflow/stream_executor/cuda/cuda_diagnostics.cc:310] kernel version seems to match DSO: 495.29.5\n",
      "2022-01-27 00:51:31.878923: I tensorflow/core/platform/cpu_feature_guard.cc:151] This TensorFlow binary is optimized with oneAPI Deep Neural Network Library (oneDNN) to use the following CPU instructions in performance-critical operations:  AVX2 FMA\n",
      "To enable them in other operations, rebuild TensorFlow with the appropriate compiler flags.\n"
     ]
    },
    {
     "name": "stdout",
     "output_type": "stream",
     "text": [
      "Getting the file: ../data/train.csv\n",
      "-----------------------------------------------------------------------------------------\n",
      "Dataset \n",
      "Size: 7613\n",
      "Dataset examples:\n",
      "Input: [  58   77 1933    1    1    1  803   58  151   77    0    0    0    0\n",
      "    0    0    0    0    0    0    0    0    0    0    0    0    0    0\n",
      "    0    0    0    0    0    0    0    0    0    0    0    0    0    0\n",
      "    0    0    0    0    0    0    0    0    0    0    0    0    0    0\n",
      "    0    0    0    0    0    0    0    0    0    0    0    0    0    0\n",
      "    0    0    0    0    0    0    0    0    0    0    0    0    0    0\n",
      "    0    0    0    0    0    0    0    0    0    0    0    0    0    0\n",
      "    0    0    0    0    0    0    0    0    0    0    0    0    0    0\n",
      "    0    0    0    0    0    0    0    0    0    0    0    0    0    0\n",
      "    0    0    0    0    0    0    0    0    0    0    0    0    0    0]\n",
      "Target: [0. 1.]\n",
      "Input: [ 250  763  527    8 3186    2  250    5   13 1964    1  751    0    0\n",
      "    0    0    0    0    0    0    0    0    0    0    0    0    0    0\n",
      "    0    0    0    0    0    0    0    0    0    0    0    0    0    0\n",
      "    0    0    0    0    0    0    0    0    0    0    0    0    0    0\n",
      "    0    0    0    0    0    0    0    0    0    0    0    0    0    0\n",
      "    0    0    0    0    0    0    0    0    0    0    0    0    0    0\n",
      "    0    0    0    0    0    0    0    0    0    0    0    0    0    0\n",
      "    0    0    0    0    0    0    0    0    0    0    0    0    0    0\n",
      "    0    0    0    0    0    0    0    0    0    0    0    0    0    0\n",
      "    0    0    0    0    0    0    0    0    0    0    0    0    0    0]\n",
      "Target: [1. 0.]\n",
      "Input: [4913  110  278    3  278 1149   16   26  446 4563   24    5   41  491\n",
      "    4 3500    4  774    9   55    4 1872 1649   19    9  747    3    0\n",
      "    0    0    0    0    0    0    0    0    0    0    0    0    0    0\n",
      "    0    0    0    0    0    0    0    0    0    0    0    0    0    0\n",
      "    0    0    0    0    0    0    0    0    0    0    0    0    0    0\n",
      "    0    0    0    0    0    0    0    0    0    0    0    0    0    0\n",
      "    0    0    0    0    0    0    0    0    0    0    0    0    0    0\n",
      "    0    0    0    0    0    0    0    0    0    0    0    0    0    0\n",
      "    0    0    0    0    0    0    0    0    0    0    0    0    0    0\n",
      "    0    0    0    0    0    0    0    0    0    0    0    0    0    0]\n",
      "Target: [1. 0.]\n",
      "-----------------------------------------------------------------------------------------\n",
      "Getting the file: ../data/test.csv\n",
      "Getting the file: ../data/sample_submission.csv\n"
     ]
    }
   ],
   "source": [
    "data_pipeline = DataPipeline(train_file_name, test_file_name, sample_submission_file_name, output_sequence_length=140, vocabulary_size=constants.parameters[\"vocabulary_size\"])\n",
    "dataset, submission_test_dataset = data_pipeline.prepare_datasets()"
   ],
   "metadata": {
    "collapsed": false,
    "pycharm": {
     "name": "#%%\n"
    }
   }
  },
  {
   "cell_type": "code",
   "execution_count": 4,
   "outputs": [
    {
     "name": "stdout",
     "output_type": "stream",
     "text": [
      "True instances: 3271 | 42.965979246026535% of data\n",
      "False instances: 4342 | 57.034020753973465% of data\n"
     ]
    }
   ],
   "source": [
    "dataframe = data_pipeline.dataframe\n",
    "isTrueCount = dataframe[\"target\"].where(dataframe[\"target\"] == 1).count()\n",
    "isFalseCount = dataframe[\"target\"].where(dataframe[\"target\"] == 0).count()\n",
    "print(f\"True instances: {isTrueCount} | {100 * isTrueCount / (isTrueCount + isFalseCount)}% of data\")\n",
    "print(f\"False instances: {isFalseCount} | {100 * isFalseCount / (isTrueCount + isFalseCount)}% of data\")"
   ],
   "metadata": {
    "collapsed": false,
    "pycharm": {
     "name": "#%%\n"
    }
   }
  },
  {
   "cell_type": "code",
   "execution_count": 5,
   "outputs": [
    {
     "name": "stdout",
     "output_type": "stream",
     "text": [
      "Vocabulary size: 5001\n"
     ]
    }
   ],
   "source": [
    "print(f\"Vocabulary size: {constants.parameters['vocabulary_size']}\")"
   ],
   "metadata": {
    "collapsed": false,
    "pycharm": {
     "name": "#%%\n"
    }
   }
  },
  {
   "cell_type": "code",
   "execution_count": 6,
   "outputs": [],
   "source": [
    "balanced_class_weights = utils.get_balanced_class_weights(dataframe)"
   ],
   "metadata": {
    "collapsed": false,
    "pycharm": {
     "name": "#%%\n"
    }
   }
  },
  {
   "cell_type": "code",
   "execution_count": 7,
   "outputs": [
    {
     "name": "stdout",
     "output_type": "stream",
     "text": [
      "Model: \"sequential\"\n",
      "_________________________________________________________________\n",
      " Layer (type)                Output Shape              Param #   \n",
      "=================================================================\n",
      " embedding (Embedding)       (None, None, 32)          160032    \n",
      "                                                                 \n",
      " bidirectional (Bidirectiona  (None, None, 32)         6272      \n",
      " l)                                                              \n",
      "                                                                 \n",
      " dense (Dense)               (None, None, 32)          1056      \n",
      "                                                                 \n",
      " global_average_pooling1d (G  (None, 32)               0         \n",
      " lobalAveragePooling1D)                                          \n",
      "                                                                 \n",
      " dropout (Dropout)           (None, 32)                0         \n",
      "                                                                 \n",
      " dense_1 (Dense)             (None, 2)                 66        \n",
      "                                                                 \n",
      "=================================================================\n",
      "Total params: 167,426\n",
      "Trainable params: 167,426\n",
      "Non-trainable params: 0\n",
      "_________________________________________________________________\n",
      "None\n",
      "run=0__lr=0.001__hidden_unit=32__batch_size=32__optimizer=adamw__class_weights=balanced__dropout=0.1 starting...\n",
      "Epoch 1/10\n",
      "190/190 [==============================] - 20s 74ms/step - loss: 0.7277 - accuracy: 0.5633 - val_loss: 0.6557 - val_accuracy: 0.7065\n",
      "Epoch 2/10\n",
      "190/190 [==============================] - 11s 56ms/step - loss: 0.6214 - accuracy: 0.7970 - val_loss: 0.5765 - val_accuracy: 0.8573\n",
      "Epoch 3/10\n",
      "190/190 [==============================] - 11s 59ms/step - loss: 0.5867 - accuracy: 0.8660 - val_loss: 0.5616 - val_accuracy: 0.8832\n",
      "Epoch 4/10\n",
      "190/190 [==============================] - 11s 58ms/step - loss: 0.5738 - accuracy: 0.8918 - val_loss: 0.5570 - val_accuracy: 0.8981\n",
      "Epoch 5/10\n",
      "190/190 [==============================] - 11s 59ms/step - loss: 0.5670 - accuracy: 0.9066 - val_loss: 0.5535 - val_accuracy: 0.9022\n",
      "Epoch 6/10\n",
      "190/190 [==============================] - 11s 60ms/step - loss: 0.5626 - accuracy: 0.9160 - val_loss: 0.5514 - val_accuracy: 0.9049\n",
      "Epoch 7/10\n",
      "190/190 [==============================] - 12s 62ms/step - loss: 0.5601 - accuracy: 0.9206 - val_loss: 0.5512 - val_accuracy: 0.9035\n",
      "Epoch 8/10\n",
      "190/190 [==============================] - 12s 64ms/step - loss: 0.5587 - accuracy: 0.9235 - val_loss: 0.5512 - val_accuracy: 0.9035\n",
      "Epoch 9/10\n",
      "190/190 [==============================] - 12s 66ms/step - loss: 0.5580 - accuracy: 0.9242 - val_loss: 0.5508 - val_accuracy: 0.9049\n",
      "Epoch 10/10\n",
      "190/190 [==============================] - 13s 67ms/step - loss: 0.5576 - accuracy: 0.9252 - val_loss: 0.5508 - val_accuracy: 0.9049\n",
      "23/23 [==============================] - 2s 19ms/step - loss: 0.5551 - accuracy: 0.8954\n",
      "run=0__lr=0.001__hidden_unit=32__batch_size=32__optimizer=adamw__class_weights=balanced__dropout=0.1 completed.\n",
      "Accuracy: 0.895380437374115\n",
      "Precision: 0.9004243402834655\n",
      "Recall: 0.8867842073538276\n",
      "F1-Score: 0.8916254085178237\n"
     ]
    }
   ],
   "source": [
    "batch_size = 32\n",
    "constants.parameters[\"epochs\"] = 10\n",
    "log_directory = \"./logs/hyperparameter_tuning_BaseModel/\"\n",
    "\n",
    "hparams = {\n",
    "    constants.hyperparameters[\"optimizer\"]: \"adamw\",\n",
    "    constants.hyperparameters[\"hidden_unit\"]: 32,\n",
    "    constants.hyperparameters[\"batch_size\"]: batch_size,\n",
    "    constants.hyperparameters[\"learning_rate\"]: 1e-3,\n",
    "    constants.hyperparameters[\"class_weights\"]: \"balanced\",\n",
    "    constants.hyperparameters[\"dropout\"]: 0.1\n",
    "}\n",
    "\n",
    "model = base_model.BaseModel(batch_pipeline=BatchPipeline(dataset, submission_test_dataset, batch_size),\n",
    "                   parameters=constants.parameters,\n",
    "                   hyperparameters=constants.hyperparameters,\n",
    "                   hparams=hparams,\n",
    "                   class_weights=balanced_class_weights)\n",
    "\n",
    "accuracy, precision, recall, f1 = model.fit_and_evaluate(log_directory=log_directory)\n",
    "print(f\"Accuracy: {accuracy}\\nPrecision: {precision}\\nRecall: {recall}\\nF1-Score: {f1}\")"
   ],
   "metadata": {
    "collapsed": false,
    "pycharm": {
     "name": "#%%\n"
    }
   }
  },
  {
   "cell_type": "code",
   "execution_count": 8,
   "outputs": [
    {
     "data": {
      "text/plain": "<Figure size 432x288 with 1 Axes>",
      "image/png": "[encoded data removed]"
     },
     "metadata": {
      "needs_background": "light"
     },
     "output_type": "display_data"
    }
   ],
   "source": [
    "history_dict = model.history.history\n",
    "\n",
    "acc = history_dict['accuracy']\n",
    "val_acc = history_dict['val_accuracy']\n",
    "loss = history_dict['loss']\n",
    "val_loss = history_dict['val_loss']\n",
    "\n",
    "epochs = range(1, len(acc) + 1)\n",
    "\n",
    "# \"bo\" is for \"blue dot\"\n",
    "plt.plot(epochs, loss, 'bo', label='Training loss')\n",
    "# b is for \"solid blue line\"\n",
    "plt.plot(epochs, val_loss, 'b', label='Validation loss')\n",
    "plt.title('Training and validation loss')\n",
    "plt.xlabel('Epochs')\n",
    "plt.ylabel('Loss')\n",
    "plt.legend()\n",
    "\n",
    "plt.show()"
   ],
   "metadata": {
    "collapsed": false,
    "pycharm": {
     "name": "#%%\n"
    }
   }
  },
  {
   "cell_type": "code",
   "execution_count": 9,
   "outputs": [
    {
     "data": {
      "text/plain": "<Figure size 432x288 with 1 Axes>",
      "image/png": "[encoded data removed]"
     },
     "metadata": {
      "needs_background": "light"
     },
     "output_type": "display_data"
    }
   ],
   "source": [
    "plt.plot(epochs, acc, 'bo', label='Training acc')\n",
    "plt.plot(epochs, val_acc, 'b', label='Validation acc')\n",
    "plt.title('Training and validation accuracy')\n",
    "plt.xlabel('Epochs')\n",
    "plt.ylabel('Accuracy')\n",
    "plt.legend(loc='lower right')\n",
    "\n",
    "plt.show()"
   ],
   "metadata": {
    "collapsed": false,
    "pycharm": {
     "name": "#%%\n"
    }
   }
  },
  {
   "cell_type": "markdown",
   "source": [
    "### We try a larger dropout"
   ],
   "metadata": {
    "collapsed": false,
    "pycharm": {
     "name": "#%% md\n"
    }
   }
  },
  {
   "cell_type": "code",
   "execution_count": 10,
   "outputs": [
    {
     "name": "stdout",
     "output_type": "stream",
     "text": [
      "Model: \"sequential_1\"\n",
      "_________________________________________________________________\n",
      " Layer (type)                Output Shape              Param #   \n",
      "=================================================================\n",
      " embedding_1 (Embedding)     (None, None, 32)          160032    \n",
      "                                                                 \n",
      " bidirectional_1 (Bidirectio  (None, None, 32)         6272      \n",
      " nal)                                                            \n",
      "                                                                 \n",
      " dense_2 (Dense)             (None, None, 32)          1056      \n",
      "                                                                 \n",
      " global_average_pooling1d_1   (None, 32)               0         \n",
      " (GlobalAveragePooling1D)                                        \n",
      "                                                                 \n",
      " dropout_1 (Dropout)         (None, 32)                0         \n",
      "                                                                 \n",
      " dense_3 (Dense)             (None, 2)                 66        \n",
      "                                                                 \n",
      "=================================================================\n",
      "Total params: 167,426\n",
      "Trainable params: 167,426\n",
      "Non-trainable params: 0\n",
      "_________________________________________________________________\n",
      "None\n",
      "run=0__lr=0.001__hidden_unit=32__batch_size=32__optimizer=adamw__class_weights=balanced__dropout=0.5 starting...\n",
      "Epoch 1/10\n",
      "190/190 [==============================] - 25s 88ms/step - loss: 0.7294 - accuracy: 0.5660 - val_loss: 0.6635 - val_accuracy: 0.6685\n",
      "Epoch 2/10\n",
      "190/190 [==============================] - 13s 69ms/step - loss: 0.6272 - accuracy: 0.7880 - val_loss: 0.5850 - val_accuracy: 0.8370\n",
      "Epoch 3/10\n",
      "190/190 [==============================] - 14s 72ms/step - loss: 0.5937 - accuracy: 0.8531 - val_loss: 0.5739 - val_accuracy: 0.8587\n",
      "Epoch 4/10\n",
      "190/190 [==============================] - 13s 69ms/step - loss: 0.5813 - accuracy: 0.8791 - val_loss: 0.5670 - val_accuracy: 0.8764\n",
      "Epoch 5/10\n",
      "190/190 [==============================] - 14s 73ms/step - loss: 0.5739 - accuracy: 0.8938 - val_loss: 0.5646 - val_accuracy: 0.8818\n",
      "Epoch 6/10\n",
      "190/190 [==============================] - 15s 78ms/step - loss: 0.5695 - accuracy: 0.9031 - val_loss: 0.5647 - val_accuracy: 0.8777\n",
      "Epoch 7/10\n",
      "190/190 [==============================] - 15s 78ms/step - loss: 0.5663 - accuracy: 0.9094 - val_loss: 0.5607 - val_accuracy: 0.8845\n",
      "Epoch 8/10\n",
      "190/190 [==============================] - 14s 76ms/step - loss: 0.5639 - accuracy: 0.9151 - val_loss: 0.5590 - val_accuracy: 0.8886\n",
      "Epoch 9/10\n",
      "190/190 [==============================] - 15s 80ms/step - loss: 0.5626 - accuracy: 0.9173 - val_loss: 0.5580 - val_accuracy: 0.8913\n",
      "Epoch 10/10\n",
      "190/190 [==============================] - 15s 81ms/step - loss: 0.5620 - accuracy: 0.9184 - val_loss: 0.5580 - val_accuracy: 0.8913\n",
      "23/23 [==============================] - 2s 23ms/step - loss: 0.5526 - accuracy: 0.9035\n",
      "run=0__lr=0.001__hidden_unit=32__batch_size=32__optimizer=adamw__class_weights=balanced__dropout=0.5 completed.\n",
      "Accuracy: 0.9035326242446899\n",
      "Precision: 0.9107970863039254\n",
      "Recall: 0.8965506934481109\n",
      "F1-Score: 0.9009430653890264\n"
     ]
    }
   ],
   "source": [
    "batch_size = 32\n",
    "constants.parameters[\"epochs\"] = 10\n",
    "log_directory = \"./logs/hyperparameter_tuning_BaseModel/\"\n",
    "\n",
    "hparams = {\n",
    "    constants.hyperparameters[\"optimizer\"]: \"adamw\",\n",
    "    constants.hyperparameters[\"hidden_unit\"]: 32,\n",
    "    constants.hyperparameters[\"batch_size\"]: batch_size,\n",
    "    constants.hyperparameters[\"learning_rate\"]: 1e-3,\n",
    "    constants.hyperparameters[\"class_weights\"]: \"balanced\",\n",
    "    constants.hyperparameters[\"dropout\"]: 0.5\n",
    "}\n",
    "\n",
    "model = base_model.BaseModel(batch_pipeline=BatchPipeline(dataset, submission_test_dataset, batch_size),\n",
    "                   parameters=constants.parameters,\n",
    "                   hyperparameters=constants.hyperparameters,\n",
    "                   hparams=hparams,\n",
    "                   class_weights=balanced_class_weights)\n",
    "\n",
    "accuracy, precision, recall, f1 = model.fit_and_evaluate(log_directory=log_directory)\n",
    "print(f\"Accuracy: {accuracy}\\nPrecision: {precision}\\nRecall: {recall}\\nF1-Score: {f1}\")"
   ],
   "metadata": {
    "collapsed": false,
    "pycharm": {
     "name": "#%%\n"
    }
   }
  },
  {
   "cell_type": "code",
   "execution_count": 11,
   "outputs": [
    {
     "data": {
      "text/plain": "<Figure size 432x288 with 1 Axes>",
      "image/png": "[encoded data removed]"
     },
     "metadata": {
      "needs_background": "light"
     },
     "output_type": "display_data"
    }
   ],
   "source": [
    "history_dict = model.history.history\n",
    "\n",
    "acc = history_dict['accuracy']\n",
    "val_acc = history_dict['val_accuracy']\n",
    "loss = history_dict['loss']\n",
    "val_loss = history_dict['val_loss']\n",
    "\n",
    "epochs = range(1, len(acc) + 1)\n",
    "\n",
    "# \"bo\" is for \"blue dot\"\n",
    "plt.plot(epochs, loss, 'bo', label='Training loss')\n",
    "# b is for \"solid blue line\"\n",
    "plt.plot(epochs, val_loss, 'b', label='Validation loss')\n",
    "plt.title('Training and validation loss')\n",
    "plt.xlabel('Epochs')\n",
    "plt.ylabel('Loss')\n",
    "plt.legend()\n",
    "\n",
    "plt.show()"
   ],
   "metadata": {
    "collapsed": false,
    "pycharm": {
     "name": "#%%\n"
    }
   }
  },
  {
   "cell_type": "code",
   "execution_count": 12,
   "outputs": [
    {
     "data": {
      "text/plain": "<Figure size 432x288 with 1 Axes>",
      "image/png": "[encoded data removed]"
     },
     "metadata": {
      "needs_background": "light"
     },
     "output_type": "display_data"
    }
   ],
   "source": [
    "plt.plot(epochs, acc, 'bo', label='Training acc')\n",
    "plt.plot(epochs, val_acc, 'b', label='Validation acc')\n",
    "plt.title('Training and validation accuracy')\n",
    "plt.xlabel('Epochs')\n",
    "plt.ylabel('Accuracy')\n",
    "plt.legend(loc='lower right')\n",
    "\n",
    "plt.show()"
   ],
   "metadata": {
    "collapsed": false,
    "pycharm": {
     "name": "#%%\n"
    }
   }
  },
  {
   "cell_type": "code",
   "execution_count": 13,
   "outputs": [],
   "source": [
    "# batch_pipeline = BatchPipeline(dataset, submission_test_dataset, batch_size)\n",
    "# predictions = base_model.predict_for_kaggle(batch_pipeline.submission_test_dataset)\n",
    "# print(f\"Predictions: {predictions}\")"
   ],
   "metadata": {
    "collapsed": false,
    "pycharm": {
     "name": "#%%\n"
    }
   }
  },
  {
   "cell_type": "code",
   "execution_count": 14,
   "outputs": [],
   "source": [
    "# submission_test_dataframe = data_pipeline.get_dataframe_from_csv(sample_submission_file_name).fillna(\" \")\n",
    "#\n",
    "# utils.create_submission_for_kaggle(\"kaggle_predictions_BaseModel.txt\", submission_test_dataframe[\"id\"].values, predictions)"
   ],
   "metadata": {
    "collapsed": false,
    "pycharm": {
     "name": "#%%\n"
    }
   }
  },
  {
   "cell_type": "code",
   "execution_count": 15,
   "outputs": [],
   "source": [
    "# %load_ext tensorboard"
   ],
   "metadata": {
    "collapsed": false,
    "pycharm": {
     "name": "#%%\n"
    }
   }
  },
  {
   "cell_type": "code",
   "execution_count": 16,
   "outputs": [],
   "source": [
    "# tensorboard --logdir logs/hyperparameter_tuning --port 5000"
   ],
   "metadata": {
    "collapsed": false,
    "pycharm": {
     "name": "#%%\n"
    }
   }
  }
 ],
 "metadata": {
  "kernelspec": {
   "display_name": "Python 3",
   "language": "python",
   "name": "python3"
  },
  "language_info": {
   "codemirror_mode": {
    "name": "ipython",
    "version": 2
   },
   "file_extension": ".py",
   "mimetype": "text/x-python",
   "name": "python",
   "nbconvert_exporter": "python",
   "pygments_lexer": "ipython2",
   "version": "2.7.6"
  }
 },
 "nbformat": 4,
 "nbformat_minor": 0
}